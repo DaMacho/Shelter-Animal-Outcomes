{
 "cells": [
  {
   "cell_type": "code",
   "execution_count": 62,
   "metadata": {
    "collapsed": true
   },
   "outputs": [],
   "source": [
    "from sklearn.preprocessing import OneHotEncoder\n",
    "import pickle\n",
    "import pandas as pd\n",
    "import numpy as np\n",
    "import matplotlib.pyplot as plt\n",
    "import seaborn as sns\n",
    "from pandas import DataFrame, Series\n",
    "import re\n",
    "%matplotlib inline"
   ]
  },
  {
   "cell_type": "code",
   "execution_count": 63,
   "metadata": {
    "collapsed": true
   },
   "outputs": [],
   "source": [
    "# XGBoost 등에 catval 을 쓰기 위해 인코딩을 하는데, 그 방법에 따른 결과의 차이가 발생하는지?"
   ]
  },
  {
   "cell_type": "markdown",
   "metadata": {},
   "source": [
    "* pkl 불러오기"
   ]
  },
  {
   "cell_type": "code",
   "execution_count": 64,
   "metadata": {
    "collapsed": true
   },
   "outputs": [],
   "source": [
    "df = pd.read_pickle('data/main.pkl')\n",
    "Dog = pd.read_pickle('data/Dog.pkl')\n",
    "Cat = pd.read_pickle('data/Cat.pkl')"
   ]
  },
  {
   "cell_type": "code",
   "execution_count": 65,
   "metadata": {},
   "outputs": [
    {
     "data": {
      "text/html": [
       "<div>\n",
       "<style>\n",
       "    .dataframe thead tr:only-child th {\n",
       "        text-align: right;\n",
       "    }\n",
       "\n",
       "    .dataframe thead th {\n",
       "        text-align: left;\n",
       "    }\n",
       "\n",
       "    .dataframe tbody tr th {\n",
       "        vertical-align: top;\n",
       "    }\n",
       "</style>\n",
       "<table border=\"1\" class=\"dataframe\">\n",
       "  <thead>\n",
       "    <tr style=\"text-align: right;\">\n",
       "      <th></th>\n",
       "      <th>AnimalID</th>\n",
       "      <th>Name</th>\n",
       "      <th>DateTime</th>\n",
       "      <th>OutcomeType</th>\n",
       "      <th>OutcomeSubtype</th>\n",
       "      <th>AnimalType</th>\n",
       "      <th>SexuponOutcome</th>\n",
       "      <th>AgeuponOutcome</th>\n",
       "      <th>Breed</th>\n",
       "      <th>Color</th>\n",
       "      <th>AgeGroup</th>\n",
       "      <th>Type</th>\n",
       "      <th>numCol</th>\n",
       "    </tr>\n",
       "  </thead>\n",
       "  <tbody>\n",
       "    <tr>\n",
       "      <th>26724</th>\n",
       "      <td>A702446</td>\n",
       "      <td>Unnamed</td>\n",
       "      <td>2015-05-14 11:56:00</td>\n",
       "      <td>Transfer</td>\n",
       "      <td>Partner</td>\n",
       "      <td>Cat</td>\n",
       "      <td>Intact Male</td>\n",
       "      <td>30</td>\n",
       "      <td>Domestic Shorthair Mix</td>\n",
       "      <td>dark</td>\n",
       "      <td>month</td>\n",
       "      <td>Mix</td>\n",
       "      <td>1</td>\n",
       "    </tr>\n",
       "    <tr>\n",
       "      <th>26725</th>\n",
       "      <td>A718934</td>\n",
       "      <td>Unnamed</td>\n",
       "      <td>2016-01-20 18:59:00</td>\n",
       "      <td>Transfer</td>\n",
       "      <td>SCRP</td>\n",
       "      <td>Cat</td>\n",
       "      <td>Spayed Female</td>\n",
       "      <td>90</td>\n",
       "      <td>Domestic Shorthair Mix</td>\n",
       "      <td>dark</td>\n",
       "      <td>month</td>\n",
       "      <td>Mix</td>\n",
       "      <td>0</td>\n",
       "    </tr>\n",
       "    <tr>\n",
       "      <th>26726</th>\n",
       "      <td>A698128</td>\n",
       "      <td>Named</td>\n",
       "      <td>2015-03-09 13:33:00</td>\n",
       "      <td>Adoption</td>\n",
       "      <td>None</td>\n",
       "      <td>Dog</td>\n",
       "      <td>Neutered Male</td>\n",
       "      <td>1460</td>\n",
       "      <td>Old English Bulldog Mix</td>\n",
       "      <td>light</td>\n",
       "      <td>year</td>\n",
       "      <td>Mix</td>\n",
       "      <td>1</td>\n",
       "    </tr>\n",
       "    <tr>\n",
       "      <th>26727</th>\n",
       "      <td>A677478</td>\n",
       "      <td>Unnamed</td>\n",
       "      <td>2014-04-27 12:22:00</td>\n",
       "      <td>Transfer</td>\n",
       "      <td>Partner</td>\n",
       "      <td>Cat</td>\n",
       "      <td>Intact Male</td>\n",
       "      <td>28</td>\n",
       "      <td>Domestic Shorthair Mix</td>\n",
       "      <td>dark</td>\n",
       "      <td>week</td>\n",
       "      <td>Mix</td>\n",
       "      <td>0</td>\n",
       "    </tr>\n",
       "    <tr>\n",
       "      <th>26728</th>\n",
       "      <td>A706629</td>\n",
       "      <td>Unnamed</td>\n",
       "      <td>2015-07-02 09:00:00</td>\n",
       "      <td>Transfer</td>\n",
       "      <td>SCRP</td>\n",
       "      <td>Cat</td>\n",
       "      <td>Intact Male</td>\n",
       "      <td>365</td>\n",
       "      <td>Domestic Shorthair Mix</td>\n",
       "      <td>dark</td>\n",
       "      <td>year</td>\n",
       "      <td>Mix</td>\n",
       "      <td>1</td>\n",
       "    </tr>\n",
       "  </tbody>\n",
       "</table>\n",
       "</div>"
      ],
      "text/plain": [
       "      AnimalID     Name             DateTime OutcomeType OutcomeSubtype  \\\n",
       "26724  A702446  Unnamed  2015-05-14 11:56:00    Transfer        Partner   \n",
       "26725  A718934  Unnamed  2016-01-20 18:59:00    Transfer           SCRP   \n",
       "26726  A698128    Named  2015-03-09 13:33:00    Adoption           None   \n",
       "26727  A677478  Unnamed  2014-04-27 12:22:00    Transfer        Partner   \n",
       "26728  A706629  Unnamed  2015-07-02 09:00:00    Transfer           SCRP   \n",
       "\n",
       "      AnimalType SexuponOutcome  AgeuponOutcome                    Breed  \\\n",
       "26724        Cat    Intact Male              30   Domestic Shorthair Mix   \n",
       "26725        Cat  Spayed Female              90   Domestic Shorthair Mix   \n",
       "26726        Dog  Neutered Male            1460  Old English Bulldog Mix   \n",
       "26727        Cat    Intact Male              28   Domestic Shorthair Mix   \n",
       "26728        Cat    Intact Male             365   Domestic Shorthair Mix   \n",
       "\n",
       "       Color AgeGroup Type  numCol  \n",
       "26724   dark    month  Mix       1  \n",
       "26725   dark    month  Mix       0  \n",
       "26726  light     year  Mix       1  \n",
       "26727   dark     week  Mix       0  \n",
       "26728   dark     year  Mix       1  "
      ]
     },
     "execution_count": 65,
     "metadata": {},
     "output_type": "execute_result"
    }
   ],
   "source": [
    "df.tail()"
   ]
  },
  {
   "cell_type": "code",
   "execution_count": 66,
   "metadata": {},
   "outputs": [
    {
     "data": {
      "text/html": [
       "<div>\n",
       "<style>\n",
       "    .dataframe thead tr:only-child th {\n",
       "        text-align: right;\n",
       "    }\n",
       "\n",
       "    .dataframe thead th {\n",
       "        text-align: left;\n",
       "    }\n",
       "\n",
       "    .dataframe tbody tr th {\n",
       "        vertical-align: top;\n",
       "    }\n",
       "</style>\n",
       "<table border=\"1\" class=\"dataframe\">\n",
       "  <thead>\n",
       "    <tr style=\"text-align: right;\">\n",
       "      <th></th>\n",
       "      <th>AnimalID</th>\n",
       "      <th>Name</th>\n",
       "      <th>DateTime</th>\n",
       "      <th>OutcomeType</th>\n",
       "      <th>OutcomeSubtype</th>\n",
       "      <th>AnimalType</th>\n",
       "      <th>SexuponOutcome</th>\n",
       "      <th>AgeuponOutcome</th>\n",
       "      <th>Breed</th>\n",
       "      <th>Color</th>\n",
       "      <th>AgeGroup</th>\n",
       "      <th>Type</th>\n",
       "      <th>numCol</th>\n",
       "      <th>AKC</th>\n",
       "    </tr>\n",
       "  </thead>\n",
       "  <tbody>\n",
       "    <tr>\n",
       "      <th>0</th>\n",
       "      <td>A671945</td>\n",
       "      <td>Named</td>\n",
       "      <td>2014-02-12 18:22:00</td>\n",
       "      <td>Return_to_owner</td>\n",
       "      <td>None</td>\n",
       "      <td>Dog</td>\n",
       "      <td>Neutered Male</td>\n",
       "      <td>365</td>\n",
       "      <td>Shetland Sheepdog</td>\n",
       "      <td>dark</td>\n",
       "      <td>year</td>\n",
       "      <td>Mix</td>\n",
       "      <td>1</td>\n",
       "      <td>Herding</td>\n",
       "    </tr>\n",
       "    <tr>\n",
       "      <th>2</th>\n",
       "      <td>A686464</td>\n",
       "      <td>Named</td>\n",
       "      <td>2015-01-31 12:28:00</td>\n",
       "      <td>Adoption</td>\n",
       "      <td>Foster</td>\n",
       "      <td>Dog</td>\n",
       "      <td>Neutered Male</td>\n",
       "      <td>730</td>\n",
       "      <td>Bull Terrier</td>\n",
       "      <td>medium</td>\n",
       "      <td>year</td>\n",
       "      <td>Mix</td>\n",
       "      <td>1</td>\n",
       "      <td>Terrier</td>\n",
       "    </tr>\n",
       "    <tr>\n",
       "      <th>4</th>\n",
       "      <td>A667013</td>\n",
       "      <td>Unnamed</td>\n",
       "      <td>2013-11-15 12:52:00</td>\n",
       "      <td>Transfer</td>\n",
       "      <td>Partner</td>\n",
       "      <td>Dog</td>\n",
       "      <td>Neutered Male</td>\n",
       "      <td>730</td>\n",
       "      <td>Lhasa Apso</td>\n",
       "      <td>medium</td>\n",
       "      <td>year</td>\n",
       "      <td>Mix</td>\n",
       "      <td>0</td>\n",
       "      <td>Non-Sporting</td>\n",
       "    </tr>\n",
       "    <tr>\n",
       "      <th>5</th>\n",
       "      <td>A677334</td>\n",
       "      <td>Named</td>\n",
       "      <td>2014-04-25 13:04:00</td>\n",
       "      <td>Transfer</td>\n",
       "      <td>Partner</td>\n",
       "      <td>Dog</td>\n",
       "      <td>Intact Female</td>\n",
       "      <td>30</td>\n",
       "      <td>Cairn Terrier</td>\n",
       "      <td>dark</td>\n",
       "      <td>month</td>\n",
       "      <td>Mix</td>\n",
       "      <td>1</td>\n",
       "      <td>Terrier</td>\n",
       "    </tr>\n",
       "    <tr>\n",
       "      <th>8</th>\n",
       "      <td>A671784</td>\n",
       "      <td>Named</td>\n",
       "      <td>2014-02-04 17:17:00</td>\n",
       "      <td>Adoption</td>\n",
       "      <td>None</td>\n",
       "      <td>Dog</td>\n",
       "      <td>Spayed Female</td>\n",
       "      <td>150</td>\n",
       "      <td>American Pit Bull Terrier</td>\n",
       "      <td>medium</td>\n",
       "      <td>month</td>\n",
       "      <td>Mix</td>\n",
       "      <td>1</td>\n",
       "      <td>Terrier</td>\n",
       "    </tr>\n",
       "  </tbody>\n",
       "</table>\n",
       "</div>"
      ],
      "text/plain": [
       "  AnimalID     Name             DateTime      OutcomeType OutcomeSubtype  \\\n",
       "0  A671945    Named  2014-02-12 18:22:00  Return_to_owner           None   \n",
       "2  A686464    Named  2015-01-31 12:28:00         Adoption         Foster   \n",
       "4  A667013  Unnamed  2013-11-15 12:52:00         Transfer        Partner   \n",
       "5  A677334    Named  2014-04-25 13:04:00         Transfer        Partner   \n",
       "8  A671784    Named  2014-02-04 17:17:00         Adoption           None   \n",
       "\n",
       "  AnimalType SexuponOutcome  AgeuponOutcome                      Breed  \\\n",
       "0        Dog  Neutered Male             365          Shetland Sheepdog   \n",
       "2        Dog  Neutered Male             730               Bull Terrier   \n",
       "4        Dog  Neutered Male             730                 Lhasa Apso   \n",
       "5        Dog  Intact Female              30              Cairn Terrier   \n",
       "8        Dog  Spayed Female             150  American Pit Bull Terrier   \n",
       "\n",
       "    Color AgeGroup Type  numCol           AKC  \n",
       "0    dark     year  Mix       1       Herding  \n",
       "2  medium     year  Mix       1       Terrier  \n",
       "4  medium     year  Mix       0  Non-Sporting  \n",
       "5    dark    month  Mix       1       Terrier  \n",
       "8  medium    month  Mix       1       Terrier  "
      ]
     },
     "execution_count": 66,
     "metadata": {},
     "output_type": "execute_result"
    }
   ],
   "source": [
    "Dog.head()"
   ]
  },
  {
   "cell_type": "code",
   "execution_count": 67,
   "metadata": {},
   "outputs": [
    {
     "data": {
      "text/html": [
       "<div>\n",
       "<style>\n",
       "    .dataframe thead tr:only-child th {\n",
       "        text-align: right;\n",
       "    }\n",
       "\n",
       "    .dataframe thead th {\n",
       "        text-align: left;\n",
       "    }\n",
       "\n",
       "    .dataframe tbody tr th {\n",
       "        vertical-align: top;\n",
       "    }\n",
       "</style>\n",
       "<table border=\"1\" class=\"dataframe\">\n",
       "  <thead>\n",
       "    <tr style=\"text-align: right;\">\n",
       "      <th></th>\n",
       "      <th>AnimalID</th>\n",
       "      <th>Name</th>\n",
       "      <th>DateTime</th>\n",
       "      <th>OutcomeType</th>\n",
       "      <th>OutcomeSubtype</th>\n",
       "      <th>AnimalType</th>\n",
       "      <th>SexuponOutcome</th>\n",
       "      <th>AgeuponOutcome</th>\n",
       "      <th>Breed</th>\n",
       "      <th>Color</th>\n",
       "      <th>AgeGroup</th>\n",
       "      <th>Type</th>\n",
       "      <th>numCol</th>\n",
       "    </tr>\n",
       "  </thead>\n",
       "  <tbody>\n",
       "    <tr>\n",
       "      <th>26722</th>\n",
       "      <td>A687056</td>\n",
       "      <td>Unnamed</td>\n",
       "      <td>2014-08-31 09:00:00</td>\n",
       "      <td>Transfer</td>\n",
       "      <td>SCRP</td>\n",
       "      <td>Cat</td>\n",
       "      <td>Intact Male</td>\n",
       "      <td>150</td>\n",
       "      <td>Domestic Shorthair Mix</td>\n",
       "      <td>light</td>\n",
       "      <td>month</td>\n",
       "      <td>Mix</td>\n",
       "      <td>0</td>\n",
       "    </tr>\n",
       "    <tr>\n",
       "      <th>26724</th>\n",
       "      <td>A702446</td>\n",
       "      <td>Unnamed</td>\n",
       "      <td>2015-05-14 11:56:00</td>\n",
       "      <td>Transfer</td>\n",
       "      <td>Partner</td>\n",
       "      <td>Cat</td>\n",
       "      <td>Intact Male</td>\n",
       "      <td>30</td>\n",
       "      <td>Domestic Shorthair Mix</td>\n",
       "      <td>dark</td>\n",
       "      <td>month</td>\n",
       "      <td>Mix</td>\n",
       "      <td>1</td>\n",
       "    </tr>\n",
       "    <tr>\n",
       "      <th>26725</th>\n",
       "      <td>A718934</td>\n",
       "      <td>Unnamed</td>\n",
       "      <td>2016-01-20 18:59:00</td>\n",
       "      <td>Transfer</td>\n",
       "      <td>SCRP</td>\n",
       "      <td>Cat</td>\n",
       "      <td>Spayed Female</td>\n",
       "      <td>90</td>\n",
       "      <td>Domestic Shorthair Mix</td>\n",
       "      <td>dark</td>\n",
       "      <td>month</td>\n",
       "      <td>Mix</td>\n",
       "      <td>0</td>\n",
       "    </tr>\n",
       "    <tr>\n",
       "      <th>26727</th>\n",
       "      <td>A677478</td>\n",
       "      <td>Unnamed</td>\n",
       "      <td>2014-04-27 12:22:00</td>\n",
       "      <td>Transfer</td>\n",
       "      <td>Partner</td>\n",
       "      <td>Cat</td>\n",
       "      <td>Intact Male</td>\n",
       "      <td>28</td>\n",
       "      <td>Domestic Shorthair Mix</td>\n",
       "      <td>dark</td>\n",
       "      <td>week</td>\n",
       "      <td>Mix</td>\n",
       "      <td>0</td>\n",
       "    </tr>\n",
       "    <tr>\n",
       "      <th>26728</th>\n",
       "      <td>A706629</td>\n",
       "      <td>Unnamed</td>\n",
       "      <td>2015-07-02 09:00:00</td>\n",
       "      <td>Transfer</td>\n",
       "      <td>SCRP</td>\n",
       "      <td>Cat</td>\n",
       "      <td>Intact Male</td>\n",
       "      <td>365</td>\n",
       "      <td>Domestic Shorthair Mix</td>\n",
       "      <td>dark</td>\n",
       "      <td>year</td>\n",
       "      <td>Mix</td>\n",
       "      <td>1</td>\n",
       "    </tr>\n",
       "  </tbody>\n",
       "</table>\n",
       "</div>"
      ],
      "text/plain": [
       "      AnimalID     Name             DateTime OutcomeType OutcomeSubtype  \\\n",
       "26722  A687056  Unnamed  2014-08-31 09:00:00    Transfer           SCRP   \n",
       "26724  A702446  Unnamed  2015-05-14 11:56:00    Transfer        Partner   \n",
       "26725  A718934  Unnamed  2016-01-20 18:59:00    Transfer           SCRP   \n",
       "26727  A677478  Unnamed  2014-04-27 12:22:00    Transfer        Partner   \n",
       "26728  A706629  Unnamed  2015-07-02 09:00:00    Transfer           SCRP   \n",
       "\n",
       "      AnimalType SexuponOutcome  AgeuponOutcome                   Breed  \\\n",
       "26722        Cat    Intact Male             150  Domestic Shorthair Mix   \n",
       "26724        Cat    Intact Male              30  Domestic Shorthair Mix   \n",
       "26725        Cat  Spayed Female              90  Domestic Shorthair Mix   \n",
       "26727        Cat    Intact Male              28  Domestic Shorthair Mix   \n",
       "26728        Cat    Intact Male             365  Domestic Shorthair Mix   \n",
       "\n",
       "       Color AgeGroup Type  numCol  \n",
       "26722  light    month  Mix       0  \n",
       "26724   dark    month  Mix       1  \n",
       "26725   dark    month  Mix       0  \n",
       "26727   dark     week  Mix       0  \n",
       "26728   dark     year  Mix       1  "
      ]
     },
     "execution_count": 67,
     "metadata": {},
     "output_type": "execute_result"
    }
   ],
   "source": [
    "Cat.tail()"
   ]
  },
  {
   "cell_type": "markdown",
   "metadata": {},
   "source": [
    "## 더미화"
   ]
  },
  {
   "cell_type": "code",
   "execution_count": 68,
   "metadata": {
    "collapsed": true
   },
   "outputs": [],
   "source": [
    "from sklearn.preprocessing import LabelEncoder\n",
    "encoder = LabelEncoder()\n",
    "Dog['OutcomeType'] = encoder.fit_transform(Dog['OutcomeType'])\n",
    "Dog['Name'] = encoder.fit_transform(Dog['Name'])\n",
    "Dog['SexuponOutcome'] = encoder.fit_transform(Dog['SexuponOutcome'])\n",
    "Dog['Type'] = encoder.fit_transform(Dog['Type'])\n",
    "Dog['AKC'] = encoder.fit_transform(Dog['AKC'])\n",
    "Dog['Color'] = encoder.fit_transform(Dog['Color'])\n",
    "Dog['Breed'] = encoder.fit_transform(Dog['Breed'])\n",
    "Dog['AgeGroup'] = encoder.fit_transform(Dog['AgeGroup'])"
   ]
  },
  {
   "cell_type": "code",
   "execution_count": 69,
   "metadata": {},
   "outputs": [
    {
     "data": {
      "text/html": [
       "<div>\n",
       "<style>\n",
       "    .dataframe thead tr:only-child th {\n",
       "        text-align: right;\n",
       "    }\n",
       "\n",
       "    .dataframe thead th {\n",
       "        text-align: left;\n",
       "    }\n",
       "\n",
       "    .dataframe tbody tr th {\n",
       "        vertical-align: top;\n",
       "    }\n",
       "</style>\n",
       "<table border=\"1\" class=\"dataframe\">\n",
       "  <thead>\n",
       "    <tr style=\"text-align: right;\">\n",
       "      <th></th>\n",
       "      <th>AnimalID</th>\n",
       "      <th>Name</th>\n",
       "      <th>DateTime</th>\n",
       "      <th>OutcomeType</th>\n",
       "      <th>OutcomeSubtype</th>\n",
       "      <th>AnimalType</th>\n",
       "      <th>SexuponOutcome</th>\n",
       "      <th>AgeuponOutcome</th>\n",
       "      <th>Breed</th>\n",
       "      <th>Color</th>\n",
       "      <th>AgeGroup</th>\n",
       "      <th>Type</th>\n",
       "      <th>numCol</th>\n",
       "      <th>AKC</th>\n",
       "    </tr>\n",
       "  </thead>\n",
       "  <tbody>\n",
       "    <tr>\n",
       "      <th>26716</th>\n",
       "      <td>A697158</td>\n",
       "      <td>0</td>\n",
       "      <td>2015-05-02 21:04:00</td>\n",
       "      <td>0</td>\n",
       "      <td>Offsite</td>\n",
       "      <td>Dog</td>\n",
       "      <td>2</td>\n",
       "      <td>60</td>\n",
       "      <td>117</td>\n",
       "      <td>2</td>\n",
       "      <td>1</td>\n",
       "      <td>0</td>\n",
       "      <td>1</td>\n",
       "      <td>6</td>\n",
       "    </tr>\n",
       "    <tr>\n",
       "      <th>26717</th>\n",
       "      <td>A519949</td>\n",
       "      <td>0</td>\n",
       "      <td>2014-06-30 17:34:00</td>\n",
       "      <td>3</td>\n",
       "      <td>None</td>\n",
       "      <td>Dog</td>\n",
       "      <td>3</td>\n",
       "      <td>3285</td>\n",
       "      <td>45</td>\n",
       "      <td>1</td>\n",
       "      <td>3</td>\n",
       "      <td>0</td>\n",
       "      <td>0</td>\n",
       "      <td>6</td>\n",
       "    </tr>\n",
       "    <tr>\n",
       "      <th>26718</th>\n",
       "      <td>A701044</td>\n",
       "      <td>1</td>\n",
       "      <td>2015-04-28 14:26:00</td>\n",
       "      <td>0</td>\n",
       "      <td>None</td>\n",
       "      <td>Dog</td>\n",
       "      <td>2</td>\n",
       "      <td>60</td>\n",
       "      <td>150</td>\n",
       "      <td>1</td>\n",
       "      <td>1</td>\n",
       "      <td>0</td>\n",
       "      <td>1</td>\n",
       "      <td>6</td>\n",
       "    </tr>\n",
       "    <tr>\n",
       "      <th>26723</th>\n",
       "      <td>A716997</td>\n",
       "      <td>0</td>\n",
       "      <td>2016-01-29 18:52:00</td>\n",
       "      <td>0</td>\n",
       "      <td>None</td>\n",
       "      <td>Dog</td>\n",
       "      <td>2</td>\n",
       "      <td>2190</td>\n",
       "      <td>11</td>\n",
       "      <td>3</td>\n",
       "      <td>3</td>\n",
       "      <td>0</td>\n",
       "      <td>1</td>\n",
       "      <td>4</td>\n",
       "    </tr>\n",
       "    <tr>\n",
       "      <th>26726</th>\n",
       "      <td>A698128</td>\n",
       "      <td>0</td>\n",
       "      <td>2015-03-09 13:33:00</td>\n",
       "      <td>0</td>\n",
       "      <td>None</td>\n",
       "      <td>Dog</td>\n",
       "      <td>2</td>\n",
       "      <td>1460</td>\n",
       "      <td>122</td>\n",
       "      <td>2</td>\n",
       "      <td>3</td>\n",
       "      <td>0</td>\n",
       "      <td>1</td>\n",
       "      <td>2</td>\n",
       "    </tr>\n",
       "  </tbody>\n",
       "</table>\n",
       "</div>"
      ],
      "text/plain": [
       "      AnimalID  Name             DateTime  OutcomeType OutcomeSubtype  \\\n",
       "26716  A697158     0  2015-05-02 21:04:00            0        Offsite   \n",
       "26717  A519949     0  2014-06-30 17:34:00            3           None   \n",
       "26718  A701044     1  2015-04-28 14:26:00            0           None   \n",
       "26723  A716997     0  2016-01-29 18:52:00            0           None   \n",
       "26726  A698128     0  2015-03-09 13:33:00            0           None   \n",
       "\n",
       "      AnimalType  SexuponOutcome  AgeuponOutcome  Breed  Color  AgeGroup  \\\n",
       "26716        Dog               2              60    117      2         1   \n",
       "26717        Dog               3            3285     45      1         3   \n",
       "26718        Dog               2              60    150      1         1   \n",
       "26723        Dog               2            2190     11      3         3   \n",
       "26726        Dog               2            1460    122      2         3   \n",
       "\n",
       "       Type  numCol  AKC  \n",
       "26716     0       1    6  \n",
       "26717     0       0    6  \n",
       "26718     0       1    6  \n",
       "26723     0       1    4  \n",
       "26726     0       1    2  "
      ]
     },
     "execution_count": 69,
     "metadata": {},
     "output_type": "execute_result"
    }
   ],
   "source": [
    "Dog.tail()"
   ]
  },
  {
   "cell_type": "code",
   "execution_count": 70,
   "metadata": {
    "collapsed": true
   },
   "outputs": [],
   "source": [
    "X = Dog[['SexuponOutcome', 'AgeuponOutcome', 'AKC', 'Type', 'Name']]\n",
    "y = Dog['OutcomeType']"
   ]
  },
  {
   "cell_type": "code",
   "execution_count": 71,
   "metadata": {
    "collapsed": true
   },
   "outputs": [],
   "source": [
    "from sklearn.model_selection import train_test_split\n",
    "X_train, X_test, y_train, y_test = train_test_split(X, y, stratify=y)"
   ]
  },
  {
   "cell_type": "markdown",
   "metadata": {},
   "source": [
    "## 분류나무 실행"
   ]
  },
  {
   "cell_type": "code",
   "execution_count": 72,
   "metadata": {
    "collapsed": true
   },
   "outputs": [],
   "source": [
    "from sklearn.tree import DecisionTreeClassifier\n",
    "clf = DecisionTreeClassifier(max_depth=3)"
   ]
  },
  {
   "cell_type": "code",
   "execution_count": 73,
   "metadata": {
    "collapsed": true
   },
   "outputs": [],
   "source": [
    "clf = clf.fit(X_train, y_train)"
   ]
  },
  {
   "cell_type": "code",
   "execution_count": 74,
   "metadata": {},
   "outputs": [
    {
     "name": "stdout",
     "output_type": "stream",
     "text": [
      "0.535567715458\n",
      "0.541164401128\n"
     ]
    }
   ],
   "source": [
    "print(clf.score(X_train, y_train))\n",
    "print(clf.score(X_test, y_test))"
   ]
  },
  {
   "cell_type": "code",
   "execution_count": 75,
   "metadata": {},
   "outputs": [
    {
     "data": {
      "text/plain": [
       "array([ 0.51277694,  0.38200985,  0.        ,  0.        ,  0.10521321])"
      ]
     },
     "execution_count": 75,
     "metadata": {},
     "output_type": "execute_result"
    }
   ],
   "source": [
    "clf.feature_importances_"
   ]
  },
  {
   "cell_type": "code",
   "execution_count": 76,
   "metadata": {
    "collapsed": true
   },
   "outputs": [],
   "source": [
    "from IPython.display import Image\n",
    "from sklearn import tree\n",
    "import pydotplus \n",
    "import graphviz"
   ]
  },
  {
   "cell_type": "code",
   "execution_count": 77,
   "metadata": {
    "collapsed": true
   },
   "outputs": [],
   "source": [
    "# class, feature name에 자동으로 들어가는 방법 없는지?"
   ]
  },
  {
   "cell_type": "code",
   "execution_count": 78,
   "metadata": {},
   "outputs": [
    {
     "data": {
      "text/plain": [
       "0        3\n",
       "2        0\n",
       "4        4\n",
       "5        4\n",
       "8        0\n",
       "9        0\n",
       "11       0\n",
       "12       0\n",
       "13       3\n",
       "14       3\n",
       "17       4\n",
       "19       3\n",
       "20       4\n",
       "22       0\n",
       "23       0\n",
       "24       3\n",
       "26       0\n",
       "27       0\n",
       "31       4\n",
       "33       3\n",
       "34       4\n",
       "35       2\n",
       "36       3\n",
       "45       3\n",
       "48       0\n",
       "49       2\n",
       "53       0\n",
       "57       4\n",
       "58       3\n",
       "59       0\n",
       "        ..\n",
       "26672    3\n",
       "26674    3\n",
       "26676    2\n",
       "26678    3\n",
       "26679    4\n",
       "26680    3\n",
       "26681    3\n",
       "26684    3\n",
       "26686    0\n",
       "26688    4\n",
       "26689    3\n",
       "26690    4\n",
       "26694    2\n",
       "26695    3\n",
       "26696    0\n",
       "26697    3\n",
       "26699    2\n",
       "26700    3\n",
       "26701    4\n",
       "26708    4\n",
       "26709    0\n",
       "26710    4\n",
       "26711    4\n",
       "26712    3\n",
       "26715    0\n",
       "26716    0\n",
       "26717    3\n",
       "26718    0\n",
       "26723    0\n",
       "26726    0\n",
       "Name: OutcomeType, Length: 15595, dtype: int64"
      ]
     },
     "execution_count": 78,
     "metadata": {},
     "output_type": "execute_result"
    }
   ],
   "source": [
    "y"
   ]
  },
  {
   "cell_type": "code",
   "execution_count": 79,
   "metadata": {
    "scrolled": false
   },
   "outputs": [
    {
     "data": {
      "image/png": "[encoded data removed]",
      "text/plain": [
       "<IPython.core.display.Image object>"
      ]
     },
     "execution_count": 79,
     "metadata": {},
     "output_type": "execute_result"
    }
   ],
   "source": [
    "dot_data = tree.export_graphviz(clf, out_file=None, filled=True, rounded=True, special_characters=True, max_depth=3,\n",
    "                               feature_names=X.columns,\n",
    "                               class_names=['Adoption', 'Euthanasia', 'Return to owner', 'Transfer', 'Died'])\n",
    "graph = pydotplus.graph_from_dot_data(dot_data)\n",
    "Image(graph.create_png())"
   ]
  },
  {
   "cell_type": "markdown",
   "metadata": {},
   "source": [
    "## Random Forest"
   ]
  },
  {
   "cell_type": "code",
   "execution_count": 80,
   "metadata": {
    "collapsed": true
   },
   "outputs": [],
   "source": [
    "from sklearn.ensemble import RandomForestClassifier"
   ]
  },
  {
   "cell_type": "code",
   "execution_count": 81,
   "metadata": {},
   "outputs": [
    {
     "data": {
      "text/plain": [
       "RandomForestClassifier(bootstrap=True, class_weight=None, criterion='gini',\n",
       "            max_depth=None, max_features='auto', max_leaf_nodes=None,\n",
       "            min_impurity_split=1e-07, min_samples_leaf=1,\n",
       "            min_samples_split=2, min_weight_fraction_leaf=0.0,\n",
       "            n_estimators=100, n_jobs=2, oob_score=False, random_state=2,\n",
       "            verbose=0, warm_start=False)"
      ]
     },
     "execution_count": 81,
     "metadata": {},
     "output_type": "execute_result"
    }
   ],
   "source": [
    "forest = RandomForestClassifier(n_estimators=100, random_state=2, n_jobs=2)\n",
    "forest.fit(X_train, y_train)"
   ]
  },
  {
   "cell_type": "code",
   "execution_count": 82,
   "metadata": {},
   "outputs": [
    {
     "data": {
      "text/plain": [
       "array([ 0.2994153 ,  0.45132756,  0.14938494,  0.02417069,  0.07570151])"
      ]
     },
     "execution_count": 82,
     "metadata": {},
     "output_type": "execute_result"
    }
   ],
   "source": [
    "forest.feature_importances_"
   ]
  },
  {
   "cell_type": "code",
   "execution_count": 83,
   "metadata": {},
   "outputs": [
    {
     "name": "stdout",
     "output_type": "stream",
     "text": [
      "0.620639534884\n",
      "0.550910489869\n"
     ]
    }
   ],
   "source": [
    "print(forest.score(X_train, y_train))\n",
    "print(forest.score(X_test, y_test))"
   ]
  },
  {
   "cell_type": "markdown",
   "metadata": {},
   "source": [
    "## Bagging"
   ]
  },
  {
   "cell_type": "code",
   "execution_count": 84,
   "metadata": {
    "collapsed": true
   },
   "outputs": [],
   "source": [
    "from sklearn.ensemble import BaggingClassifier"
   ]
  },
  {
   "cell_type": "code",
   "execution_count": 85,
   "metadata": {
    "collapsed": true
   },
   "outputs": [],
   "source": [
    "bagging = BaggingClassifier(DecisionTreeClassifier())"
   ]
  },
  {
   "cell_type": "code",
   "execution_count": 86,
   "metadata": {
    "scrolled": true
   },
   "outputs": [
    {
     "data": {
      "text/plain": [
       "BaggingClassifier(base_estimator=DecisionTreeClassifier(class_weight=None, criterion='gini', max_depth=None,\n",
       "            max_features=None, max_leaf_nodes=None,\n",
       "            min_impurity_split=1e-07, min_samples_leaf=1,\n",
       "            min_samples_split=2, min_weight_fraction_leaf=0.0,\n",
       "            presort=False, random_state=None, splitter='best'),\n",
       "         bootstrap=True, bootstrap_features=False, max_features=1.0,\n",
       "         max_samples=1.0, n_estimators=10, n_jobs=1, oob_score=False,\n",
       "         random_state=None, verbose=0, warm_start=False)"
      ]
     },
     "execution_count": 86,
     "metadata": {},
     "output_type": "execute_result"
    }
   ],
   "source": [
    "bagging.fit(X_train, y_train)"
   ]
  },
  {
   "cell_type": "code",
   "execution_count": 87,
   "metadata": {},
   "outputs": [
    {
     "name": "stdout",
     "output_type": "stream",
     "text": [
      "0.617390560876\n",
      "0.551936393947\n"
     ]
    }
   ],
   "source": [
    "print(bagging.score(X_train, y_train))\n",
    "print(bagging.score(X_test, y_test))"
   ]
  },
  {
   "cell_type": "markdown",
   "metadata": {},
   "source": [
    "## Gradient Boosting"
   ]
  },
  {
   "cell_type": "code",
   "execution_count": 88,
   "metadata": {
    "collapsed": true
   },
   "outputs": [],
   "source": [
    "from sklearn.ensemble import GradientBoostingClassifier"
   ]
  },
  {
   "cell_type": "code",
   "execution_count": 89,
   "metadata": {},
   "outputs": [
    {
     "data": {
      "text/plain": [
       "GradientBoostingClassifier(criterion='friedman_mse', init=None,\n",
       "              learning_rate=0.05, loss='deviance', max_depth=3,\n",
       "              max_features=None, max_leaf_nodes=None,\n",
       "              min_impurity_split=1e-07, min_samples_leaf=1,\n",
       "              min_samples_split=2, min_weight_fraction_leaf=0.0,\n",
       "              n_estimators=100, presort='auto', random_state=0,\n",
       "              subsample=1.0, verbose=0, warm_start=False)"
      ]
     },
     "execution_count": 89,
     "metadata": {},
     "output_type": "execute_result"
    }
   ],
   "source": [
    "gbrt = GradientBoostingClassifier(random_state=0, learning_rate=0.05)\n",
    "gbrt.fit(X_train, y_train)"
   ]
  },
  {
   "cell_type": "code",
   "execution_count": 90,
   "metadata": {},
   "outputs": [
    {
     "name": "stdout",
     "output_type": "stream",
     "text": [
      "0.579685362517\n",
      "0.57553218774\n"
     ]
    }
   ],
   "source": [
    "print(gbrt.score(X_train, y_train))\n",
    "print(gbrt.score(X_test, y_test))"
   ]
  },
  {
   "cell_type": "code",
   "execution_count": 91,
   "metadata": {},
   "outputs": [
    {
     "data": {
      "text/plain": [
       "array([[ 0.33271467,  0.00352473,  0.03976297,  0.46035688,  0.16364075],\n",
       "       [ 0.33192215,  0.00365073,  0.0441124 ,  0.45443199,  0.16588273],\n",
       "       [ 0.48840244,  0.00368016,  0.02900757,  0.31791586,  0.16099397],\n",
       "       ..., \n",
       "       [ 0.84745195,  0.00240241,  0.00704027,  0.01545697,  0.12764841],\n",
       "       [ 0.46199256,  0.00371956,  0.02973772,  0.32702186,  0.1775283 ],\n",
       "       [ 0.84745195,  0.00240241,  0.00704027,  0.01545697,  0.12764841]])"
      ]
     },
     "execution_count": 91,
     "metadata": {},
     "output_type": "execute_result"
    }
   ],
   "source": [
    "gbrt.predict_proba(X_test)"
   ]
  },
  {
   "cell_type": "markdown",
   "metadata": {},
   "source": [
    "## XGBoost"
   ]
  },
  {
   "cell_type": "code",
   "execution_count": 92,
   "metadata": {
    "collapsed": true
   },
   "outputs": [],
   "source": [
    "import xgboost as xgb"
   ]
  },
  {
   "cell_type": "code",
   "execution_count": 93,
   "metadata": {
    "collapsed": true
   },
   "outputs": [],
   "source": [
    "xgbr = xgb.XGBClassifier(n_estimators=100, max_depth=5)"
   ]
  },
  {
   "cell_type": "code",
   "execution_count": 94,
   "metadata": {
    "scrolled": false
   },
   "outputs": [
    {
     "data": {
      "text/plain": [
       "XGBClassifier(base_score=0.5, booster='gbtree', colsample_bylevel=1,\n",
       "       colsample_bytree=1, gamma=0, learning_rate=0.1, max_delta_step=0,\n",
       "       max_depth=5, min_child_weight=1, missing=None, n_estimators=100,\n",
       "       n_jobs=1, nthread=None, objective='multi:softprob', random_state=0,\n",
       "       reg_alpha=0, reg_lambda=1, scale_pos_weight=1, seed=None,\n",
       "       silent=True, subsample=1)"
      ]
     },
     "execution_count": 94,
     "metadata": {},
     "output_type": "execute_result"
    }
   ],
   "source": [
    "xgbr.fit(X_train, y_train)"
   ]
  },
  {
   "cell_type": "code",
   "execution_count": 95,
   "metadata": {
    "collapsed": true
   },
   "outputs": [],
   "source": [
    "from sklearn.metrics import mean_squared_error"
   ]
  },
  {
   "cell_type": "code",
   "execution_count": 96,
   "metadata": {},
   "outputs": [
    {
     "name": "stdout",
     "output_type": "stream",
     "text": [
      "0.586183310534\n",
      "0.577840471916\n"
     ]
    }
   ],
   "source": [
    "print(xgbr.score(X_train, y_train))\n",
    "print(xgbr.score(X_test, y_test))"
   ]
  },
  {
   "cell_type": "code",
   "execution_count": 97,
   "metadata": {},
   "outputs": [
    {
     "data": {
      "text/plain": [
       "3.5435191518467852"
      ]
     },
     "execution_count": 97,
     "metadata": {},
     "output_type": "execute_result"
    }
   ],
   "source": [
    "mean_squared_error(y_train, xgbr.predict(X_train))"
   ]
  },
  {
   "cell_type": "code",
   "execution_count": 98,
   "metadata": {},
   "outputs": [
    {
     "data": {
      "text/plain": [
       "3.5798922800718134"
      ]
     },
     "execution_count": 98,
     "metadata": {},
     "output_type": "execute_result"
    }
   ],
   "source": [
    "y_pred = xgbr.predict(X_test)\n",
    "mean_squared_error(y_test, y_pred)"
   ]
  },
  {
   "cell_type": "code",
   "execution_count": 99,
   "metadata": {},
   "outputs": [
    {
     "data": {
      "text/plain": [
       "<matplotlib.axes._subplots.AxesSubplot at 0x2483b930550>"
      ]
     },
     "execution_count": 99,
     "metadata": {},
     "output_type": "execute_result"
    },
    {
     "data": {
      "image/png": "[encoded data removed]",
      "text/plain": [
       "<matplotlib.figure.Figure at 0x2483b928dd8>"
      ]
     },
     "metadata": {},
     "output_type": "display_data"
    }
   ],
   "source": [
    "xgb.plot_importance(xgbr)"
   ]
  },
  {
   "cell_type": "code",
   "execution_count": 100,
   "metadata": {},
   "outputs": [
    {
     "data": {
      "image/svg+xml": [
       "<?xml version=\"1.0\" encoding=\"UTF-8\" standalone=\"no\"?>\r\n",
       "<!DOCTYPE svg PUBLIC \"-//W3C//DTD SVG 1.1//EN\"\r\n",
       " \"http://www.w3.org/Graphics/SVG/1.1/DTD/svg11.dtd\">\r\n",
       "<!-- Generated by graphviz version 2.38.0 (20140413.2041)\r\n",
       " -->\r\n",
       "<!-- Title: %3 Pages: 1 -->\r\n",
       "<svg width=\"2494pt\" height=\"1260pt\"\r\n",
       " viewBox=\"0.00 0.00 2493.50 1259.61\" xmlns=\"http://www.w3.org/2000/svg\" xmlns:xlink=\"http://www.w3.org/1999/xlink\">\r\n",
       "<g id=\"graph0\" class=\"graph\" transform=\"scale(1 1) rotate(0) translate(4 1255.61)\">\r\n",
       "<title>%3</title>\r\n",
       "<polygon fill=\"white\" stroke=\"none\" points=\"-4,4 -4,-1255.61 2489.5,-1255.61 2489.5,4 -4,4\"/>\r\n",
       "<!-- 0 -->\r\n",
       "<g id=\"node1\" class=\"node\"><title>0</title>\r\n",
       "<ellipse fill=\"none\" stroke=\"black\" cx=\"1061\" cy=\"-1165.17\" rx=\"86.3847\" ry=\"86.3847\"/>\r\n",
       "<text text-anchor=\"middle\" x=\"1061\" y=\"-1161.47\" font-family=\"Times New Roman,serif\" font-size=\"14.00\">SexuponOutcome&lt;2</text>\r\n",
       "</g>\r\n",
       "<!-- 1 -->\r\n",
       "<g id=\"node2\" class=\"node\"><title>1</title>\r\n",
       "<ellipse fill=\"none\" stroke=\"black\" cx=\"923\" cy=\"-931.539\" rx=\"41.6928\" ry=\"41.6928\"/>\r\n",
       "<text text-anchor=\"middle\" x=\"923\" y=\"-927.839\" font-family=\"Times New Roman,serif\" font-size=\"14.00\">Name&lt;1</text>\r\n",
       "</g>\r\n",
       "<!-- 0&#45;&gt;1 -->\r\n",
       "<g id=\"edge1\" class=\"edge\"><title>0&#45;&gt;1</title>\r\n",
       "<path fill=\"none\" stroke=\"#0000ff\" d=\"M1017.15,-1090.56C994.783,-1053.03 968.337,-1008.64 949.177,-976.476\"/>\r\n",
       "<polygon fill=\"#0000ff\" stroke=\"#0000ff\" points=\"952.1,-974.545 943.975,-967.745 946.086,-978.128 952.1,-974.545\"/>\r\n",
       "<text text-anchor=\"middle\" x=\"1031.5\" y=\"-1049.53\" font-family=\"Times New Roman,serif\" font-size=\"14.00\">yes, missing</text>\r\n",
       "</g>\r\n",
       "<!-- 2 -->\r\n",
       "<g id=\"node3\" class=\"node\"><title>2</title>\r\n",
       "<ellipse fill=\"none\" stroke=\"black\" cx=\"1163\" cy=\"-931.539\" rx=\"96.3833\" ry=\"96.3833\"/>\r\n",
       "<text text-anchor=\"middle\" x=\"1163\" y=\"-927.839\" font-family=\"Times New Roman,serif\" font-size=\"14.00\">AgeuponOutcome&lt;548</text>\r\n",
       "</g>\r\n",
       "<!-- 0&#45;&gt;2 -->\r\n",
       "<g id=\"edge2\" class=\"edge\"><title>0&#45;&gt;2</title>\r\n",
       "<path fill=\"none\" stroke=\"#ff0000\" d=\"M1095.53,-1085.75C1103.53,-1067.59 1112.13,-1048.06 1120.43,-1029.22\"/>\r\n",
       "<polygon fill=\"#ff0000\" stroke=\"#ff0000\" points=\"1123.64,-1030.6 1124.47,-1020.04 1117.24,-1027.78 1123.64,-1030.6\"/>\r\n",
       "<text text-anchor=\"middle\" x=\"1119.5\" y=\"-1049.53\" font-family=\"Times New Roman,serif\" font-size=\"14.00\">no</text>\r\n",
       "</g>\r\n",
       "<!-- 3 -->\r\n",
       "<g id=\"node4\" class=\"node\"><title>3</title>\r\n",
       "<ellipse fill=\"none\" stroke=\"black\" cx=\"677\" cy=\"-688.156\" rx=\"96.3833\" ry=\"96.3833\"/>\r\n",
       "<text text-anchor=\"middle\" x=\"677\" y=\"-684.456\" font-family=\"Times New Roman,serif\" font-size=\"14.00\">AgeuponOutcome&lt;106</text>\r\n",
       "</g>\r\n",
       "<!-- 1&#45;&gt;3 -->\r\n",
       "<g id=\"edge3\" class=\"edge\"><title>1&#45;&gt;3</title>\r\n",
       "<path fill=\"none\" stroke=\"#0000ff\" d=\"M893.327,-901.422C858.685,-867.431 800.083,-809.929 752.605,-763.341\"/>\r\n",
       "<polygon fill=\"#0000ff\" stroke=\"#0000ff\" points=\"754.975,-760.763 745.386,-756.258 750.072,-765.76 754.975,-760.763\"/>\r\n",
       "<text text-anchor=\"middle\" x=\"842.5\" y=\"-806.147\" font-family=\"Times New Roman,serif\" font-size=\"14.00\">yes, missing</text>\r\n",
       "</g>\r\n",
       "<!-- 4 -->\r\n",
       "<g id=\"node5\" class=\"node\"><title>4</title>\r\n",
       "<polygon fill=\"none\" stroke=\"black\" points=\"976.5,-706.156 869.5,-706.156 869.5,-670.156 976.5,-670.156 976.5,-706.156\"/>\r\n",
       "<text text-anchor=\"middle\" x=\"923\" y=\"-684.456\" font-family=\"Times New Roman,serif\" font-size=\"14.00\">leaf=&#45;0.0607547</text>\r\n",
       "</g>\r\n",
       "<!-- 1&#45;&gt;4 -->\r\n",
       "<g id=\"edge4\" class=\"edge\"><title>1&#45;&gt;4</title>\r\n",
       "<path fill=\"none\" stroke=\"#ff0000\" d=\"M923,-889.864C923,-840.548 923,-758.789 923,-716.449\"/>\r\n",
       "<polygon fill=\"#ff0000\" stroke=\"#ff0000\" points=\"926.5,-716.336 923,-706.336 919.5,-716.336 926.5,-716.336\"/>\r\n",
       "<text text-anchor=\"middle\" x=\"930.5\" y=\"-806.147\" font-family=\"Times New Roman,serif\" font-size=\"14.00\">no</text>\r\n",
       "</g>\r\n",
       "<!-- 5 -->\r\n",
       "<g id=\"node20\" class=\"node\"><title>5</title>\r\n",
       "<ellipse fill=\"none\" stroke=\"black\" cx=\"1163\" cy=\"-688.156\" rx=\"91.784\" ry=\"91.784\"/>\r\n",
       "<text text-anchor=\"middle\" x=\"1163\" y=\"-684.456\" font-family=\"Times New Roman,serif\" font-size=\"14.00\">AgeuponOutcome&lt;76</text>\r\n",
       "</g>\r\n",
       "<!-- 2&#45;&gt;5 -->\r\n",
       "<g id=\"edge19\" class=\"edge\"><title>2&#45;&gt;5</title>\r\n",
       "<path fill=\"none\" stroke=\"#0000ff\" d=\"M1163,-835.138C1163,-820.362 1163,-805.057 1163,-790.163\"/>\r\n",
       "<polygon fill=\"#0000ff\" stroke=\"#0000ff\" points=\"1166.5,-789.929 1163,-779.929 1159.5,-789.929 1166.5,-789.929\"/>\r\n",
       "<text text-anchor=\"middle\" x=\"1197.5\" y=\"-806.147\" font-family=\"Times New Roman,serif\" font-size=\"14.00\">yes, missing</text>\r\n",
       "</g>\r\n",
       "<!-- 6 -->\r\n",
       "<g id=\"node21\" class=\"node\"><title>6</title>\r\n",
       "<ellipse fill=\"none\" stroke=\"black\" cx=\"1770\" cy=\"-688.156\" rx=\"96.3833\" ry=\"96.3833\"/>\r\n",
       "<text text-anchor=\"middle\" x=\"1770\" y=\"-684.456\" font-family=\"Times New Roman,serif\" font-size=\"14.00\">AgeuponOutcome&lt;913</text>\r\n",
       "</g>\r\n",
       "<!-- 2&#45;&gt;6 -->\r\n",
       "<g id=\"edge20\" class=\"edge\"><title>2&#45;&gt;6</title>\r\n",
       "<path fill=\"none\" stroke=\"#ff0000\" d=\"M1252.24,-895.051C1364.1,-850.567 1555.23,-774.563 1671.34,-728.389\"/>\r\n",
       "<polygon fill=\"#ff0000\" stroke=\"#ff0000\" points=\"1672.95,-731.514 1680.95,-724.567 1670.37,-725.01 1672.95,-731.514\"/>\r\n",
       "<text text-anchor=\"middle\" x=\"1492.5\" y=\"-806.147\" font-family=\"Times New Roman,serif\" font-size=\"14.00\">no</text>\r\n",
       "</g>\r\n",
       "<!-- 7 -->\r\n",
       "<g id=\"node6\" class=\"node\"><title>7</title>\r\n",
       "<ellipse fill=\"none\" stroke=\"black\" cx=\"401\" cy=\"-440.223\" rx=\"91.784\" ry=\"91.784\"/>\r\n",
       "<text text-anchor=\"middle\" x=\"401\" y=\"-436.523\" font-family=\"Times New Roman,serif\" font-size=\"14.00\">AgeuponOutcome&lt;46</text>\r\n",
       "</g>\r\n",
       "<!-- 3&#45;&gt;7 -->\r\n",
       "<g id=\"edge5\" class=\"edge\"><title>3&#45;&gt;7</title>\r\n",
       "<path fill=\"none\" stroke=\"#0000ff\" d=\"M605.564,-623.502C566.183,-588.411 517.291,-544.845 477.182,-509.106\"/>\r\n",
       "<polygon fill=\"#0000ff\" stroke=\"#0000ff\" points=\"479.077,-506.106 469.282,-502.067 474.42,-511.333 479.077,-506.106\"/>\r\n",
       "<text text-anchor=\"middle\" x=\"582.5\" y=\"-562.764\" font-family=\"Times New Roman,serif\" font-size=\"14.00\">yes, missing</text>\r\n",
       "</g>\r\n",
       "<!-- 8 -->\r\n",
       "<g id=\"node7\" class=\"node\"><title>8</title>\r\n",
       "<ellipse fill=\"none\" stroke=\"black\" cx=\"677\" cy=\"-440.223\" rx=\"100.983\" ry=\"100.983\"/>\r\n",
       "<text text-anchor=\"middle\" x=\"677\" y=\"-436.523\" font-family=\"Times New Roman,serif\" font-size=\"14.00\">AgeuponOutcome&lt;4198</text>\r\n",
       "</g>\r\n",
       "<!-- 3&#45;&gt;8 -->\r\n",
       "<g id=\"edge6\" class=\"edge\"><title>3&#45;&gt;8</title>\r\n",
       "<path fill=\"none\" stroke=\"#ff0000\" d=\"M677,-591.72C677,-578.486 677,-564.803 677,-551.329\"/>\r\n",
       "<polygon fill=\"#ff0000\" stroke=\"#ff0000\" points=\"680.5,-551.077 677,-541.077 673.5,-551.077 680.5,-551.077\"/>\r\n",
       "<text text-anchor=\"middle\" x=\"684.5\" y=\"-562.764\" font-family=\"Times New Roman,serif\" font-size=\"14.00\">no</text>\r\n",
       "</g>\r\n",
       "<!-- 13 -->\r\n",
       "<g id=\"node8\" class=\"node\"><title>13</title>\r\n",
       "<ellipse fill=\"none\" stroke=\"black\" cx=\"174\" cy=\"-187.741\" rx=\"39.7935\" ry=\"39.7935\"/>\r\n",
       "<text text-anchor=\"middle\" x=\"174\" y=\"-184.041\" font-family=\"Times New Roman,serif\" font-size=\"14.00\">AKC&lt;1</text>\r\n",
       "</g>\r\n",
       "<!-- 7&#45;&gt;13 -->\r\n",
       "<g id=\"edge7\" class=\"edge\"><title>7&#45;&gt;13</title>\r\n",
       "<path fill=\"none\" stroke=\"#0000ff\" d=\"M339.87,-371.769C297.329,-324.828 242.216,-264.014 207.472,-225.676\"/>\r\n",
       "<polygon fill=\"#0000ff\" stroke=\"#0000ff\" points=\"209.688,-222.909 200.379,-217.849 204.501,-227.609 209.688,-222.909\"/>\r\n",
       "<text text-anchor=\"middle\" x=\"322.5\" y=\"-310.282\" font-family=\"Times New Roman,serif\" font-size=\"14.00\">yes, missing</text>\r\n",
       "</g>\r\n",
       "<!-- 14 -->\r\n",
       "<g id=\"node9\" class=\"node\"><title>14</title>\r\n",
       "<ellipse fill=\"none\" stroke=\"black\" cx=\"401\" cy=\"-187.741\" rx=\"39.7935\" ry=\"39.7935\"/>\r\n",
       "<text text-anchor=\"middle\" x=\"401\" y=\"-184.041\" font-family=\"Times New Roman,serif\" font-size=\"14.00\">AKC&lt;6</text>\r\n",
       "</g>\r\n",
       "<!-- 7&#45;&gt;14 -->\r\n",
       "<g id=\"edge8\" class=\"edge\"><title>7&#45;&gt;14</title>\r\n",
       "<path fill=\"none\" stroke=\"#ff0000\" d=\"M401,-348.439C401,-311.08 401,-269.286 401,-237.826\"/>\r\n",
       "<polygon fill=\"#ff0000\" stroke=\"#ff0000\" points=\"404.5,-237.575 401,-227.575 397.5,-237.575 404.5,-237.575\"/>\r\n",
       "<text text-anchor=\"middle\" x=\"408.5\" y=\"-310.282\" font-family=\"Times New Roman,serif\" font-size=\"14.00\">no</text>\r\n",
       "</g>\r\n",
       "<!-- 15 -->\r\n",
       "<g id=\"node14\" class=\"node\"><title>15</title>\r\n",
       "<ellipse fill=\"none\" stroke=\"black\" cx=\"583\" cy=\"-187.741\" rx=\"96.3833\" ry=\"96.3833\"/>\r\n",
       "<text text-anchor=\"middle\" x=\"583\" y=\"-184.041\" font-family=\"Times New Roman,serif\" font-size=\"14.00\">AgeuponOutcome&lt;548</text>\r\n",
       "</g>\r\n",
       "<!-- 8&#45;&gt;15 -->\r\n",
       "<g id=\"edge13\" class=\"edge\"><title>8&#45;&gt;15</title>\r\n",
       "<path fill=\"none\" stroke=\"#0000ff\" d=\"M641.864,-345.597C634.771,-326.696 627.292,-306.767 620.133,-287.691\"/>\r\n",
       "<polygon fill=\"#0000ff\" stroke=\"#0000ff\" points=\"623.326,-286.237 616.536,-278.104 616.772,-288.696 623.326,-286.237\"/>\r\n",
       "<text text-anchor=\"middle\" x=\"664.5\" y=\"-310.282\" font-family=\"Times New Roman,serif\" font-size=\"14.00\">yes, missing</text>\r\n",
       "</g>\r\n",
       "<!-- 16 -->\r\n",
       "<g id=\"node15\" class=\"node\"><title>16</title>\r\n",
       "<ellipse fill=\"none\" stroke=\"black\" cx=\"798\" cy=\"-187.741\" rx=\"100.983\" ry=\"100.983\"/>\r\n",
       "<text text-anchor=\"middle\" x=\"798\" y=\"-184.041\" font-family=\"Times New Roman,serif\" font-size=\"14.00\">AgeuponOutcome&lt;4563</text>\r\n",
       "</g>\r\n",
       "<!-- 8&#45;&gt;16 -->\r\n",
       "<g id=\"edge14\" class=\"edge\"><title>8&#45;&gt;16</title>\r\n",
       "<path fill=\"none\" stroke=\"#ff0000\" d=\"M720.513,-349.147C730.09,-329.322 740.285,-308.217 750.027,-288.051\"/>\r\n",
       "<polygon fill=\"#ff0000\" stroke=\"#ff0000\" points=\"753.269,-289.386 754.467,-278.859 746.965,-286.341 753.269,-289.386\"/>\r\n",
       "<text text-anchor=\"middle\" x=\"749.5\" y=\"-310.282\" font-family=\"Times New Roman,serif\" font-size=\"14.00\">no</text>\r\n",
       "</g>\r\n",
       "<!-- 25 -->\r\n",
       "<g id=\"node10\" class=\"node\"><title>25</title>\r\n",
       "<polygon fill=\"none\" stroke=\"black\" points=\"102,-36 0,-36 0,-0 102,-0 102,-36\"/>\r\n",
       "<text text-anchor=\"middle\" x=\"51\" y=\"-14.3\" font-family=\"Times New Roman,serif\" font-size=\"14.00\">leaf=0.0238095</text>\r\n",
       "</g>\r\n",
       "<!-- 13&#45;&gt;25 -->\r\n",
       "<g id=\"edge9\" class=\"edge\"><title>13&#45;&gt;25</title>\r\n",
       "<path fill=\"none\" stroke=\"#0000ff\" d=\"M150.865,-155.19C127.303,-123.058 91.2326,-73.8672 69.5007,-44.2303\"/>\r\n",
       "<polygon fill=\"#0000ff\" stroke=\"#0000ff\" points=\"72.2459,-42.0552 63.51,-36.0605 66.6009,-46.1945 72.2459,-42.0552\"/>\r\n",
       "<text text-anchor=\"middle\" x=\"122.5\" y=\"-57.8\" font-family=\"Times New Roman,serif\" font-size=\"14.00\">yes, missing</text>\r\n",
       "</g>\r\n",
       "<!-- 26 -->\r\n",
       "<g id=\"node11\" class=\"node\"><title>26</title>\r\n",
       "<polygon fill=\"none\" stroke=\"black\" points=\"227.5,-36 120.5,-36 120.5,-0 227.5,-0 227.5,-36\"/>\r\n",
       "<text text-anchor=\"middle\" x=\"174\" y=\"-14.3\" font-family=\"Times New Roman,serif\" font-size=\"14.00\">leaf=&#45;0.0392354</text>\r\n",
       "</g>\r\n",
       "<!-- 13&#45;&gt;26 -->\r\n",
       "<g id=\"edge10\" class=\"edge\"><title>13&#45;&gt;26</title>\r\n",
       "<path fill=\"none\" stroke=\"#ff0000\" d=\"M174,-147.836C174,-116.736 174,-73.9241 174,-46.3523\"/>\r\n",
       "<polygon fill=\"#ff0000\" stroke=\"#ff0000\" points=\"177.5,-46.2411 174,-36.2411 170.5,-46.2412 177.5,-46.2411\"/>\r\n",
       "<text text-anchor=\"middle\" x=\"181.5\" y=\"-57.8\" font-family=\"Times New Roman,serif\" font-size=\"14.00\">no</text>\r\n",
       "</g>\r\n",
       "<!-- 27 -->\r\n",
       "<g id=\"node12\" class=\"node\"><title>27</title>\r\n",
       "<polygon fill=\"none\" stroke=\"black\" points=\"358.5,-36 245.5,-36 245.5,-0 358.5,-0 358.5,-36\"/>\r\n",
       "<text text-anchor=\"middle\" x=\"302\" y=\"-14.3\" font-family=\"Times New Roman,serif\" font-size=\"14.00\">leaf=&#45;0.00396432</text>\r\n",
       "</g>\r\n",
       "<!-- 14&#45;&gt;27 -->\r\n",
       "<g id=\"edge11\" class=\"edge\"><title>14&#45;&gt;27</title>\r\n",
       "<path fill=\"none\" stroke=\"#0000ff\" d=\"M381.204,-153.199C362.365,-121.279 334.416,-73.9248 317.249,-44.838\"/>\r\n",
       "<polygon fill=\"#0000ff\" stroke=\"#0000ff\" points=\"320.177,-42.9118 312.08,-36.0788 314.148,-46.4698 320.177,-42.9118\"/>\r\n",
       "<text text-anchor=\"middle\" x=\"366.5\" y=\"-57.8\" font-family=\"Times New Roman,serif\" font-size=\"14.00\">yes, missing</text>\r\n",
       "</g>\r\n",
       "<!-- 28 -->\r\n",
       "<g id=\"node13\" class=\"node\"><title>28</title>\r\n",
       "<polygon fill=\"none\" stroke=\"black\" points=\"479,-36 377,-36 377,-0 479,-0 479,-36\"/>\r\n",
       "<text text-anchor=\"middle\" x=\"428\" y=\"-14.3\" font-family=\"Times New Roman,serif\" font-size=\"14.00\">leaf=0.0193133</text>\r\n",
       "</g>\r\n",
       "<!-- 14&#45;&gt;28 -->\r\n",
       "<g id=\"edge12\" class=\"edge\"><title>14&#45;&gt;28</title>\r\n",
       "<path fill=\"none\" stroke=\"#ff0000\" d=\"M407.194,-148.258C412.197,-117.176 419.116,-74.1934 423.575,-46.4919\"/>\r\n",
       "<polygon fill=\"#ff0000\" stroke=\"#ff0000\" points=\"427.077,-46.7609 425.21,-36.3317 420.165,-45.6484 427.077,-46.7609\"/>\r\n",
       "<text text-anchor=\"middle\" x=\"430.5\" y=\"-57.8\" font-family=\"Times New Roman,serif\" font-size=\"14.00\">no</text>\r\n",
       "</g>\r\n",
       "<!-- 29 -->\r\n",
       "<g id=\"node16\" class=\"node\"><title>29</title>\r\n",
       "<polygon fill=\"none\" stroke=\"black\" points=\"604.5,-36 497.5,-36 497.5,-0 604.5,-0 604.5,-36\"/>\r\n",
       "<text text-anchor=\"middle\" x=\"551\" y=\"-14.3\" font-family=\"Times New Roman,serif\" font-size=\"14.00\">leaf=&#45;0.0467521</text>\r\n",
       "</g>\r\n",
       "<!-- 15&#45;&gt;29 -->\r\n",
       "<g id=\"edge15\" class=\"edge\"><title>15&#45;&gt;29</title>\r\n",
       "<path fill=\"none\" stroke=\"#0000ff\" d=\"M565.129,-93.0619C561.863,-75.9423 558.702,-59.3753 556.202,-46.2672\"/>\r\n",
       "<polygon fill=\"#0000ff\" stroke=\"#0000ff\" points=\"559.581,-45.3006 554.269,-36.1337 552.705,-46.6124 559.581,-45.3006\"/>\r\n",
       "<text text-anchor=\"middle\" x=\"595.5\" y=\"-57.8\" font-family=\"Times New Roman,serif\" font-size=\"14.00\">yes, missing</text>\r\n",
       "</g>\r\n",
       "<!-- 30 -->\r\n",
       "<g id=\"node17\" class=\"node\"><title>30</title>\r\n",
       "<polygon fill=\"none\" stroke=\"black\" points=\"723,-36 623,-36 623,-0 723,-0 723,-36\"/>\r\n",
       "<text text-anchor=\"middle\" x=\"673\" y=\"-14.3\" font-family=\"Times New Roman,serif\" font-size=\"14.00\">leaf=&#45;0.054127</text>\r\n",
       "</g>\r\n",
       "<!-- 15&#45;&gt;30 -->\r\n",
       "<g id=\"edge16\" class=\"edge\"><title>15&#45;&gt;30</title>\r\n",
       "<path fill=\"none\" stroke=\"#ff0000\" d=\"M628.264,-102.379C639.429,-81.5702 650.572,-60.8016 658.944,-45.1973\"/>\r\n",
       "<polygon fill=\"#ff0000\" stroke=\"#ff0000\" points=\"662.131,-46.6612 663.774,-36.1947 655.962,-43.3517 662.131,-46.6612\"/>\r\n",
       "<text text-anchor=\"middle\" x=\"661.5\" y=\"-57.8\" font-family=\"Times New Roman,serif\" font-size=\"14.00\">no</text>\r\n",
       "</g>\r\n",
       "<!-- 31 -->\r\n",
       "<g id=\"node18\" class=\"node\"><title>31</title>\r\n",
       "<polygon fill=\"none\" stroke=\"black\" points=\"854.5,-36 741.5,-36 741.5,-0 854.5,-0 854.5,-36\"/>\r\n",
       "<text text-anchor=\"middle\" x=\"798\" y=\"-14.3\" font-family=\"Times New Roman,serif\" font-size=\"14.00\">leaf=&#45;0.00214592</text>\r\n",
       "</g>\r\n",
       "<!-- 16&#45;&gt;31 -->\r\n",
       "<g id=\"edge17\" class=\"edge\"><title>16&#45;&gt;31</title>\r\n",
       "<path fill=\"none\" stroke=\"#0000ff\" d=\"M798,-86.7432C798,-71.8559 798,-57.673 798,-46.1677\"/>\r\n",
       "<polygon fill=\"#0000ff\" stroke=\"#0000ff\" points=\"801.5,-46.0216 798,-36.0216 794.5,-46.0216 801.5,-46.0216\"/>\r\n",
       "<text text-anchor=\"middle\" x=\"832.5\" y=\"-57.8\" font-family=\"Times New Roman,serif\" font-size=\"14.00\">yes, missing</text>\r\n",
       "</g>\r\n",
       "<!-- 32 -->\r\n",
       "<g id=\"node19\" class=\"node\"><title>32</title>\r\n",
       "<polygon fill=\"none\" stroke=\"black\" points=\"979.5,-36 872.5,-36 872.5,-0 979.5,-0 979.5,-36\"/>\r\n",
       "<text text-anchor=\"middle\" x=\"926\" y=\"-14.3\" font-family=\"Times New Roman,serif\" font-size=\"14.00\">leaf=&#45;0.0368272</text>\r\n",
       "</g>\r\n",
       "<!-- 16&#45;&gt;32 -->\r\n",
       "<g id=\"edge18\" class=\"edge\"><title>16&#45;&gt;32</title>\r\n",
       "<path fill=\"none\" stroke=\"#ff0000\" d=\"M859.001,-106.801C876.328,-84.0941 893.949,-61.0025 906.768,-44.2027\"/>\r\n",
       "<polygon fill=\"#ff0000\" stroke=\"#ff0000\" points=\"909.723,-46.0995 913.007,-36.0265 904.159,-41.8531 909.723,-46.0995\"/>\r\n",
       "<text text-anchor=\"middle\" x=\"906.5\" y=\"-57.8\" font-family=\"Times New Roman,serif\" font-size=\"14.00\">no</text>\r\n",
       "</g>\r\n",
       "<!-- 9 -->\r\n",
       "<g id=\"node22\" class=\"node\"><title>9</title>\r\n",
       "<ellipse fill=\"none\" stroke=\"black\" cx=\"1062\" cy=\"-440.223\" rx=\"86.3847\" ry=\"86.3847\"/>\r\n",
       "<text text-anchor=\"middle\" x=\"1062\" y=\"-436.523\" font-family=\"Times New Roman,serif\" font-size=\"14.00\">SexuponOutcome&lt;4</text>\r\n",
       "</g>\r\n",
       "<!-- 5&#45;&gt;9 -->\r\n",
       "<g id=\"edge21\" class=\"edge\"><title>5&#45;&gt;9</title>\r\n",
       "<path fill=\"none\" stroke=\"#0000ff\" d=\"M1128.52,-603.208C1118.84,-579.622 1108.27,-553.899 1098.48,-530.04\"/>\r\n",
       "<polygon fill=\"#0000ff\" stroke=\"#0000ff\" points=\"1101.65,-528.567 1094.62,-520.646 1095.18,-531.226 1101.65,-528.567\"/>\r\n",
       "<text text-anchor=\"middle\" x=\"1150.5\" y=\"-562.764\" font-family=\"Times New Roman,serif\" font-size=\"14.00\">yes, missing</text>\r\n",
       "</g>\r\n",
       "<!-- 10 -->\r\n",
       "<g id=\"node23\" class=\"node\"><title>10</title>\r\n",
       "<ellipse fill=\"none\" stroke=\"black\" cx=\"1263\" cy=\"-440.223\" rx=\"96.3833\" ry=\"96.3833\"/>\r\n",
       "<text text-anchor=\"middle\" x=\"1263\" y=\"-436.523\" font-family=\"Times New Roman,serif\" font-size=\"14.00\">AgeuponOutcome&lt;316</text>\r\n",
       "</g>\r\n",
       "<!-- 5&#45;&gt;10 -->\r\n",
       "<g id=\"edge22\" class=\"edge\"><title>5&#45;&gt;10</title>\r\n",
       "<path fill=\"none\" stroke=\"#ff0000\" d=\"M1197.27,-602.864C1205.65,-582.273 1214.67,-560.071 1223.28,-538.913\"/>\r\n",
       "<polygon fill=\"#ff0000\" stroke=\"#ff0000\" points=\"1226.54,-540.178 1227.07,-529.597 1220.06,-537.542 1226.54,-540.178\"/>\r\n",
       "<text text-anchor=\"middle\" x=\"1220.5\" y=\"-562.764\" font-family=\"Times New Roman,serif\" font-size=\"14.00\">no</text>\r\n",
       "</g>\r\n",
       "<!-- 11 -->\r\n",
       "<g id=\"node32\" class=\"node\"><title>11</title>\r\n",
       "<ellipse fill=\"none\" stroke=\"black\" cx=\"1770\" cy=\"-440.223\" rx=\"86.3847\" ry=\"86.3847\"/>\r\n",
       "<text text-anchor=\"middle\" x=\"1770\" y=\"-436.523\" font-family=\"Times New Roman,serif\" font-size=\"14.00\">SexuponOutcome&lt;3</text>\r\n",
       "</g>\r\n",
       "<!-- 6&#45;&gt;11 -->\r\n",
       "<g id=\"edge31\" class=\"edge\"><title>6&#45;&gt;11</title>\r\n",
       "<path fill=\"none\" stroke=\"#0000ff\" d=\"M1770,-591.72C1770,-573.803 1770,-555.065 1770,-537.134\"/>\r\n",
       "<polygon fill=\"#0000ff\" stroke=\"#0000ff\" points=\"1773.5,-536.975 1770,-526.975 1766.5,-536.975 1773.5,-536.975\"/>\r\n",
       "<text text-anchor=\"middle\" x=\"1804.5\" y=\"-562.764\" font-family=\"Times New Roman,serif\" font-size=\"14.00\">yes, missing</text>\r\n",
       "</g>\r\n",
       "<!-- 12 -->\r\n",
       "<g id=\"node33\" class=\"node\"><title>12</title>\r\n",
       "<ellipse fill=\"none\" stroke=\"black\" cx=\"2079\" cy=\"-440.223\" rx=\"100.983\" ry=\"100.983\"/>\r\n",
       "<text text-anchor=\"middle\" x=\"2079\" y=\"-436.523\" font-family=\"Times New Roman,serif\" font-size=\"14.00\">AgeuponOutcome&lt;3833</text>\r\n",
       "</g>\r\n",
       "<!-- 6&#45;&gt;12 -->\r\n",
       "<g id=\"edge32\" class=\"edge\"><title>6&#45;&gt;12</title>\r\n",
       "<path fill=\"none\" stroke=\"#ff0000\" d=\"M1844.8,-627.622C1889.38,-592.145 1946.14,-546.968 1992.62,-509.975\"/>\r\n",
       "<polygon fill=\"#ff0000\" stroke=\"#ff0000\" points=\"1994.93,-512.606 2000.58,-503.64 1990.57,-507.129 1994.93,-512.606\"/>\r\n",
       "<text text-anchor=\"middle\" x=\"1932.5\" y=\"-562.764\" font-family=\"Times New Roman,serif\" font-size=\"14.00\">no</text>\r\n",
       "</g>\r\n",
       "<!-- 17 -->\r\n",
       "<g id=\"node24\" class=\"node\"><title>17</title>\r\n",
       "<polygon fill=\"none\" stroke=\"black\" points=\"1011.5,-205.741 916.5,-205.741 916.5,-169.741 1011.5,-169.741 1011.5,-205.741\"/>\r\n",
       "<text text-anchor=\"middle\" x=\"964\" y=\"-184.041\" font-family=\"Times New Roman,serif\" font-size=\"14.00\">leaf=0.216332</text>\r\n",
       "</g>\r\n",
       "<!-- 9&#45;&gt;17 -->\r\n",
       "<g id=\"edge23\" class=\"edge\"><title>9&#45;&gt;17</title>\r\n",
       "<path fill=\"none\" stroke=\"#0000ff\" d=\"M1019.62,-364.691C1012.51,-350.593 1005.62,-335.779 1000,-321.482 986.034,-285.976 975.477,-243.079 969.514,-215.85\"/>\r\n",
       "<polygon fill=\"#0000ff\" stroke=\"#0000ff\" points=\"972.898,-214.937 967.386,-205.889 966.053,-216.4 972.898,-214.937\"/>\r\n",
       "<text text-anchor=\"middle\" x=\"1034.5\" y=\"-310.282\" font-family=\"Times New Roman,serif\" font-size=\"14.00\">yes, missing</text>\r\n",
       "</g>\r\n",
       "<!-- 18 -->\r\n",
       "<g id=\"node25\" class=\"node\"><title>18</title>\r\n",
       "<polygon fill=\"none\" stroke=\"black\" points=\"1136.5,-205.741 1029.5,-205.741 1029.5,-169.741 1136.5,-169.741 1136.5,-205.741\"/>\r\n",
       "<text text-anchor=\"middle\" x=\"1083\" y=\"-184.041\" font-family=\"Times New Roman,serif\" font-size=\"14.00\">leaf=&#45;0.0586035</text>\r\n",
       "</g>\r\n",
       "<!-- 9&#45;&gt;18 -->\r\n",
       "<g id=\"edge24\" class=\"edge\"><title>9&#45;&gt;18</title>\r\n",
       "<path fill=\"none\" stroke=\"#ff0000\" d=\"M1069.14,-354.072C1073.18,-305.906 1077.96,-248.897 1080.72,-215.968\"/>\r\n",
       "<polygon fill=\"#ff0000\" stroke=\"#ff0000\" points=\"1084.22,-216.028 1081.57,-205.771 1077.25,-215.443 1084.22,-216.028\"/>\r\n",
       "<text text-anchor=\"middle\" x=\"1081.5\" y=\"-310.282\" font-family=\"Times New Roman,serif\" font-size=\"14.00\">no</text>\r\n",
       "</g>\r\n",
       "<!-- 19 -->\r\n",
       "<g id=\"node26\" class=\"node\"><title>19</title>\r\n",
       "<ellipse fill=\"none\" stroke=\"black\" cx=\"1241\" cy=\"-187.741\" rx=\"86.3847\" ry=\"86.3847\"/>\r\n",
       "<text text-anchor=\"middle\" x=\"1241\" y=\"-184.041\" font-family=\"Times New Roman,serif\" font-size=\"14.00\">SexuponOutcome&lt;4</text>\r\n",
       "</g>\r\n",
       "<!-- 10&#45;&gt;19 -->\r\n",
       "<g id=\"edge25\" class=\"edge\"><title>10&#45;&gt;19</title>\r\n",
       "<path fill=\"none\" stroke=\"#0000ff\" d=\"M1254.65,-344.169C1252.92,-324.488 1251.1,-303.749 1249.37,-284.058\"/>\r\n",
       "<polygon fill=\"#0000ff\" stroke=\"#0000ff\" points=\"1252.84,-283.523 1248.48,-273.867 1245.87,-284.135 1252.84,-283.523\"/>\r\n",
       "<text text-anchor=\"middle\" x=\"1286.5\" y=\"-310.282\" font-family=\"Times New Roman,serif\" font-size=\"14.00\">yes, missing</text>\r\n",
       "</g>\r\n",
       "<!-- 20 -->\r\n",
       "<g id=\"node27\" class=\"node\"><title>20</title>\r\n",
       "<ellipse fill=\"none\" stroke=\"black\" cx=\"1385\" cy=\"-187.741\" rx=\"39.7935\" ry=\"39.7935\"/>\r\n",
       "<text text-anchor=\"middle\" x=\"1385\" y=\"-184.041\" font-family=\"Times New Roman,serif\" font-size=\"14.00\">Type&lt;1</text>\r\n",
       "</g>\r\n",
       "<!-- 10&#45;&gt;20 -->\r\n",
       "<g id=\"edge26\" class=\"edge\"><title>10&#45;&gt;20</title>\r\n",
       "<path fill=\"none\" stroke=\"#ff0000\" d=\"M1308.15,-354.964C1313.93,-343.758 1319.67,-332.379 1325,-321.482 1339.14,-292.544 1354.06,-259.545 1365.49,-233.688\"/>\r\n",
       "<polygon fill=\"#ff0000\" stroke=\"#ff0000\" points=\"1368.71,-235.069 1369.53,-224.506 1362.3,-232.248 1368.71,-235.069\"/>\r\n",
       "<text text-anchor=\"middle\" x=\"1339.5\" y=\"-310.282\" font-family=\"Times New Roman,serif\" font-size=\"14.00\">no</text>\r\n",
       "</g>\r\n",
       "<!-- 33 -->\r\n",
       "<g id=\"node28\" class=\"node\"><title>33</title>\r\n",
       "<polygon fill=\"none\" stroke=\"black\" points=\"1169.5,-36 1074.5,-36 1074.5,-0 1169.5,-0 1169.5,-36\"/>\r\n",
       "<text text-anchor=\"middle\" x=\"1122\" y=\"-14.3\" font-family=\"Times New Roman,serif\" font-size=\"14.00\">leaf=0.142404</text>\r\n",
       "</g>\r\n",
       "<!-- 19&#45;&gt;33 -->\r\n",
       "<g id=\"edge27\" class=\"edge\"><title>19&#45;&gt;33</title>\r\n",
       "<path fill=\"none\" stroke=\"#0000ff\" d=\"M1191.22,-116.576C1173.11,-91.04 1153.76,-63.7621 1140.13,-44.5588\"/>\r\n",
       "<polygon fill=\"#0000ff\" stroke=\"#0000ff\" points=\"1142.94,-42.47 1134.3,-36.3391 1137.23,-46.5203 1142.94,-42.47\"/>\r\n",
       "<text text-anchor=\"middle\" x=\"1192.5\" y=\"-57.8\" font-family=\"Times New Roman,serif\" font-size=\"14.00\">yes, missing</text>\r\n",
       "</g>\r\n",
       "<!-- 34 -->\r\n",
       "<g id=\"node29\" class=\"node\"><title>34</title>\r\n",
       "<polygon fill=\"none\" stroke=\"black\" points=\"1294.5,-36 1187.5,-36 1187.5,-0 1294.5,-0 1294.5,-36\"/>\r\n",
       "<text text-anchor=\"middle\" x=\"1241\" y=\"-14.3\" font-family=\"Times New Roman,serif\" font-size=\"14.00\">leaf=&#45;0.0410959</text>\r\n",
       "</g>\r\n",
       "<!-- 19&#45;&gt;34 -->\r\n",
       "<g id=\"edge28\" class=\"edge\"><title>19&#45;&gt;34</title>\r\n",
       "<path fill=\"none\" stroke=\"#ff0000\" d=\"M1241,-100.905C1241,-81.0572 1241,-61.3562 1241,-46.2514\"/>\r\n",
       "<polygon fill=\"#ff0000\" stroke=\"#ff0000\" points=\"1244.5,-46.1287 1241,-36.1288 1237.5,-46.1288 1244.5,-46.1287\"/>\r\n",
       "<text text-anchor=\"middle\" x=\"1248.5\" y=\"-57.8\" font-family=\"Times New Roman,serif\" font-size=\"14.00\">no</text>\r\n",
       "</g>\r\n",
       "<!-- 35 -->\r\n",
       "<g id=\"node30\" class=\"node\"><title>35</title>\r\n",
       "<polygon fill=\"none\" stroke=\"black\" points=\"1407.5,-36 1312.5,-36 1312.5,-0 1407.5,-0 1407.5,-36\"/>\r\n",
       "<text text-anchor=\"middle\" x=\"1360\" y=\"-14.3\" font-family=\"Times New Roman,serif\" font-size=\"14.00\">leaf=0.118822</text>\r\n",
       "</g>\r\n",
       "<!-- 20&#45;&gt;35 -->\r\n",
       "<g id=\"edge29\" class=\"edge\"><title>20&#45;&gt;35</title>\r\n",
       "<path fill=\"none\" stroke=\"#0000ff\" d=\"M1379.26,-148.258C1374.63,-117.176 1368.23,-74.1934 1364.1,-46.4919\"/>\r\n",
       "<polygon fill=\"#0000ff\" stroke=\"#0000ff\" points=\"1367.52,-45.7065 1362.58,-36.3317 1360.6,-46.7384 1367.52,-45.7065\"/>\r\n",
       "<text text-anchor=\"middle\" x=\"1402.5\" y=\"-57.8\" font-family=\"Times New Roman,serif\" font-size=\"14.00\">yes, missing</text>\r\n",
       "</g>\r\n",
       "<!-- 36 -->\r\n",
       "<g id=\"node31\" class=\"node\"><title>36</title>\r\n",
       "<polygon fill=\"none\" stroke=\"black\" points=\"1528,-36 1426,-36 1426,-0 1528,-0 1528,-36\"/>\r\n",
       "<text text-anchor=\"middle\" x=\"1477\" y=\"-14.3\" font-family=\"Times New Roman,serif\" font-size=\"14.00\">leaf=0.0555556</text>\r\n",
       "</g>\r\n",
       "<!-- 20&#45;&gt;36 -->\r\n",
       "<g id=\"edge30\" class=\"edge\"><title>20&#45;&gt;36</title>\r\n",
       "<path fill=\"none\" stroke=\"#ff0000\" d=\"M1403.84,-152.391C1421.22,-120.701 1446.66,-74.3154 1462.51,-45.4281\"/>\r\n",
       "<polygon fill=\"#ff0000\" stroke=\"#ff0000\" points=\"1465.74,-46.7998 1467.48,-36.3489 1459.61,-43.4336 1465.74,-46.7998\"/>\r\n",
       "<text text-anchor=\"middle\" x=\"1465.5\" y=\"-57.8\" font-family=\"Times New Roman,serif\" font-size=\"14.00\">no</text>\r\n",
       "</g>\r\n",
       "<!-- 21 -->\r\n",
       "<g id=\"node34\" class=\"node\"><title>21</title>\r\n",
       "<ellipse fill=\"none\" stroke=\"black\" cx=\"1717\" cy=\"-187.741\" rx=\"39.7935\" ry=\"39.7935\"/>\r\n",
       "<text text-anchor=\"middle\" x=\"1717\" y=\"-184.041\" font-family=\"Times New Roman,serif\" font-size=\"14.00\">AKC&lt;5</text>\r\n",
       "</g>\r\n",
       "<!-- 11&#45;&gt;21 -->\r\n",
       "<g id=\"edge33\" class=\"edge\"><title>11&#45;&gt;21</title>\r\n",
       "<path fill=\"none\" stroke=\"#0000ff\" d=\"M1740.83,-358.784C1737.08,-346.411 1733.63,-333.691 1731,-321.482 1725.07,-294.008 1721.62,-262.77 1719.63,-237.503\"/>\r\n",
       "<polygon fill=\"#0000ff\" stroke=\"#0000ff\" points=\"1723.11,-237.14 1718.88,-227.425 1716.13,-237.655 1723.11,-237.14\"/>\r\n",
       "<text text-anchor=\"middle\" x=\"1765.5\" y=\"-310.282\" font-family=\"Times New Roman,serif\" font-size=\"14.00\">yes, missing</text>\r\n",
       "</g>\r\n",
       "<!-- 22 -->\r\n",
       "<g id=\"node35\" class=\"node\"><title>22</title>\r\n",
       "<ellipse fill=\"none\" stroke=\"black\" cx=\"1834\" cy=\"-187.741\" rx=\"39.7935\" ry=\"39.7935\"/>\r\n",
       "<text text-anchor=\"middle\" x=\"1834\" y=\"-184.041\" font-family=\"Times New Roman,serif\" font-size=\"14.00\">Type&lt;1</text>\r\n",
       "</g>\r\n",
       "<!-- 11&#45;&gt;22 -->\r\n",
       "<g id=\"edge34\" class=\"edge\"><title>11&#45;&gt;22</title>\r\n",
       "<path fill=\"none\" stroke=\"#ff0000\" d=\"M1791.22,-356.164C1801.38,-316.414 1813.17,-270.246 1821.8,-236.471\"/>\r\n",
       "<polygon fill=\"#ff0000\" stroke=\"#ff0000\" points=\"1825.29,-236.963 1824.38,-226.408 1818.51,-235.23 1825.29,-236.963\"/>\r\n",
       "<text text-anchor=\"middle\" x=\"1811.5\" y=\"-310.282\" font-family=\"Times New Roman,serif\" font-size=\"14.00\">no</text>\r\n",
       "</g>\r\n",
       "<!-- 23 -->\r\n",
       "<g id=\"node40\" class=\"node\"><title>23</title>\r\n",
       "<ellipse fill=\"none\" stroke=\"black\" cx=\"2079\" cy=\"-187.741\" rx=\"100.983\" ry=\"100.983\"/>\r\n",
       "<text text-anchor=\"middle\" x=\"2079\" y=\"-184.041\" font-family=\"Times New Roman,serif\" font-size=\"14.00\">AgeuponOutcome&lt;2373</text>\r\n",
       "</g>\r\n",
       "<!-- 12&#45;&gt;23 -->\r\n",
       "<g id=\"edge39\" class=\"edge\"><title>12&#45;&gt;23</title>\r\n",
       "<path fill=\"none\" stroke=\"#0000ff\" d=\"M2079,-339.146C2079,-325.898 2079,-312.259 2079,-298.854\"/>\r\n",
       "<polygon fill=\"#0000ff\" stroke=\"#0000ff\" points=\"2082.5,-298.659 2079,-288.659 2075.5,-298.659 2082.5,-298.659\"/>\r\n",
       "<text text-anchor=\"middle\" x=\"2113.5\" y=\"-310.282\" font-family=\"Times New Roman,serif\" font-size=\"14.00\">yes, missing</text>\r\n",
       "</g>\r\n",
       "<!-- 24 -->\r\n",
       "<g id=\"node41\" class=\"node\"><title>24</title>\r\n",
       "<ellipse fill=\"none\" stroke=\"black\" cx=\"2307\" cy=\"-187.741\" rx=\"100.983\" ry=\"100.983\"/>\r\n",
       "<text text-anchor=\"middle\" x=\"2307\" y=\"-184.041\" font-family=\"Times New Roman,serif\" font-size=\"14.00\">AgeuponOutcome&lt;4928</text>\r\n",
       "</g>\r\n",
       "<!-- 12&#45;&gt;24 -->\r\n",
       "<g id=\"edge40\" class=\"edge\"><title>12&#45;&gt;24</title>\r\n",
       "<path fill=\"none\" stroke=\"#ff0000\" d=\"M2146.48,-365.087C2173.48,-335.43 2204.67,-301.159 2232.34,-270.76\"/>\r\n",
       "<polygon fill=\"#ff0000\" stroke=\"#ff0000\" points=\"2235.15,-272.871 2239.3,-263.12 2229.98,-268.159 2235.15,-272.871\"/>\r\n",
       "<text text-anchor=\"middle\" x=\"2207.5\" y=\"-310.282\" font-family=\"Times New Roman,serif\" font-size=\"14.00\">no</text>\r\n",
       "</g>\r\n",
       "<!-- 37 -->\r\n",
       "<g id=\"node36\" class=\"node\"><title>37</title>\r\n",
       "<polygon fill=\"none\" stroke=\"black\" points=\"1648,-36 1546,-36 1546,-0 1648,-0 1648,-36\"/>\r\n",
       "<text text-anchor=\"middle\" x=\"1597\" y=\"-14.3\" font-family=\"Times New Roman,serif\" font-size=\"14.00\">leaf=0.0688633</text>\r\n",
       "</g>\r\n",
       "<!-- 21&#45;&gt;37 -->\r\n",
       "<g id=\"edge35\" class=\"edge\"><title>21&#45;&gt;37</title>\r\n",
       "<path fill=\"none\" stroke=\"#0000ff\" d=\"M1694.15,-154.795C1671.25,-122.785 1636.44,-74.1365 1615.3,-44.5849\"/>\r\n",
       "<polygon fill=\"#0000ff\" stroke=\"#0000ff\" points=\"1618.13,-42.5228 1609.47,-36.4262 1612.44,-46.5957 1618.13,-42.5228\"/>\r\n",
       "<text text-anchor=\"middle\" x=\"1667.5\" y=\"-57.8\" font-family=\"Times New Roman,serif\" font-size=\"14.00\">yes, missing</text>\r\n",
       "</g>\r\n",
       "<!-- 38 -->\r\n",
       "<g id=\"node37\" class=\"node\"><title>38</title>\r\n",
       "<polygon fill=\"none\" stroke=\"black\" points=\"1768,-36 1666,-36 1666,-0 1768,-0 1768,-36\"/>\r\n",
       "<text text-anchor=\"middle\" x=\"1717\" y=\"-14.3\" font-family=\"Times New Roman,serif\" font-size=\"14.00\">leaf=0.0996201</text>\r\n",
       "</g>\r\n",
       "<!-- 21&#45;&gt;38 -->\r\n",
       "<g id=\"edge36\" class=\"edge\"><title>21&#45;&gt;38</title>\r\n",
       "<path fill=\"none\" stroke=\"#ff0000\" d=\"M1717,-147.836C1717,-116.736 1717,-73.9241 1717,-46.3523\"/>\r\n",
       "<polygon fill=\"#ff0000\" stroke=\"#ff0000\" points=\"1720.5,-46.2411 1717,-36.2411 1713.5,-46.2412 1720.5,-46.2411\"/>\r\n",
       "<text text-anchor=\"middle\" x=\"1724.5\" y=\"-57.8\" font-family=\"Times New Roman,serif\" font-size=\"14.00\">no</text>\r\n",
       "</g>\r\n",
       "<!-- 39 -->\r\n",
       "<g id=\"node38\" class=\"node\"><title>39</title>\r\n",
       "<polygon fill=\"none\" stroke=\"black\" points=\"1881.5,-36 1786.5,-36 1786.5,-0 1881.5,-0 1881.5,-36\"/>\r\n",
       "<text text-anchor=\"middle\" x=\"1834\" y=\"-14.3\" font-family=\"Times New Roman,serif\" font-size=\"14.00\">leaf=0.107067</text>\r\n",
       "</g>\r\n",
       "<!-- 22&#45;&gt;39 -->\r\n",
       "<g id=\"edge37\" class=\"edge\"><title>22&#45;&gt;39</title>\r\n",
       "<path fill=\"none\" stroke=\"#0000ff\" d=\"M1834,-147.836C1834,-116.736 1834,-73.9241 1834,-46.3523\"/>\r\n",
       "<polygon fill=\"#0000ff\" stroke=\"#0000ff\" points=\"1837.5,-46.2411 1834,-36.2411 1830.5,-46.2412 1837.5,-46.2411\"/>\r\n",
       "<text text-anchor=\"middle\" x=\"1868.5\" y=\"-57.8\" font-family=\"Times New Roman,serif\" font-size=\"14.00\">yes, missing</text>\r\n",
       "</g>\r\n",
       "<!-- 40 -->\r\n",
       "<g id=\"node39\" class=\"node\"><title>40</title>\r\n",
       "<polygon fill=\"none\" stroke=\"black\" points=\"2002,-36 1900,-36 1900,-0 2002,-0 2002,-36\"/>\r\n",
       "<text text-anchor=\"middle\" x=\"1951\" y=\"-14.3\" font-family=\"Times New Roman,serif\" font-size=\"14.00\">leaf=0.0687023</text>\r\n",
       "</g>\r\n",
       "<!-- 22&#45;&gt;40 -->\r\n",
       "<g id=\"edge38\" class=\"edge\"><title>22&#45;&gt;40</title>\r\n",
       "<path fill=\"none\" stroke=\"#ff0000\" d=\"M1856.28,-154.795C1878.51,-122.922 1912.25,-74.5538 1932.89,-44.9664\"/>\r\n",
       "<polygon fill=\"#ff0000\" stroke=\"#ff0000\" points=\"1935.99,-46.6304 1938.85,-36.4262 1930.25,-42.6258 1935.99,-46.6304\"/>\r\n",
       "<text text-anchor=\"middle\" x=\"1933.5\" y=\"-57.8\" font-family=\"Times New Roman,serif\" font-size=\"14.00\">no</text>\r\n",
       "</g>\r\n",
       "<!-- 41 -->\r\n",
       "<g id=\"node42\" class=\"node\"><title>41</title>\r\n",
       "<polygon fill=\"none\" stroke=\"black\" points=\"2122,-36 2020,-36 2020,-0 2122,-0 2122,-36\"/>\r\n",
       "<text text-anchor=\"middle\" x=\"2071\" y=\"-14.3\" font-family=\"Times New Roman,serif\" font-size=\"14.00\">leaf=0.0527084</text>\r\n",
       "</g>\r\n",
       "<!-- 23&#45;&gt;41 -->\r\n",
       "<g id=\"edge41\" class=\"edge\"><title>23&#45;&gt;41</title>\r\n",
       "<path fill=\"none\" stroke=\"#0000ff\" d=\"M2074.23,-86.7432C2073.52,-71.8559 2072.84,-57.673 2072.3,-46.1677\"/>\r\n",
       "<polygon fill=\"#0000ff\" stroke=\"#0000ff\" points=\"2075.78,-45.8435 2071.81,-36.0216 2068.79,-46.177 2075.78,-45.8435\"/>\r\n",
       "<text text-anchor=\"middle\" x=\"2108.5\" y=\"-57.8\" font-family=\"Times New Roman,serif\" font-size=\"14.00\">yes, missing</text>\r\n",
       "</g>\r\n",
       "<!-- 42 -->\r\n",
       "<g id=\"node43\" class=\"node\"><title>42</title>\r\n",
       "<polygon fill=\"none\" stroke=\"black\" points=\"2235.5,-36 2140.5,-36 2140.5,-0 2235.5,-0 2235.5,-36\"/>\r\n",
       "<text text-anchor=\"middle\" x=\"2188\" y=\"-14.3\" font-family=\"Times New Roman,serif\" font-size=\"14.00\">leaf=0.030316</text>\r\n",
       "</g>\r\n",
       "<!-- 23&#45;&gt;42 -->\r\n",
       "<g id=\"edge42\" class=\"edge\"><title>23&#45;&gt;42</title>\r\n",
       "<path fill=\"none\" stroke=\"#ff0000\" d=\"M2133.5,-102.871C2147.29,-81.6457 2161.08,-60.4208 2171.34,-44.6331\"/>\r\n",
       "<polygon fill=\"#ff0000\" stroke=\"#ff0000\" points=\"2174.43,-46.2993 2176.95,-36.007 2168.57,-42.4851 2174.43,-46.2993\"/>\r\n",
       "<text text-anchor=\"middle\" x=\"2172.5\" y=\"-57.8\" font-family=\"Times New Roman,serif\" font-size=\"14.00\">no</text>\r\n",
       "</g>\r\n",
       "<!-- 43 -->\r\n",
       "<g id=\"node44\" class=\"node\"><title>43</title>\r\n",
       "<polygon fill=\"none\" stroke=\"black\" points=\"2360.5,-36 2253.5,-36 2253.5,-0 2360.5,-0 2360.5,-36\"/>\r\n",
       "<text text-anchor=\"middle\" x=\"2307\" y=\"-14.3\" font-family=\"Times New Roman,serif\" font-size=\"14.00\">leaf=&#45;0.0178033</text>\r\n",
       "</g>\r\n",
       "<!-- 24&#45;&gt;43 -->\r\n",
       "<g id=\"edge43\" class=\"edge\"><title>24&#45;&gt;43</title>\r\n",
       "<path fill=\"none\" stroke=\"#0000ff\" d=\"M2307,-86.7432C2307,-71.8559 2307,-57.673 2307,-46.1677\"/>\r\n",
       "<polygon fill=\"#0000ff\" stroke=\"#0000ff\" points=\"2310.5,-46.0216 2307,-36.0216 2303.5,-46.0216 2310.5,-46.0216\"/>\r\n",
       "<text text-anchor=\"middle\" x=\"2341.5\" y=\"-57.8\" font-family=\"Times New Roman,serif\" font-size=\"14.00\">yes, missing</text>\r\n",
       "</g>\r\n",
       "<!-- 44 -->\r\n",
       "<g id=\"node45\" class=\"node\"><title>44</title>\r\n",
       "<polygon fill=\"none\" stroke=\"black\" points=\"2485.5,-36 2378.5,-36 2378.5,-0 2485.5,-0 2485.5,-36\"/>\r\n",
       "<text text-anchor=\"middle\" x=\"2432\" y=\"-14.3\" font-family=\"Times New Roman,serif\" font-size=\"14.00\">leaf=&#45;0.0477707</text>\r\n",
       "</g>\r\n",
       "<!-- 24&#45;&gt;44 -->\r\n",
       "<g id=\"edge44\" class=\"edge\"><title>24&#45;&gt;44</title>\r\n",
       "<path fill=\"none\" stroke=\"#ff0000\" d=\"M2366.94,-106.31C2383.69,-83.8271 2400.69,-61.0144 2413.11,-44.3484\"/>\r\n",
       "<polygon fill=\"#ff0000\" stroke=\"#ff0000\" points=\"2415.99,-46.3375 2419.16,-36.2277 2410.38,-42.1548 2415.99,-46.3375\"/>\r\n",
       "<text text-anchor=\"middle\" x=\"2412.5\" y=\"-57.8\" font-family=\"Times New Roman,serif\" font-size=\"14.00\">no</text>\r\n",
       "</g>\r\n",
       "</g>\r\n",
       "</svg>\r\n"
      ],
      "text/plain": [
       "<graphviz.dot.Digraph at 0x2483b986b70>"
      ]
     },
     "execution_count": 100,
     "metadata": {},
     "output_type": "execute_result"
    }
   ],
   "source": [
    "xgb.to_graphviz(xgbr, num_trees=0)"
   ]
  }
 ],
 "metadata": {
  "kernelspec": {
   "display_name": "Python 3",
   "language": "python",
   "name": "python3"
  },
  "language_info": {
   "codemirror_mode": {
    "name": "ipython",
    "version": 3
   },
   "file_extension": ".py",
   "mimetype": "text/x-python",
   "name": "python",
   "nbconvert_exporter": "python",
   "pygments_lexer": "ipython3",
   "version": "3.6.1"
  }
 },
 "nbformat": 4,
 "nbformat_minor": 2
}
