{
 "cells": [
  {
   "cell_type": "code",
   "execution_count": 156,
   "metadata": {
    "collapsed": true
   },
   "outputs": [],
   "source": [
    "import sklearn\n",
    "import pandas as pd\n",
    "import numpy as np\n",
    "import matplotlib.pyplot as plt\n",
    "import seaborn as sns\n",
    "from pandas import DataFrame, Series\n",
    "%matplotlib inline"
   ]
  },
  {
   "cell_type": "code",
   "execution_count": 157,
   "metadata": {
    "collapsed": true
   },
   "outputs": [],
   "source": [
    "train = pd.read_csv('data/train.csv')\n",
    "test = pd.read_csv('data/test.csv')\n",
    "sample = pd.read_csv('data/sample_submission.csv')"
   ]
  },
  {
   "cell_type": "markdown",
   "metadata": {},
   "source": [
    "## train data 형태 확인"
   ]
  },
  {
   "cell_type": "code",
   "execution_count": 158,
   "metadata": {
    "scrolled": true
   },
   "outputs": [
    {
     "data": {
      "text/plain": [
       "AnimalID                        A671945\n",
       "Name                            Hambone\n",
       "DateTime            2014-02-12 18:22:00\n",
       "OutcomeType             Return_to_owner\n",
       "OutcomeSubtype                      NaN\n",
       "AnimalType                          Dog\n",
       "SexuponOutcome            Neutered Male\n",
       "AgeuponOutcome                   1 year\n",
       "Breed             Shetland Sheepdog Mix\n",
       "Color                       Brown/White\n",
       "Name: 0, dtype: object"
      ]
     },
     "execution_count": 158,
     "metadata": {},
     "output_type": "execute_result"
    }
   ],
   "source": [
    "train.loc[0]"
   ]
  },
  {
   "cell_type": "code",
   "execution_count": 159,
   "metadata": {},
   "outputs": [
    {
     "data": {
      "text/html": [
       "<div>\n",
       "<style>\n",
       "    .dataframe thead tr:only-child th {\n",
       "        text-align: right;\n",
       "    }\n",
       "\n",
       "    .dataframe thead th {\n",
       "        text-align: left;\n",
       "    }\n",
       "\n",
       "    .dataframe tbody tr th {\n",
       "        vertical-align: top;\n",
       "    }\n",
       "</style>\n",
       "<table border=\"1\" class=\"dataframe\">\n",
       "  <thead>\n",
       "    <tr style=\"text-align: right;\">\n",
       "      <th></th>\n",
       "      <th>AnimalID</th>\n",
       "      <th>Name</th>\n",
       "      <th>DateTime</th>\n",
       "      <th>OutcomeType</th>\n",
       "      <th>OutcomeSubtype</th>\n",
       "      <th>AnimalType</th>\n",
       "      <th>SexuponOutcome</th>\n",
       "      <th>AgeuponOutcome</th>\n",
       "      <th>Breed</th>\n",
       "      <th>Color</th>\n",
       "    </tr>\n",
       "  </thead>\n",
       "  <tbody>\n",
       "    <tr>\n",
       "      <th>26724</th>\n",
       "      <td>A702446</td>\n",
       "      <td>NaN</td>\n",
       "      <td>2015-05-14 11:56:00</td>\n",
       "      <td>Transfer</td>\n",
       "      <td>Partner</td>\n",
       "      <td>Cat</td>\n",
       "      <td>Intact Male</td>\n",
       "      <td>1 month</td>\n",
       "      <td>Domestic Shorthair Mix</td>\n",
       "      <td>Brown Tabby/White</td>\n",
       "    </tr>\n",
       "    <tr>\n",
       "      <th>26725</th>\n",
       "      <td>A718934</td>\n",
       "      <td>NaN</td>\n",
       "      <td>2016-01-20 18:59:00</td>\n",
       "      <td>Transfer</td>\n",
       "      <td>SCRP</td>\n",
       "      <td>Cat</td>\n",
       "      <td>Spayed Female</td>\n",
       "      <td>3 months</td>\n",
       "      <td>Domestic Shorthair Mix</td>\n",
       "      <td>Brown Tabby</td>\n",
       "    </tr>\n",
       "    <tr>\n",
       "      <th>26726</th>\n",
       "      <td>A698128</td>\n",
       "      <td>Zeus</td>\n",
       "      <td>2015-03-09 13:33:00</td>\n",
       "      <td>Adoption</td>\n",
       "      <td>NaN</td>\n",
       "      <td>Dog</td>\n",
       "      <td>Neutered Male</td>\n",
       "      <td>4 years</td>\n",
       "      <td>Old English Bulldog Mix</td>\n",
       "      <td>White/Tan</td>\n",
       "    </tr>\n",
       "    <tr>\n",
       "      <th>26727</th>\n",
       "      <td>A677478</td>\n",
       "      <td>NaN</td>\n",
       "      <td>2014-04-27 12:22:00</td>\n",
       "      <td>Transfer</td>\n",
       "      <td>Partner</td>\n",
       "      <td>Cat</td>\n",
       "      <td>Intact Male</td>\n",
       "      <td>4 weeks</td>\n",
       "      <td>Domestic Shorthair Mix</td>\n",
       "      <td>Black</td>\n",
       "    </tr>\n",
       "    <tr>\n",
       "      <th>26728</th>\n",
       "      <td>A706629</td>\n",
       "      <td>NaN</td>\n",
       "      <td>2015-07-02 09:00:00</td>\n",
       "      <td>Transfer</td>\n",
       "      <td>SCRP</td>\n",
       "      <td>Cat</td>\n",
       "      <td>Intact Male</td>\n",
       "      <td>1 year</td>\n",
       "      <td>Domestic Shorthair Mix</td>\n",
       "      <td>Brown Tabby/White</td>\n",
       "    </tr>\n",
       "  </tbody>\n",
       "</table>\n",
       "</div>"
      ],
      "text/plain": [
       "      AnimalID  Name             DateTime OutcomeType OutcomeSubtype  \\\n",
       "26724  A702446   NaN  2015-05-14 11:56:00    Transfer        Partner   \n",
       "26725  A718934   NaN  2016-01-20 18:59:00    Transfer           SCRP   \n",
       "26726  A698128  Zeus  2015-03-09 13:33:00    Adoption            NaN   \n",
       "26727  A677478   NaN  2014-04-27 12:22:00    Transfer        Partner   \n",
       "26728  A706629   NaN  2015-07-02 09:00:00    Transfer           SCRP   \n",
       "\n",
       "      AnimalType SexuponOutcome AgeuponOutcome                    Breed  \\\n",
       "26724        Cat    Intact Male        1 month   Domestic Shorthair Mix   \n",
       "26725        Cat  Spayed Female       3 months   Domestic Shorthair Mix   \n",
       "26726        Dog  Neutered Male        4 years  Old English Bulldog Mix   \n",
       "26727        Cat    Intact Male        4 weeks   Domestic Shorthair Mix   \n",
       "26728        Cat    Intact Male         1 year   Domestic Shorthair Mix   \n",
       "\n",
       "                   Color  \n",
       "26724  Brown Tabby/White  \n",
       "26725        Brown Tabby  \n",
       "26726          White/Tan  \n",
       "26727              Black  \n",
       "26728  Brown Tabby/White  "
      ]
     },
     "execution_count": 159,
     "metadata": {},
     "output_type": "execute_result"
    }
   ],
   "source": [
    "train.tail()"
   ]
  },
  {
   "cell_type": "code",
   "execution_count": 160,
   "metadata": {},
   "outputs": [
    {
     "data": {
      "text/plain": [
       "Adoption           10769\n",
       "Transfer            9422\n",
       "Return_to_owner     4786\n",
       "Euthanasia          1555\n",
       "Died                 197\n",
       "Name: OutcomeType, dtype: int64"
      ]
     },
     "execution_count": 160,
     "metadata": {},
     "output_type": "execute_result"
    }
   ],
   "source": [
    "train['OutcomeType'].value_counts()"
   ]
  },
  {
   "cell_type": "code",
   "execution_count": 161,
   "metadata": {},
   "outputs": [
    {
     "data": {
      "text/plain": [
       "Partner                7816\n",
       "Foster                 1800\n",
       "SCRP                   1599\n",
       "Suffering              1002\n",
       "Aggressive              320\n",
       "Offsite                 165\n",
       "In Kennel               114\n",
       "Behavior                 86\n",
       "Rabies Risk              74\n",
       "Medical                  66\n",
       "In Foster                52\n",
       "Enroute                   8\n",
       "Court/Investigation       6\n",
       "At Vet                    4\n",
       "In Surgery                3\n",
       "Barn                      2\n",
       "Name: OutcomeSubtype, dtype: int64"
      ]
     },
     "execution_count": 161,
     "metadata": {},
     "output_type": "execute_result"
    }
   ],
   "source": [
    "train['OutcomeSubtype'].value_counts()"
   ]
  },
  {
   "cell_type": "code",
   "execution_count": 162,
   "metadata": {},
   "outputs": [
    {
     "data": {
      "text/plain": [
       "Dog    15595\n",
       "Cat    11134\n",
       "Name: AnimalType, dtype: int64"
      ]
     },
     "execution_count": 162,
     "metadata": {},
     "output_type": "execute_result"
    }
   ],
   "source": [
    "train['AnimalType'].value_counts()"
   ]
  },
  {
   "cell_type": "code",
   "execution_count": 163,
   "metadata": {},
   "outputs": [
    {
     "data": {
      "text/plain": [
       "Neutered Male    9779\n",
       "Spayed Female    8820\n",
       "Intact Male      3525\n",
       "Intact Female    3511\n",
       "Unknown          1093\n",
       "Name: SexuponOutcome, dtype: int64"
      ]
     },
     "execution_count": 163,
     "metadata": {},
     "output_type": "execute_result"
    }
   ],
   "source": [
    "train['SexuponOutcome'].value_counts()"
   ]
  },
  {
   "cell_type": "code",
   "execution_count": 164,
   "metadata": {},
   "outputs": [
    {
     "data": {
      "text/plain": [
       "1 year       3969\n",
       "2 years      3742\n",
       "2 months     3397\n",
       "3 years      1823\n",
       "1 month      1281\n",
       "3 months     1277\n",
       "4 years      1071\n",
       "5 years       992\n",
       "4 months      888\n",
       "6 years       670\n",
       "3 weeks       659\n",
       "5 months      652\n",
       "6 months      588\n",
       "8 years       536\n",
       "7 years       531\n",
       "2 weeks       529\n",
       "10 months     457\n",
       "10 years      446\n",
       "8 months      402\n",
       "4 weeks       334\n",
       "9 years       288\n",
       "7 months      288\n",
       "12 years      234\n",
       "9 months      224\n",
       "1 weeks       171\n",
       "11 months     166\n",
       "1 week        146\n",
       "13 years      143\n",
       "11 years      126\n",
       "3 days        109\n",
       "2 days         99\n",
       "14 years       97\n",
       "15 years       85\n",
       "1 day          66\n",
       "6 days         50\n",
       "4 days         50\n",
       "16 years       36\n",
       "5 days         24\n",
       "0 years        22\n",
       "17 years       17\n",
       "5 weeks        11\n",
       "18 years       10\n",
       "19 years        3\n",
       "20 years        2\n",
       "Name: AgeuponOutcome, dtype: int64"
      ]
     },
     "execution_count": 164,
     "metadata": {},
     "output_type": "execute_result"
    }
   ],
   "source": [
    "train['AgeuponOutcome'].value_counts()"
   ]
  },
  {
   "cell_type": "code",
   "execution_count": 165,
   "metadata": {},
   "outputs": [
    {
     "data": {
      "text/plain": [
       "Domestic Shorthair Mix                     8810\n",
       "Pit Bull Mix                               1906\n",
       "Chihuahua Shorthair Mix                    1766\n",
       "Labrador Retriever Mix                     1363\n",
       "Domestic Medium Hair Mix                    839\n",
       "German Shepherd Mix                         575\n",
       "Domestic Longhair Mix                       520\n",
       "Siamese Mix                                 389\n",
       "Australian Cattle Dog Mix                   367\n",
       "Dachshund Mix                               318\n",
       "Boxer Mix                                   245\n",
       "Miniature Poodle Mix                        233\n",
       "Border Collie Mix                           229\n",
       "Australian Shepherd Mix                     163\n",
       "Rat Terrier Mix                             157\n",
       "Catahoula Mix                               157\n",
       "Jack Russell Terrier Mix                    146\n",
       "Yorkshire Terrier Mix                       143\n",
       "Domestic Shorthair                          143\n",
       "Chihuahua Longhair Mix                      142\n",
       "Siberian Husky Mix                          138\n",
       "Miniature Schnauzer Mix                     136\n",
       "Beagle Mix                                  124\n",
       "Rottweiler Mix                              113\n",
       "American Bulldog Mix                        109\n",
       "Cairn Terrier Mix                           102\n",
       "Shih Tzu Mix                                100\n",
       "Chihuahua Shorthair/Dachshund                98\n",
       "Australian Kelpie Mix                        95\n",
       "Staffordshire Mix                            94\n",
       "                                           ... \n",
       "Blue Lacy/Collie Smooth                       1\n",
       "Border Collie/English Pointer                 1\n",
       "Bulldog/Pit Bull                              1\n",
       "Pekingese/Miniature Poodle                    1\n",
       "Chihuahua Shorthair/Finnish Spitz             1\n",
       "Bull Terrier/Jack Russell Terrier             1\n",
       "Dalmatian/Australian Cattle Dog               1\n",
       "Queensland Heeler/Chihuahua Shorthair         1\n",
       "Beagle/Jack Russell Terrier                   1\n",
       "Beagle/Boston Terrier                         1\n",
       "Keeshond                                      1\n",
       "Cardigan Welsh Corgi/English Setter           1\n",
       "Australian Cattle Dog/Queensland Heeler       1\n",
       "Maltese/Border Terrier                        1\n",
       "St. Bernard Rough Coat                        1\n",
       "Scottish Terrier/Miniature Poodle             1\n",
       "Border Terrier/Dachshund Wirehair             1\n",
       "Manx/Domestic Longhair                        1\n",
       "Boston Terrier/Pit Bull                       1\n",
       "German Shepherd/Great Dane                    1\n",
       "Bluetick Hound                                1\n",
       "Greyhound/Labrador Retriever                  1\n",
       "Collie Smooth/Siberian Husky                  1\n",
       "Dogue De Bordeaux/American Bulldog            1\n",
       "Golden Retriever/Great Pyrenees               1\n",
       "Norfolk Terrier/Dachshund                     1\n",
       "Golden Retriever/Whippet                      1\n",
       "Chihuahua Shorthair/Shetland Sheepdog         1\n",
       "Vizsla/Boxer                                  1\n",
       "Dachshund/Cavalier Span                       1\n",
       "Name: Breed, Length: 1380, dtype: int64"
      ]
     },
     "execution_count": 165,
     "metadata": {},
     "output_type": "execute_result"
    }
   ],
   "source": [
    "train['Breed'].value_counts()"
   ]
  },
  {
   "cell_type": "code",
   "execution_count": 166,
   "metadata": {},
   "outputs": [
    {
     "data": {
      "text/plain": [
       "Black/White                  2824\n",
       "Black                        2292\n",
       "Brown Tabby                  1635\n",
       "Brown Tabby/White             940\n",
       "White                         931\n",
       "Brown/White                   884\n",
       "Orange Tabby                  841\n",
       "Tan/White                     773\n",
       "Tricolor                      752\n",
       "Blue/White                    702\n",
       "Black/Tan                     672\n",
       "White/Black                   643\n",
       "Brown                         639\n",
       "Tan                           628\n",
       "White/Brown                   569\n",
       "Tortie                        530\n",
       "Calico                        517\n",
       "Orange Tabby/White            455\n",
       "Brown Brindle/White           450\n",
       "Blue                          450\n",
       "Black/Brown                   436\n",
       "Blue Tabby                    433\n",
       "White/Tan                     389\n",
       "Red                           337\n",
       "Torbie                        335\n",
       "Brown/Black                   333\n",
       "Red/White                     331\n",
       "Blue Tabby/White              241\n",
       "Brown Brindle                 232\n",
       "Chocolate/White               224\n",
       "                             ... \n",
       "Red/Gold                        1\n",
       "Lynx Point/Brown Tabby          1\n",
       "Liver Tick/White                1\n",
       "Brown Tabby/Brown               1\n",
       "Blue/Brown                      1\n",
       "Tan/Brown Brindle               1\n",
       "Tortie/Black Smoke              1\n",
       "Brown/Blue                      1\n",
       "White/Black Smoke               1\n",
       "Tricolor/Brown Merle            1\n",
       "Tan/Brown Merle                 1\n",
       "Tricolor/Blue Merle             1\n",
       "Brown Merle/Tan                 1\n",
       "Sable/Red                       1\n",
       "Tan/Tricolor                    1\n",
       "Brown Brindle/Brown Merle       1\n",
       "Chocolate/Red Tick              1\n",
       "Blue Merle/Red                  1\n",
       "Brown/Black Brindle             1\n",
       "Blue Cream/Tortie               1\n",
       "Tan/Yellow Brindle              1\n",
       "Silver/Red                      1\n",
       "Red Tick/Brown Merle            1\n",
       "Fawn/Brown                      1\n",
       "Calico/Blue Tabby               1\n",
       "Blue Merle/Cream                1\n",
       "Blue Tabby/Tan                  1\n",
       "Brown Brindle/Blue Cream        1\n",
       "Blue Cream/Buff                 1\n",
       "Blue Cream/Blue Tabby           1\n",
       "Name: Color, Length: 366, dtype: int64"
      ]
     },
     "execution_count": 166,
     "metadata": {},
     "output_type": "execute_result"
    }
   ],
   "source": [
    "train['Color'].value_counts()"
   ]
  },
  {
   "cell_type": "markdown",
   "metadata": {},
   "source": [
    "    - 10개의 Column\n",
    "        - AnimalID, Name, DateTime, OutcomeType, OutcomeSubtype, AnimalType, SexuponOutcome, AgeuponOutcome, Breed, Color\n",
    "    1. 각 동물은 AnimalID 라는 고유의 값을 가짐\n",
    "    2. Name에 NaN 값이 존재\n",
    "    3. DateTime\n",
    "    4. OutcomeType은 5가지\n",
    "        - Adoption, Transfer, Return_to_owner, Euthanasia, Died\n",
    "    5. OutcomeSubtype은 16가지\n",
    "        - NaN 존재\n",
    "    6. AnimalType은 2가지\n",
    "        - Dog, Cat\n",
    "    7. SexuponOutcome은 4가지\n",
    "        - Neutered Male(중성화 수컷), Spayed Female(중성화 암컷), Intact Male(수컷), Intact Female(암컷)\n",
    "    8. AgeuponOutcome은 매우 다양\n",
    "    9. Breed(품종), 1380종\n",
    "    10. Color\n",
    "    \n",
    "- 전처리 필요한 변수들\n",
    "    - DateTime\n",
    "    - AgeuponOutcome\n",
    "        - 일수로 바꾸어 계산이 필요\n",
    "    - Breed\n",
    "        - 크기(소/중/대), 품종(순종/믹스), 장/단모 등\n",
    "    - Color"
   ]
  },
  {
   "cell_type": "markdown",
   "metadata": {},
   "source": [
    "## 전처리"
   ]
  },
  {
   "cell_type": "markdown",
   "metadata": {},
   "source": [
    "### NaN 처리"
   ]
  },
  {
   "cell_type": "code",
   "execution_count": 167,
   "metadata": {
    "collapsed": true
   },
   "outputs": [],
   "source": [
    "train['AgeuponOutcome'] = train['AgeuponOutcome'].replace(np.nan, '0 days', regex=True)\n",
    "train['OutcomeSubtype'] = train['OutcomeSubtype'].replace(np.nan, 'None', regex=True)"
   ]
  },
  {
   "cell_type": "markdown",
   "metadata": {},
   "source": [
    "### 나이 단위를 일(day) 단위로 통일"
   ]
  },
  {
   "cell_type": "code",
   "execution_count": 168,
   "metadata": {
    "collapsed": true
   },
   "outputs": [],
   "source": [
    "byday = []\n",
    "\n",
    "for i in train['AgeuponOutcome']:\n",
    "    i = str(i)\n",
    "    num, unit = i.split(' ')\n",
    "    if unit == 'day' or unit == 'days':\n",
    "        num = int(num) * 1\n",
    "    elif unit == 'week' or unit == 'weeks':\n",
    "        num = int(num) * 7\n",
    "    elif unit == 'month' or unit == 'months':\n",
    "        num = int(num) * 30\n",
    "    else:\n",
    "        num = int(num) * 365\n",
    "    byday.append(num)\n",
    "\n",
    "train['AgebyDay'] = Series(byday)"
   ]
  },
  {
   "cell_type": "code",
   "execution_count": 169,
   "metadata": {},
   "outputs": [
    {
     "data": {
      "text/plain": [
       "365     3969\n",
       "730     3742\n",
       "60      3397\n",
       "1095    1823\n",
       "30      1281\n",
       "90      1277\n",
       "1460    1071\n",
       "1825     992\n",
       "120      888\n",
       "2190     670\n",
       "21       659\n",
       "150      652\n",
       "180      588\n",
       "2920     536\n",
       "2555     531\n",
       "14       529\n",
       "300      457\n",
       "3650     446\n",
       "240      402\n",
       "28       334\n",
       "7        317\n",
       "210      288\n",
       "3285     288\n",
       "4380     234\n",
       "270      224\n",
       "330      166\n",
       "4745     143\n",
       "4015     126\n",
       "3        109\n",
       "2         99\n",
       "5110      97\n",
       "5475      85\n",
       "1         66\n",
       "6         50\n",
       "4         50\n",
       "0         40\n",
       "5840      36\n",
       "5         24\n",
       "6205      17\n",
       "35        11\n",
       "6570      10\n",
       "6935       3\n",
       "7300       2\n",
       "Name: AgebyDay, dtype: int64"
      ]
     },
     "execution_count": 169,
     "metadata": {},
     "output_type": "execute_result"
    }
   ],
   "source": [
    "# 변경 여부를 확인하고, 0이 40건임을 확인\n",
    "train['AgebyDay'].value_counts()"
   ]
  },
  {
   "cell_type": "code",
   "execution_count": 170,
   "metadata": {
    "collapsed": true
   },
   "outputs": [],
   "source": [
    "OutcomeType = pd.get_dummies(train['OutcomeType'])\n",
    "train['Adoption'] = OutcomeType['Adoption']"
   ]
  },
  {
   "cell_type": "markdown",
   "metadata": {},
   "source": [
    "## Data 시각화"
   ]
  },
  {
   "cell_type": "code",
   "execution_count": 171,
   "metadata": {},
   "outputs": [
    {
     "data": {
      "text/plain": [
       "<matplotlib.axes._subplots.AxesSubplot at 0x105e2eb0>"
      ]
     },
     "execution_count": 171,
     "metadata": {},
     "output_type": "execute_result"
    },
    {
     "data": {
      "image/png": "[encoded data removed]",
      "text/plain": [
       "<matplotlib.figure.Figure at 0x91df430>"
      ]
     },
     "metadata": {},
     "output_type": "display_data"
    }
   ],
   "source": [
    "train['AnimalType'].value_counts().plot(kind = 'bar')"
   ]
  },
  {
   "cell_type": "code",
   "execution_count": 172,
   "metadata": {},
   "outputs": [
    {
     "data": {
      "text/plain": [
       "<matplotlib.axes._subplots.AxesSubplot at 0x10d53cd0>"
      ]
     },
     "execution_count": 172,
     "metadata": {},
     "output_type": "execute_result"
    },
    {
     "data": {
      "image/png": "[encoded data removed]",
      "text/plain": [
       "<matplotlib.figure.Figure at 0x94b2770>"
      ]
     },
     "metadata": {},
     "output_type": "display_data"
    }
   ],
   "source": [
    "f, (ax1, ax2) = plt.subplots(1, 2, figsize=(16,4))\n",
    "sns.countplot(data=train, x='OutcomeType', hue='AnimalType', ax = ax1)\n",
    "sns.countplot(data=train, x='SexuponOutcome', hue='AnimalType', ax=ax2)"
   ]
  },
  {
   "cell_type": "markdown",
   "metadata": {},
   "source": [
    "* OutcomeType에서 AniamlType별 차이가 크게 발생한다\n",
    "    * 개는 주인이 되찾아간 비율이 고양이에 비해 확연히 큼\n",
    "    * 고양이는 입양되거나 다른 시설로 보내진 경우가 많다\n",
    "    * 보호기간 동안 죽거나 안락사 된 비율은 고양이와 개, 모두 낮다\n",
    "* SexuponOutcome에서 AnimalType별 차이가 발생한다\n",
    "    * 개는 성별에 관계없이 중성화된 비율이 높게 나타난다\n",
    "    * 고양이도 중성화된 비율이 높으나, 크게 차이가 발생하지 않는다\n",
    "    * 고양이의 경우 성별이 누락된 경우가 있다 (Unknown)"
   ]
  },
  {
   "cell_type": "code",
   "execution_count": 173,
   "metadata": {
    "scrolled": true
   },
   "outputs": [
    {
     "data": {
      "image/png": "[encoded data removed]",
      "text/plain": [
       "<matplotlib.figure.Figure at 0x91ce230>"
      ]
     },
     "metadata": {},
     "output_type": "display_data"
    }
   ],
   "source": [
    "from statsmodels.graphics.mosaicplot import mosaic\n",
    "plt.rcParams['font.size'] = 7\n",
    "mosaic = mosaic(train, ['AnimalType', 'OutcomeType', 'SexuponOutcome'])"
   ]
  },
  {
   "cell_type": "markdown",
   "metadata": {},
   "source": [
    "* AnimalType에 관계없이, 중성화 된 개체가 Adoption에서 높은 비율을 차지함\n",
    "* Adoption과 개체의 성별은 상관도가 낮은 것으로 판단됨\n",
    "* 전반적으로 성별 자체의 영향은 낮은것으로 보이며, Adoption과 Return to owner에만 중성화에 따른 비율이 다르다"
   ]
  },
  {
   "cell_type": "code",
   "execution_count": 174,
   "metadata": {},
   "outputs": [
    {
     "data": {
      "text/plain": [
       "<matplotlib.axes._subplots.AxesSubplot at 0xf9725d0>"
      ]
     },
     "execution_count": 174,
     "metadata": {},
     "output_type": "execute_result"
    },
    {
     "data": {
      "image/png": "[encoded data removed]",
      "text/plain": [
       "<matplotlib.figure.Figure at 0xf46ca10>"
      ]
     },
     "metadata": {},
     "output_type": "display_data"
    }
   ],
   "source": [
    "sns.boxplot(x='AgebyDay', y='AnimalType', data = train)"
   ]
  },
  {
   "cell_type": "code",
   "execution_count": 175,
   "metadata": {},
   "outputs": [
    {
     "data": {
      "image/png": "[encoded data removed]",
      "text/plain": [
       "<matplotlib.figure.Figure at 0x91b2bd0>"
      ]
     },
     "metadata": {},
     "output_type": "display_data"
    }
   ],
   "source": [
    "f, (ax1, ax2) = plt.subplots(1, 2, figsize=(16,4))\n",
    "sns.violinplot(x=\"OutcomeType\", y=\"AgebyDay\", hue=\"AnimalType\", data=train, split=True,\n",
    "               inner=\"quart\", palette={\"Dog\": \"b\", \"Cat\": \"y\"}, ax=ax1)\n",
    "sns.violinplot(x=\"SexuponOutcome\", y=\"AgebyDay\", hue=\"AnimalType\", data=train, split=True,\n",
    "               inner=\"quart\", palette={\"Dog\": \"b\", \"Cat\": \"y\"}, ax=ax2)\n",
    "sns.despine(left=True)"
   ]
  },
  {
   "cell_type": "markdown",
   "metadata": {},
   "source": [
    "* 보호소에 어린 고양이가 많이 들어옴\n",
    "* 따라서 고양이의 OutcomeType은 모두 어린 쪽에 집중되어있다\n",
    "    * 고양이의 나이는 크게 영향이 없을 것으로 예상됨\n",
    "    * 단, 나이가 많은 고양이의 경우, 안락사 되는 경우가 있다\n",
    "    * 고양이는 다쳐서 보호소에 들어오는 경우가 많지 않을까 예상\n",
    "* 다양한 연령대의 개들이 보호소에 들어옴\n",
    "    * 입양되는 비율은 어린 개에 집중되어 있으며, 나이가 많을 수록 안락사의 비율이 높았다\n",
    "    * 개는 고양이에 비해 죽거나 안락사 되는 비율이 적은 것으로 보인다"
   ]
  },
  {
   "cell_type": "code",
   "execution_count": 176,
   "metadata": {},
   "outputs": [],
   "source": [
    "subset = train[['OutcomeSubtype', 'OutcomeType']]\n",
    "tuples = [tuple(x) for x in subset.values]"
   ]
  },
  {
   "cell_type": "code",
   "execution_count": 177,
   "metadata": {},
   "outputs": [],
   "source": [
    "from collections import Counter\n",
    "\n",
    "val_3=Counter(tuples)"
   ]
  },
  {
   "cell_type": "code",
   "execution_count": 178,
   "metadata": {},
   "outputs": [],
   "source": [
    "sub_df1 = pd.DataFrame(val_3.values(), columns=['count'], index=pd.MultiIndex.from_tuples(val_3.keys()))\n",
    "sub_df2 = sub_df1.unstack()\n",
    "sub_df2.columns = sub_df2.columns.droplevel()  # Drop `count` label.\n",
    "sub_df2 = sub_df2.div(sub_df2.sum())"
   ]
  },
  {
   "cell_type": "code",
   "execution_count": 179,
   "metadata": {},
   "outputs": [
    {
     "data": {
      "text/html": [
       "<div>\n",
       "<style>\n",
       "    .dataframe thead tr:only-child th {\n",
       "        text-align: right;\n",
       "    }\n",
       "\n",
       "    .dataframe thead th {\n",
       "        text-align: left;\n",
       "    }\n",
       "\n",
       "    .dataframe tbody tr th {\n",
       "        vertical-align: top;\n",
       "    }\n",
       "</style>\n",
       "<table border=\"1\" class=\"dataframe\">\n",
       "  <thead>\n",
       "    <tr style=\"text-align: right;\">\n",
       "      <th></th>\n",
       "      <th>Adoption</th>\n",
       "      <th>Died</th>\n",
       "      <th>Euthanasia</th>\n",
       "      <th>Return_to_owner</th>\n",
       "      <th>Transfer</th>\n",
       "    </tr>\n",
       "  </thead>\n",
       "  <tbody>\n",
       "    <tr>\n",
       "      <th>Aggressive</th>\n",
       "      <td>NaN</td>\n",
       "      <td>NaN</td>\n",
       "      <td>0.205788</td>\n",
       "      <td>NaN</td>\n",
       "      <td>NaN</td>\n",
       "    </tr>\n",
       "    <tr>\n",
       "      <th>At Vet</th>\n",
       "      <td>NaN</td>\n",
       "      <td>0.020305</td>\n",
       "      <td>NaN</td>\n",
       "      <td>NaN</td>\n",
       "      <td>NaN</td>\n",
       "    </tr>\n",
       "    <tr>\n",
       "      <th>Barn</th>\n",
       "      <td>0.000093</td>\n",
       "      <td>NaN</td>\n",
       "      <td>NaN</td>\n",
       "      <td>NaN</td>\n",
       "      <td>0.000106</td>\n",
       "    </tr>\n",
       "    <tr>\n",
       "      <th>Behavior</th>\n",
       "      <td>NaN</td>\n",
       "      <td>NaN</td>\n",
       "      <td>0.055305</td>\n",
       "      <td>NaN</td>\n",
       "      <td>NaN</td>\n",
       "    </tr>\n",
       "    <tr>\n",
       "      <th>Court/Investigation</th>\n",
       "      <td>NaN</td>\n",
       "      <td>NaN</td>\n",
       "      <td>0.003859</td>\n",
       "      <td>NaN</td>\n",
       "      <td>NaN</td>\n",
       "    </tr>\n",
       "    <tr>\n",
       "      <th>Enroute</th>\n",
       "      <td>NaN</td>\n",
       "      <td>0.040609</td>\n",
       "      <td>NaN</td>\n",
       "      <td>NaN</td>\n",
       "      <td>NaN</td>\n",
       "    </tr>\n",
       "    <tr>\n",
       "      <th>Foster</th>\n",
       "      <td>0.167146</td>\n",
       "      <td>NaN</td>\n",
       "      <td>NaN</td>\n",
       "      <td>NaN</td>\n",
       "      <td>NaN</td>\n",
       "    </tr>\n",
       "    <tr>\n",
       "      <th>In Foster</th>\n",
       "      <td>NaN</td>\n",
       "      <td>0.263959</td>\n",
       "      <td>NaN</td>\n",
       "      <td>NaN</td>\n",
       "      <td>NaN</td>\n",
       "    </tr>\n",
       "    <tr>\n",
       "      <th>In Kennel</th>\n",
       "      <td>NaN</td>\n",
       "      <td>0.578680</td>\n",
       "      <td>NaN</td>\n",
       "      <td>NaN</td>\n",
       "      <td>NaN</td>\n",
       "    </tr>\n",
       "    <tr>\n",
       "      <th>In Surgery</th>\n",
       "      <td>NaN</td>\n",
       "      <td>0.015228</td>\n",
       "      <td>NaN</td>\n",
       "      <td>NaN</td>\n",
       "      <td>NaN</td>\n",
       "    </tr>\n",
       "    <tr>\n",
       "      <th>Medical</th>\n",
       "      <td>NaN</td>\n",
       "      <td>NaN</td>\n",
       "      <td>0.042444</td>\n",
       "      <td>NaN</td>\n",
       "      <td>NaN</td>\n",
       "    </tr>\n",
       "    <tr>\n",
       "      <th>None</th>\n",
       "      <td>0.817439</td>\n",
       "      <td>0.081218</td>\n",
       "      <td>0.000643</td>\n",
       "      <td>1.0</td>\n",
       "      <td>0.000637</td>\n",
       "    </tr>\n",
       "    <tr>\n",
       "      <th>Offsite</th>\n",
       "      <td>0.015322</td>\n",
       "      <td>NaN</td>\n",
       "      <td>NaN</td>\n",
       "      <td>NaN</td>\n",
       "      <td>NaN</td>\n",
       "    </tr>\n",
       "    <tr>\n",
       "      <th>Partner</th>\n",
       "      <td>NaN</td>\n",
       "      <td>NaN</td>\n",
       "      <td>NaN</td>\n",
       "      <td>NaN</td>\n",
       "      <td>0.829548</td>\n",
       "    </tr>\n",
       "    <tr>\n",
       "      <th>Rabies Risk</th>\n",
       "      <td>NaN</td>\n",
       "      <td>NaN</td>\n",
       "      <td>0.047588</td>\n",
       "      <td>NaN</td>\n",
       "      <td>NaN</td>\n",
       "    </tr>\n",
       "    <tr>\n",
       "      <th>SCRP</th>\n",
       "      <td>NaN</td>\n",
       "      <td>NaN</td>\n",
       "      <td>NaN</td>\n",
       "      <td>NaN</td>\n",
       "      <td>0.169709</td>\n",
       "    </tr>\n",
       "    <tr>\n",
       "      <th>Suffering</th>\n",
       "      <td>NaN</td>\n",
       "      <td>NaN</td>\n",
       "      <td>0.644373</td>\n",
       "      <td>NaN</td>\n",
       "      <td>NaN</td>\n",
       "    </tr>\n",
       "  </tbody>\n",
       "</table>\n",
       "</div>"
      ],
      "text/plain": [
       "                     Adoption      Died  Euthanasia  Return_to_owner  Transfer\n",
       "Aggressive                NaN       NaN    0.205788              NaN       NaN\n",
       "At Vet                    NaN  0.020305         NaN              NaN       NaN\n",
       "Barn                 0.000093       NaN         NaN              NaN  0.000106\n",
       "Behavior                  NaN       NaN    0.055305              NaN       NaN\n",
       "Court/Investigation       NaN       NaN    0.003859              NaN       NaN\n",
       "Enroute                   NaN  0.040609         NaN              NaN       NaN\n",
       "Foster               0.167146       NaN         NaN              NaN       NaN\n",
       "In Foster                 NaN  0.263959         NaN              NaN       NaN\n",
       "In Kennel                 NaN  0.578680         NaN              NaN       NaN\n",
       "In Surgery                NaN  0.015228         NaN              NaN       NaN\n",
       "Medical                   NaN       NaN    0.042444              NaN       NaN\n",
       "None                 0.817439  0.081218    0.000643              1.0  0.000637\n",
       "Offsite              0.015322       NaN         NaN              NaN       NaN\n",
       "Partner                   NaN       NaN         NaN              NaN  0.829548\n",
       "Rabies Risk               NaN       NaN    0.047588              NaN       NaN\n",
       "SCRP                      NaN       NaN         NaN              NaN  0.169709\n",
       "Suffering                 NaN       NaN    0.644373              NaN       NaN"
      ]
     },
     "execution_count": 179,
     "metadata": {},
     "output_type": "execute_result"
    }
   ],
   "source": [
    "sub_df2"
   ]
  },
  {
   "cell_type": "code",
   "execution_count": 180,
   "metadata": {},
   "outputs": [
    {
     "data": {
      "text/plain": [
       "<matplotlib.axes._subplots.AxesSubplot at 0x117ff9f0>"
      ]
     },
     "execution_count": 180,
     "metadata": {},
     "output_type": "execute_result"
    },
    {
     "data": {
      "image/png": "[encoded data removed]",
      "text/plain": [
       "<matplotlib.figure.Figure at 0x91b2b10>"
      ]
     },
     "metadata": {},
     "output_type": "display_data"
    }
   ],
   "source": [
    "sub_df2.T.plot(kind='bar', stacked=True, rot=1, figsize=(8, 8))"
   ]
  },
  {
   "cell_type": "code",
   "execution_count": null,
   "metadata": {
    "collapsed": true
   },
   "outputs": [],
   "source": []
  },
  {
   "cell_type": "code",
   "execution_count": null,
   "metadata": {
    "collapsed": true
   },
   "outputs": [],
   "source": []
  }
 ],
 "metadata": {
  "kernelspec": {
   "display_name": "Python 2",
   "language": "python",
   "name": "python2"
  },
  "language_info": {
   "codemirror_mode": {
    "name": "ipython",
    "version": 2
   },
   "file_extension": ".py",
   "mimetype": "text/x-python",
   "name": "python",
   "nbconvert_exporter": "python",
   "pygments_lexer": "ipython2",
   "version": "2.7.13"
  }
 },
 "nbformat": 4,
 "nbformat_minor": 2
}
