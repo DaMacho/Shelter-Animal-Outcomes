{
 "cells": [
  {
   "cell_type": "code",
   "execution_count": 239,
   "metadata": {
    "collapsed": true
   },
   "outputs": [],
   "source": [
    "import re\n",
    "import pandas as pd\n",
    "import numpy as np\n",
    "import matplotlib.pyplot as plt\n",
    "import seaborn as sns\n",
    "from pandas import DataFrame, Series\n",
    "%matplotlib inline"
   ]
  },
  {
   "cell_type": "code",
   "execution_count": 240,
   "metadata": {
    "collapsed": true
   },
   "outputs": [],
   "source": [
    "train = pd.read_csv('data/train.csv')\n",
    "test = pd.read_csv('data/test.csv')\n",
    "sample = pd.read_csv('data/sample_submission.csv')"
   ]
  },
  {
   "cell_type": "markdown",
   "metadata": {},
   "source": [
    "## train data 형태 확인"
   ]
  },
  {
   "cell_type": "code",
   "execution_count": 226,
   "metadata": {
    "scrolled": true
   },
   "outputs": [
    {
     "data": {
      "text/plain": [
       "AnimalID                        A671945\n",
       "Name                            Hambone\n",
       "DateTime            2014-02-12 18:22:00\n",
       "OutcomeType             Return_to_owner\n",
       "OutcomeSubtype                      NaN\n",
       "AnimalType                          Dog\n",
       "SexuponOutcome            Neutered Male\n",
       "AgeuponOutcome                   1 year\n",
       "Breed             Shetland Sheepdog Mix\n",
       "Color                       Brown/White\n",
       "Name: 0, dtype: object"
      ]
     },
     "execution_count": 226,
     "metadata": {},
     "output_type": "execute_result"
    }
   ],
   "source": [
    "train.loc[0]"
   ]
  },
  {
   "cell_type": "code",
   "execution_count": 227,
   "metadata": {},
   "outputs": [
    {
     "data": {
      "text/html": [
       "<div>\n",
       "<style>\n",
       "    .dataframe thead tr:only-child th {\n",
       "        text-align: right;\n",
       "    }\n",
       "\n",
       "    .dataframe thead th {\n",
       "        text-align: left;\n",
       "    }\n",
       "\n",
       "    .dataframe tbody tr th {\n",
       "        vertical-align: top;\n",
       "    }\n",
       "</style>\n",
       "<table border=\"1\" class=\"dataframe\">\n",
       "  <thead>\n",
       "    <tr style=\"text-align: right;\">\n",
       "      <th></th>\n",
       "      <th>AnimalID</th>\n",
       "      <th>Name</th>\n",
       "      <th>DateTime</th>\n",
       "      <th>OutcomeType</th>\n",
       "      <th>OutcomeSubtype</th>\n",
       "      <th>AnimalType</th>\n",
       "      <th>SexuponOutcome</th>\n",
       "      <th>AgeuponOutcome</th>\n",
       "      <th>Breed</th>\n",
       "      <th>Color</th>\n",
       "    </tr>\n",
       "  </thead>\n",
       "  <tbody>\n",
       "    <tr>\n",
       "      <th>26724</th>\n",
       "      <td>A702446</td>\n",
       "      <td>NaN</td>\n",
       "      <td>2015-05-14 11:56:00</td>\n",
       "      <td>Transfer</td>\n",
       "      <td>Partner</td>\n",
       "      <td>Cat</td>\n",
       "      <td>Intact Male</td>\n",
       "      <td>1 month</td>\n",
       "      <td>Domestic Shorthair Mix</td>\n",
       "      <td>Brown Tabby/White</td>\n",
       "    </tr>\n",
       "    <tr>\n",
       "      <th>26725</th>\n",
       "      <td>A718934</td>\n",
       "      <td>NaN</td>\n",
       "      <td>2016-01-20 18:59:00</td>\n",
       "      <td>Transfer</td>\n",
       "      <td>SCRP</td>\n",
       "      <td>Cat</td>\n",
       "      <td>Spayed Female</td>\n",
       "      <td>3 months</td>\n",
       "      <td>Domestic Shorthair Mix</td>\n",
       "      <td>Brown Tabby</td>\n",
       "    </tr>\n",
       "    <tr>\n",
       "      <th>26726</th>\n",
       "      <td>A698128</td>\n",
       "      <td>Zeus</td>\n",
       "      <td>2015-03-09 13:33:00</td>\n",
       "      <td>Adoption</td>\n",
       "      <td>NaN</td>\n",
       "      <td>Dog</td>\n",
       "      <td>Neutered Male</td>\n",
       "      <td>4 years</td>\n",
       "      <td>Old English Bulldog Mix</td>\n",
       "      <td>White/Tan</td>\n",
       "    </tr>\n",
       "    <tr>\n",
       "      <th>26727</th>\n",
       "      <td>A677478</td>\n",
       "      <td>NaN</td>\n",
       "      <td>2014-04-27 12:22:00</td>\n",
       "      <td>Transfer</td>\n",
       "      <td>Partner</td>\n",
       "      <td>Cat</td>\n",
       "      <td>Intact Male</td>\n",
       "      <td>4 weeks</td>\n",
       "      <td>Domestic Shorthair Mix</td>\n",
       "      <td>Black</td>\n",
       "    </tr>\n",
       "    <tr>\n",
       "      <th>26728</th>\n",
       "      <td>A706629</td>\n",
       "      <td>NaN</td>\n",
       "      <td>2015-07-02 09:00:00</td>\n",
       "      <td>Transfer</td>\n",
       "      <td>SCRP</td>\n",
       "      <td>Cat</td>\n",
       "      <td>Intact Male</td>\n",
       "      <td>1 year</td>\n",
       "      <td>Domestic Shorthair Mix</td>\n",
       "      <td>Brown Tabby/White</td>\n",
       "    </tr>\n",
       "  </tbody>\n",
       "</table>\n",
       "</div>"
      ],
      "text/plain": [
       "      AnimalID  Name             DateTime OutcomeType OutcomeSubtype  \\\n",
       "26724  A702446   NaN  2015-05-14 11:56:00    Transfer        Partner   \n",
       "26725  A718934   NaN  2016-01-20 18:59:00    Transfer           SCRP   \n",
       "26726  A698128  Zeus  2015-03-09 13:33:00    Adoption            NaN   \n",
       "26727  A677478   NaN  2014-04-27 12:22:00    Transfer        Partner   \n",
       "26728  A706629   NaN  2015-07-02 09:00:00    Transfer           SCRP   \n",
       "\n",
       "      AnimalType SexuponOutcome AgeuponOutcome                    Breed  \\\n",
       "26724        Cat    Intact Male        1 month   Domestic Shorthair Mix   \n",
       "26725        Cat  Spayed Female       3 months   Domestic Shorthair Mix   \n",
       "26726        Dog  Neutered Male        4 years  Old English Bulldog Mix   \n",
       "26727        Cat    Intact Male        4 weeks   Domestic Shorthair Mix   \n",
       "26728        Cat    Intact Male         1 year   Domestic Shorthair Mix   \n",
       "\n",
       "                   Color  \n",
       "26724  Brown Tabby/White  \n",
       "26725        Brown Tabby  \n",
       "26726          White/Tan  \n",
       "26727              Black  \n",
       "26728  Brown Tabby/White  "
      ]
     },
     "execution_count": 227,
     "metadata": {},
     "output_type": "execute_result"
    }
   ],
   "source": [
    "train.tail()"
   ]
  },
  {
   "cell_type": "code",
   "execution_count": 228,
   "metadata": {},
   "outputs": [
    {
     "data": {
      "text/plain": [
       "Adoption           10769\n",
       "Transfer            9422\n",
       "Return_to_owner     4786\n",
       "Euthanasia          1555\n",
       "Died                 197\n",
       "Name: OutcomeType, dtype: int64"
      ]
     },
     "execution_count": 228,
     "metadata": {},
     "output_type": "execute_result"
    }
   ],
   "source": [
    "train['OutcomeType'].value_counts()"
   ]
  },
  {
   "cell_type": "code",
   "execution_count": 229,
   "metadata": {},
   "outputs": [
    {
     "data": {
      "text/plain": [
       "Partner                7816\n",
       "Foster                 1800\n",
       "SCRP                   1599\n",
       "Suffering              1002\n",
       "Aggressive              320\n",
       "Offsite                 165\n",
       "In Kennel               114\n",
       "Behavior                 86\n",
       "Rabies Risk              74\n",
       "Medical                  66\n",
       "In Foster                52\n",
       "Enroute                   8\n",
       "Court/Investigation       6\n",
       "At Vet                    4\n",
       "In Surgery                3\n",
       "Barn                      2\n",
       "Name: OutcomeSubtype, dtype: int64"
      ]
     },
     "execution_count": 229,
     "metadata": {},
     "output_type": "execute_result"
    }
   ],
   "source": [
    "train['OutcomeSubtype'].value_counts()"
   ]
  },
  {
   "cell_type": "code",
   "execution_count": 230,
   "metadata": {},
   "outputs": [
    {
     "data": {
      "text/plain": [
       "Dog    15595\n",
       "Cat    11134\n",
       "Name: AnimalType, dtype: int64"
      ]
     },
     "execution_count": 230,
     "metadata": {},
     "output_type": "execute_result"
    }
   ],
   "source": [
    "train['AnimalType'].value_counts()"
   ]
  },
  {
   "cell_type": "code",
   "execution_count": 231,
   "metadata": {},
   "outputs": [
    {
     "data": {
      "text/plain": [
       "Neutered Male    9779\n",
       "Spayed Female    8820\n",
       "Intact Male      3525\n",
       "Intact Female    3511\n",
       "Unknown          1093\n",
       "Name: SexuponOutcome, dtype: int64"
      ]
     },
     "execution_count": 231,
     "metadata": {},
     "output_type": "execute_result"
    }
   ],
   "source": [
    "train['SexuponOutcome'].value_counts()"
   ]
  },
  {
   "cell_type": "code",
   "execution_count": 232,
   "metadata": {},
   "outputs": [
    {
     "data": {
      "text/plain": [
       "1 year       3969\n",
       "2 years      3742\n",
       "2 months     3397\n",
       "3 years      1823\n",
       "1 month      1281\n",
       "3 months     1277\n",
       "4 years      1071\n",
       "5 years       992\n",
       "4 months      888\n",
       "6 years       670\n",
       "3 weeks       659\n",
       "5 months      652\n",
       "6 months      588\n",
       "8 years       536\n",
       "7 years       531\n",
       "2 weeks       529\n",
       "10 months     457\n",
       "10 years      446\n",
       "8 months      402\n",
       "4 weeks       334\n",
       "9 years       288\n",
       "7 months      288\n",
       "12 years      234\n",
       "9 months      224\n",
       "1 weeks       171\n",
       "11 months     166\n",
       "1 week        146\n",
       "13 years      143\n",
       "11 years      126\n",
       "3 days        109\n",
       "2 days         99\n",
       "14 years       97\n",
       "15 years       85\n",
       "1 day          66\n",
       "6 days         50\n",
       "4 days         50\n",
       "16 years       36\n",
       "5 days         24\n",
       "0 years        22\n",
       "17 years       17\n",
       "5 weeks        11\n",
       "18 years       10\n",
       "19 years        3\n",
       "20 years        2\n",
       "Name: AgeuponOutcome, dtype: int64"
      ]
     },
     "execution_count": 232,
     "metadata": {},
     "output_type": "execute_result"
    }
   ],
   "source": [
    "train['AgeuponOutcome'].value_counts()"
   ]
  },
  {
   "cell_type": "code",
   "execution_count": 233,
   "metadata": {},
   "outputs": [
    {
     "data": {
      "text/plain": [
       "Domestic Shorthair Mix                     8810\n",
       "Pit Bull Mix                               1906\n",
       "Chihuahua Shorthair Mix                    1766\n",
       "Labrador Retriever Mix                     1363\n",
       "Domestic Medium Hair Mix                    839\n",
       "German Shepherd Mix                         575\n",
       "Domestic Longhair Mix                       520\n",
       "Siamese Mix                                 389\n",
       "Australian Cattle Dog Mix                   367\n",
       "Dachshund Mix                               318\n",
       "Boxer Mix                                   245\n",
       "Miniature Poodle Mix                        233\n",
       "Border Collie Mix                           229\n",
       "Australian Shepherd Mix                     163\n",
       "Rat Terrier Mix                             157\n",
       "Catahoula Mix                               157\n",
       "Jack Russell Terrier Mix                    146\n",
       "Yorkshire Terrier Mix                       143\n",
       "Domestic Shorthair                          143\n",
       "Chihuahua Longhair Mix                      142\n",
       "Siberian Husky Mix                          138\n",
       "Miniature Schnauzer Mix                     136\n",
       "Beagle Mix                                  124\n",
       "Rottweiler Mix                              113\n",
       "American Bulldog Mix                        109\n",
       "Cairn Terrier Mix                           102\n",
       "Shih Tzu Mix                                100\n",
       "Chihuahua Shorthair/Dachshund                98\n",
       "Australian Kelpie Mix                        95\n",
       "Staffordshire Mix                            94\n",
       "                                           ... \n",
       "Blue Lacy/Collie Smooth                       1\n",
       "Border Collie/English Pointer                 1\n",
       "Bulldog/Pit Bull                              1\n",
       "Pekingese/Miniature Poodle                    1\n",
       "Chihuahua Shorthair/Finnish Spitz             1\n",
       "Bull Terrier/Jack Russell Terrier             1\n",
       "Dalmatian/Australian Cattle Dog               1\n",
       "Queensland Heeler/Chihuahua Shorthair         1\n",
       "Beagle/Jack Russell Terrier                   1\n",
       "Beagle/Boston Terrier                         1\n",
       "Keeshond                                      1\n",
       "Cardigan Welsh Corgi/English Setter           1\n",
       "Australian Cattle Dog/Queensland Heeler       1\n",
       "Maltese/Border Terrier                        1\n",
       "St. Bernard Rough Coat                        1\n",
       "Scottish Terrier/Miniature Poodle             1\n",
       "Border Terrier/Dachshund Wirehair             1\n",
       "Manx/Domestic Longhair                        1\n",
       "Boston Terrier/Pit Bull                       1\n",
       "German Shepherd/Great Dane                    1\n",
       "Bluetick Hound                                1\n",
       "Greyhound/Labrador Retriever                  1\n",
       "Collie Smooth/Siberian Husky                  1\n",
       "Dogue De Bordeaux/American Bulldog            1\n",
       "Golden Retriever/Great Pyrenees               1\n",
       "Norfolk Terrier/Dachshund                     1\n",
       "Golden Retriever/Whippet                      1\n",
       "Chihuahua Shorthair/Shetland Sheepdog         1\n",
       "Vizsla/Boxer                                  1\n",
       "Dachshund/Cavalier Span                       1\n",
       "Name: Breed, Length: 1380, dtype: int64"
      ]
     },
     "execution_count": 233,
     "metadata": {},
     "output_type": "execute_result"
    }
   ],
   "source": [
    "train['Breed'].value_counts()"
   ]
  },
  {
   "cell_type": "code",
   "execution_count": 234,
   "metadata": {},
   "outputs": [
    {
     "data": {
      "text/plain": [
       "Black/White                  2824\n",
       "Black                        2292\n",
       "Brown Tabby                  1635\n",
       "Brown Tabby/White             940\n",
       "White                         931\n",
       "Brown/White                   884\n",
       "Orange Tabby                  841\n",
       "Tan/White                     773\n",
       "Tricolor                      752\n",
       "Blue/White                    702\n",
       "Black/Tan                     672\n",
       "White/Black                   643\n",
       "Brown                         639\n",
       "Tan                           628\n",
       "White/Brown                   569\n",
       "Tortie                        530\n",
       "Calico                        517\n",
       "Orange Tabby/White            455\n",
       "Brown Brindle/White           450\n",
       "Blue                          450\n",
       "Black/Brown                   436\n",
       "Blue Tabby                    433\n",
       "White/Tan                     389\n",
       "Red                           337\n",
       "Torbie                        335\n",
       "Brown/Black                   333\n",
       "Red/White                     331\n",
       "Blue Tabby/White              241\n",
       "Brown Brindle                 232\n",
       "Chocolate/White               224\n",
       "                             ... \n",
       "Red/Gold                        1\n",
       "Lynx Point/Brown Tabby          1\n",
       "Liver Tick/White                1\n",
       "Brown Tabby/Brown               1\n",
       "Blue/Brown                      1\n",
       "Tan/Brown Brindle               1\n",
       "Tortie/Black Smoke              1\n",
       "Brown/Blue                      1\n",
       "White/Black Smoke               1\n",
       "Tricolor/Brown Merle            1\n",
       "Tan/Brown Merle                 1\n",
       "Tricolor/Blue Merle             1\n",
       "Brown Merle/Tan                 1\n",
       "Sable/Red                       1\n",
       "Tan/Tricolor                    1\n",
       "Brown Brindle/Brown Merle       1\n",
       "Chocolate/Red Tick              1\n",
       "Blue Merle/Red                  1\n",
       "Brown/Black Brindle             1\n",
       "Blue Cream/Tortie               1\n",
       "Tan/Yellow Brindle              1\n",
       "Silver/Red                      1\n",
       "Red Tick/Brown Merle            1\n",
       "Fawn/Brown                      1\n",
       "Calico/Blue Tabby               1\n",
       "Blue Merle/Cream                1\n",
       "Blue Tabby/Tan                  1\n",
       "Brown Brindle/Blue Cream        1\n",
       "Blue Cream/Buff                 1\n",
       "Blue Cream/Blue Tabby           1\n",
       "Name: Color, Length: 366, dtype: int64"
      ]
     },
     "execution_count": 234,
     "metadata": {},
     "output_type": "execute_result"
    }
   ],
   "source": [
    "train['Color'].value_counts()"
   ]
  },
  {
   "cell_type": "markdown",
   "metadata": {},
   "source": [
    "    - 10개의 Column\n",
    "        - AnimalID, Name, DateTime, OutcomeType, OutcomeSubtype, AnimalType, SexuponOutcome, AgeuponOutcome, Breed, Color\n",
    "    1. 각 동물은 AnimalID 라는 고유의 값을 가짐\n",
    "    2. Name에 NaN 값이 존재\n",
    "    3. DateTime\n",
    "    4. OutcomeType은 5가지\n",
    "        - Adoption, Transfer, Return_to_owner, Euthanasia, Died\n",
    "    5. OutcomeSubtype은 16가지\n",
    "        - NaN 존재\n",
    "    6. AnimalType은 2가지\n",
    "        - Dog, Cat\n",
    "    7. SexuponOutcome은 4가지\n",
    "        - Neutered Male(중성화 수컷), Spayed Female(중성화 암컷), Intact Male(수컷), Intact Female(암컷)\n",
    "    8. AgeuponOutcome은 매우 다양\n",
    "    9. Breed(품종), 1380종\n",
    "    10. Color\n",
    "    \n",
    "- 전처리 필요한 변수들\n",
    "    - Name\n",
    "    - DateTime\n",
    "    - AgeuponOutcome\n",
    "        - 일수로 바꾸어 계산이 필요\n",
    "    - Breed\n",
    "        - 크기(소/중/대), 품종(순종/믹스), 장/단모 등\n",
    "    - Color"
   ]
  },
  {
   "cell_type": "markdown",
   "metadata": {},
   "source": [
    "## 전처리"
   ]
  },
  {
   "cell_type": "markdown",
   "metadata": {},
   "source": [
    "### NaN 처리"
   ]
  },
  {
   "cell_type": "code",
   "execution_count": 235,
   "metadata": {
    "collapsed": true
   },
   "outputs": [],
   "source": [
    "train['Name'] = train['Name'].replace(np.nan, 'Unnamed', regex=True)\n",
    "train['AgeuponOutcome'] = train['AgeuponOutcome'].replace(np.nan, '0 days', regex=True)\n",
    "train['OutcomeSubtype'] = train['OutcomeSubtype'].replace(np.nan, 'None', regex=True)\n",
    "train['SexuponOutcome'] = train['SexuponOutcome'].replace(np.nan, 'Unknown', regex=True)"
   ]
  },
  {
   "cell_type": "markdown",
   "metadata": {},
   "source": [
    "### 이름 분류 (Named / Unnamed)"
   ]
  },
  {
   "cell_type": "code",
   "execution_count": 244,
   "metadata": {},
   "outputs": [],
   "source": [
    "for i in range(0, len(train['Name'])):\n",
    "    if train['Name'][i] != 'Unnamed':\n",
    "        train['Name'][i] = 'Named'"
   ]
  },
  {
   "cell_type": "code",
   "execution_count": 242,
   "metadata": {},
   "outputs": [
    {
     "ename": "SyntaxError",
     "evalue": "invalid syntax (<ipython-input-242-31b7ff492904>, line 2)",
     "output_type": "error",
     "traceback": [
      "\u001b[1;36m  File \u001b[1;32m\"<ipython-input-242-31b7ff492904>\"\u001b[1;36m, line \u001b[1;32m2\u001b[0m\n\u001b[1;33m    [name[i] = 'Named' for i in range(0, len(name)) if name[i] != 'Unnamed']\u001b[0m\n\u001b[1;37m             ^\u001b[0m\n\u001b[1;31mSyntaxError\u001b[0m\u001b[1;31m:\u001b[0m invalid syntax\n"
     ]
    }
   ],
   "source": [
    "name = train['Name']\n",
    "[name[i] = 'Named' for i in range(0, len(name)) if name[i] != 'Unnamed']"
   ]
  },
  {
   "cell_type": "code",
   "execution_count": 245,
   "metadata": {},
   "outputs": [
    {
     "data": {
      "text/plain": [
       "Named    26729\n",
       "Name: Name, dtype: int64"
      ]
     },
     "execution_count": 245,
     "metadata": {},
     "output_type": "execute_result"
    }
   ],
   "source": [
    "train['Name'].value_counts()"
   ]
  },
  {
   "cell_type": "markdown",
   "metadata": {},
   "source": [
    "### 나이 단위를 일(day) 단위로 통일"
   ]
  },
  {
   "cell_type": "code",
   "execution_count": 207,
   "metadata": {},
   "outputs": [],
   "source": [
    "byday = []\n",
    "Outcomeage = train['AgeuponOutcome']\n",
    "[byday.append(int(num)) for num, unit in (i.split(' ') for i in Outcomeage) if re.search(r'^d\\w', unit)]\n",
    "[byday.append(int(num)*7)for num, unit in (i.split(' ') for i in Outcomeage) if re.search(r'^w\\w', unit)]\n",
    "[byday.append(int(num)*30)for num, unit in (i.split(' ') for i in Outcomeage) if re.search(r'^m\\w', unit)]\n",
    "[byday.append(int(num)*365)for num, unit in (i.split(' ') for i in Outcomeage) if re.search(r'^y\\w', unit)]\n",
    "\n",
    "train['AgebyDay'] = Series(byday)"
   ]
  },
  {
   "cell_type": "code",
   "execution_count": 208,
   "metadata": {},
   "outputs": [
    {
     "data": {
      "text/plain": [
       "365     3969\n",
       "730     3742\n",
       "60      3397\n",
       "1095    1823\n",
       "30      1281\n",
       "90      1277\n",
       "1460    1071\n",
       "1825     992\n",
       "120      888\n",
       "2190     670\n",
       "21       659\n",
       "150      652\n",
       "180      588\n",
       "2920     536\n",
       "2555     531\n",
       "14       529\n",
       "300      457\n",
       "3650     446\n",
       "240      402\n",
       "28       334\n",
       "7        317\n",
       "210      288\n",
       "3285     288\n",
       "4380     234\n",
       "270      224\n",
       "330      166\n",
       "4745     143\n",
       "4015     126\n",
       "3        109\n",
       "2         99\n",
       "5110      97\n",
       "5475      85\n",
       "1         66\n",
       "6         50\n",
       "4         50\n",
       "0         40\n",
       "5840      36\n",
       "5         24\n",
       "6205      17\n",
       "35        11\n",
       "6570      10\n",
       "6935       3\n",
       "7300       2\n",
       "Name: AgebyDay, dtype: int64"
      ]
     },
     "execution_count": 208,
     "metadata": {},
     "output_type": "execute_result"
    }
   ],
   "source": [
    "# 변경 여부를 확인하고, 0이 40건임을 확인\n",
    "train['AgebyDay'].value_counts()"
   ]
  },
  {
   "cell_type": "markdown",
   "metadata": {},
   "source": [
    "### Breed"
   ]
  },
  {
   "cell_type": "code",
   "execution_count": null,
   "metadata": {
    "collapsed": true
   },
   "outputs": [],
   "source": []
  },
  {
   "cell_type": "markdown",
   "metadata": {},
   "source": [
    "### Color"
   ]
  },
  {
   "cell_type": "code",
   "execution_count": null,
   "metadata": {
    "collapsed": true
   },
   "outputs": [],
   "source": []
  },
  {
   "cell_type": "markdown",
   "metadata": {},
   "source": [
    "## Data 시각화"
   ]
  },
  {
   "cell_type": "code",
   "execution_count": 209,
   "metadata": {},
   "outputs": [
    {
     "data": {
      "text/plain": [
       "<matplotlib.axes._subplots.AxesSubplot at 0xd6ed230>"
      ]
     },
     "execution_count": 209,
     "metadata": {},
     "output_type": "execute_result"
    },
    {
     "data": {
      "image/png": "[encoded data removed]",
      "text/plain": [
       "<matplotlib.figure.Figure at 0xd345c70>"
      ]
     },
     "metadata": {},
     "output_type": "display_data"
    }
   ],
   "source": [
    "f, (ax1, ax2) = plt.subplots(1, 2, figsize=(16,4))\n",
    "train['AnimalType'].value_counts().plot(kind = 'bar', ax=ax1)\n",
    "sns.countplot(data=train, x='Name', hue='AnimalType', ax=ax2)"
   ]
  },
  {
   "cell_type": "code",
   "execution_count": 210,
   "metadata": {},
   "outputs": [
    {
     "data": {
      "text/plain": [
       "<matplotlib.axes._subplots.AxesSubplot at 0x1003ec30>"
      ]
     },
     "execution_count": 210,
     "metadata": {},
     "output_type": "execute_result"
    },
    {
     "data": {
      "image/png": "[encoded data removed]",
      "text/plain": [
       "<matplotlib.figure.Figure at 0xced91d0>"
      ]
     },
     "metadata": {},
     "output_type": "display_data"
    }
   ],
   "source": [
    "f, (ax1, ax2) = plt.subplots(1, 2, figsize=(16,4))\n",
    "sns.countplot(data=train, x='OutcomeType', hue='AnimalType', ax = ax1)\n",
    "sns.countplot(data=train, x='SexuponOutcome', hue='AnimalType', ax=ax2)"
   ]
  },
  {
   "cell_type": "markdown",
   "metadata": {},
   "source": [
    "* OutcomeType에서 AniamlType별 차이가 크게 발생한다\n",
    "    * 개는 주인이 되찾아간 비율이 고양이에 비해 확연히 큼\n",
    "    * 고양이는 입양되거나 다른 시설로 보내진 경우가 많다\n",
    "    * 보호기간 동안 죽거나 안락사 된 비율은 고양이와 개, 모두 낮다\n",
    "* SexuponOutcome에서 AnimalType별 차이가 발생한다\n",
    "    * 개는 성별에 관계없이 중성화된 비율이 높게 나타난다\n",
    "    * 고양이도 중성화된 비율이 높으나, 크게 차이가 발생하지 않는다\n",
    "    * 고양이의 경우 성별이 누락된 경우가 있다 (Unknown)"
   ]
  },
  {
   "cell_type": "code",
   "execution_count": 211,
   "metadata": {
    "scrolled": true
   },
   "outputs": [
    {
     "data": {
      "image/png": "[encoded data removed]",
      "text/plain": [
       "<matplotlib.figure.Figure at 0x10110b90>"
      ]
     },
     "metadata": {},
     "output_type": "display_data"
    }
   ],
   "source": [
    "from statsmodels.graphics.mosaicplot import mosaic\n",
    "plt.rcParams['font.size'] = 7\n",
    "mosaic = mosaic(train, ['AnimalType', 'OutcomeType', 'SexuponOutcome'])"
   ]
  },
  {
   "cell_type": "markdown",
   "metadata": {},
   "source": [
    "* AnimalType에 관계없이, 중성화 된 개체가 Adoption에서 높은 비율을 차지함\n",
    "* Adoption과 개체의 성별은 상관도가 낮은 것으로 판단됨\n",
    "* 전반적으로 성별 자체의 영향은 낮은것으로 보이며, Adoption과 Return to owner에만 중성화에 따른 비율이 다르다"
   ]
  },
  {
   "cell_type": "code",
   "execution_count": 212,
   "metadata": {},
   "outputs": [
    {
     "data": {
      "text/plain": [
       "<matplotlib.axes._subplots.AxesSubplot at 0x10167ff0>"
      ]
     },
     "execution_count": 212,
     "metadata": {},
     "output_type": "execute_result"
    },
    {
     "data": {
      "image/png": "[encoded data removed]",
      "text/plain": [
       "<matplotlib.figure.Figure at 0xd0d90f0>"
      ]
     },
     "metadata": {},
     "output_type": "display_data"
    }
   ],
   "source": [
    "sns.boxplot(x='AgebyDay', y='AnimalType', data = train)"
   ]
  },
  {
   "cell_type": "code",
   "execution_count": 213,
   "metadata": {},
   "outputs": [
    {
     "data": {
      "image/png": "[encoded data removed]",
      "text/plain": [
       "<matplotlib.figure.Figure at 0x105dec70>"
      ]
     },
     "metadata": {},
     "output_type": "display_data"
    }
   ],
   "source": [
    "f, (ax1, ax2) = plt.subplots(1, 2, figsize=(16,4))\n",
    "sns.violinplot(x=\"OutcomeType\", y=\"AgebyDay\", hue=\"AnimalType\", data=train, split=True,\n",
    "               inner=\"quart\", palette={\"Dog\": \"b\", \"Cat\": \"y\"}, ax=ax1)\n",
    "sns.violinplot(x=\"SexuponOutcome\", y=\"AgebyDay\", hue=\"AnimalType\", data=train, split=True,\n",
    "               inner=\"quart\", palette={\"Dog\": \"b\", \"Cat\": \"y\"}, ax=ax2)\n",
    "sns.despine(left=True)"
   ]
  },
  {
   "cell_type": "markdown",
   "metadata": {},
   "source": [
    "* 보호소에 어린 고양이가 많이 들어옴\n",
    "* 따라서 고양이의 OutcomeType은 모두 어린 쪽에 집중되어있다\n",
    "    * 고양이의 나이는 크게 영향이 없을 것으로 예상됨\n",
    "    * 단, 나이가 많은 고양이의 경우, 안락사 되는 경우가 있다\n",
    "    * 고양이는 다쳐서 보호소에 들어오는 경우가 많지 않을까 예상\n",
    "* 다양한 연령대의 개들이 보호소에 들어옴\n",
    "    * 입양되는 비율은 어린 개에 집중되어 있으며, 나이가 많을 수록 안락사의 비율이 높았다\n",
    "    * 개는 고양이에 비해 죽거나 안락사 되는 비율이 적은 것으로 보인다"
   ]
  },
  {
   "cell_type": "code",
   "execution_count": 214,
   "metadata": {
    "collapsed": true
   },
   "outputs": [],
   "source": [
    "subset = train[['OutcomeSubtype', 'OutcomeType']]\n",
    "tuples = [tuple(x) for x in subset.values]"
   ]
  },
  {
   "cell_type": "code",
   "execution_count": 215,
   "metadata": {
    "collapsed": true
   },
   "outputs": [],
   "source": [
    "from collections import Counter\n",
    "\n",
    "val_3=Counter(tuples)"
   ]
  },
  {
   "cell_type": "code",
   "execution_count": 216,
   "metadata": {
    "collapsed": true
   },
   "outputs": [],
   "source": [
    "sub_df1 = pd.DataFrame(val_3.values(), columns=['count'], index=pd.MultiIndex.from_tuples(val_3.keys()))\n",
    "sub_df2 = sub_df1.unstack()\n",
    "sub_df2.columns = sub_df2.columns.droplevel()  # Drop `count` label.\n",
    "sub_df2 = sub_df2.div(sub_df2.sum())"
   ]
  },
  {
   "cell_type": "code",
   "execution_count": 217,
   "metadata": {},
   "outputs": [
    {
     "data": {
      "text/plain": [
       "<matplotlib.axes._subplots.AxesSubplot at 0xb60df30>"
      ]
     },
     "execution_count": 217,
     "metadata": {},
     "output_type": "execute_result"
    },
    {
     "data": {
      "image/png": "[encoded data removed]",
      "text/plain": [
       "<matplotlib.figure.Figure at 0x104eb670>"
      ]
     },
     "metadata": {},
     "output_type": "display_data"
    }
   ],
   "source": [
    "sub_df2.T.plot(kind='bar', stacked=True, rot=1, figsize=(8, 8))"
   ]
  },
  {
   "cell_type": "code",
   "execution_count": 218,
   "metadata": {
    "scrolled": false
   },
   "outputs": [
    {
     "data": {
      "text/plain": [
       "<matplotlib.axes._subplots.AxesSubplot at 0x10b67fb0>"
      ]
     },
     "execution_count": 218,
     "metadata": {},
     "output_type": "execute_result"
    },
    {
     "data": {
      "image/png": "[encoded data removed]",
      "text/plain": [
       "<matplotlib.figure.Figure at 0xbc812f0>"
      ]
     },
     "metadata": {},
     "output_type": "display_data"
    }
   ],
   "source": [
    "subset = train[['AnimalType', 'OutcomeType']]\n",
    "tuples = [tuple(x) for x in subset.values]\n",
    "val_3=Counter(tuples)\n",
    "sub_df1 = pd.DataFrame(val_3.values(), columns=['count'], index=pd.MultiIndex.from_tuples(val_3.keys()))\n",
    "sub_df2 = sub_df1.unstack()\n",
    "sub_df2.columns = sub_df2.columns.droplevel()\n",
    "sub_df2 = sub_df2.div(sub_df2.sum())\n",
    "\n",
    "sub_df2.T.plot(kind='bar', stacked=True, rot=1, figsize=(8, 8))"
   ]
  },
  {
   "cell_type": "markdown",
   "metadata": {},
   "source": [
    "* AnimalType 별 차이가 큼을 확인할 수 있었음\n",
    "* Name, AgeuponOutcome, SexuponOutcome, OutcomeType 등에서 큰 차이가 있음\n",
    "* Dog과 Cat을 분리하여 분석해야 할 필요성이 발생"
   ]
  },
  {
   "cell_type": "markdown",
   "metadata": {},
   "source": [
    "### DataFrame 생성 (Dog/Cat)"
   ]
  },
  {
   "cell_type": "code",
   "execution_count": 219,
   "metadata": {},
   "outputs": [],
   "source": [
    "df = pd.read_csv('data/train.csv')"
   ]
  },
  {
   "cell_type": "code",
   "execution_count": 220,
   "metadata": {},
   "outputs": [],
   "source": [
    "df = train.groupby('AnimalType')"
   ]
  },
  {
   "cell_type": "code",
   "execution_count": 221,
   "metadata": {
    "scrolled": true
   },
   "outputs": [],
   "source": [
    "dog = []\n",
    "cat = []\n",
    "\n",
    "for name, group in df:\n",
    "    if name == 'Dog':\n",
    "        dog.append(group)\n",
    "    else:\n",
    "        cat.append(group)"
   ]
  },
  {
   "cell_type": "code",
   "execution_count": 222,
   "metadata": {},
   "outputs": [
    {
     "data": {
      "text/plain": [
       "[      AnimalID     Name             DateTime      OutcomeType OutcomeSubtype  \\\n",
       " 0      A671945    Named  2014-02-12 18:22:00  Return_to_owner           None   \n",
       " 2      A686464    Named  2015-01-31 12:28:00         Adoption         Foster   \n",
       " 4      A667013  Unnamed  2013-11-15 12:52:00         Transfer        Partner   \n",
       " 5      A677334    Named  2014-04-25 13:04:00         Transfer        Partner   \n",
       " 8      A671784    Named  2014-02-04 17:17:00         Adoption           None   \n",
       " 9      A677747  Unnamed  2014-05-03 07:48:00         Adoption        Offsite   \n",
       " 11     A666320  Unnamed  2013-11-04 14:48:00         Adoption           None   \n",
       " 12     A684601    Named  2016-02-03 11:27:00         Adoption         Foster   \n",
       " 13     A704702    Named  2015-06-08 16:30:00  Return_to_owner           None   \n",
       " 14     A688584    Named  2015-11-25 15:00:00  Return_to_owner           None   \n",
       " 17     A680028  Unnamed  2014-06-07 12:54:00         Transfer        Partner   \n",
       " 19     A684787    Named  2014-07-30 17:34:00  Return_to_owner           None   \n",
       " 20     A670658    Named  2014-01-19 15:03:00         Transfer        Partner   \n",
       " 22     A705262    Named  2015-08-15 14:22:00         Adoption           None   \n",
       " 23     A665781    Named  2013-10-28 16:32:00         Adoption           None   \n",
       " 24     A676333    Named  2014-04-09 17:44:00  Return_to_owner           None   \n",
       " 26     A718832    Named  2016-01-15 17:31:00         Adoption           None   \n",
       " 27     A698777    Named  2015-03-25 18:50:00         Adoption           None   \n",
       " 31     A707341    Named  2015-07-15 15:25:00         Transfer        Partner   \n",
       " 33     A666825    Named  2013-11-08 13:24:00  Return_to_owner           None   \n",
       " 34     A699723    Named  2015-04-11 16:01:00         Transfer        Partner   \n",
       " 35     A668626  Unnamed  2013-12-06 14:55:00       Euthanasia      Suffering   \n",
       " 36     A657085    Named  2013-10-24 11:22:00  Return_to_owner           None   \n",
       " 45     A686716    Named  2014-08-27 07:50:00  Return_to_owner           None   \n",
       " 48     A697852    Named  2015-03-09 17:57:00         Adoption           None   \n",
       " 49     A666092  Unnamed  2013-10-30 15:37:00       Euthanasia     Aggressive   \n",
       " 53     A701627    Named  2015-05-14 12:07:00         Adoption           None   \n",
       " 57     A683443  Unnamed  2014-07-18 16:23:00         Transfer        Partner   \n",
       " 58     A597644    Named  2014-09-16 14:05:00  Return_to_owner           None   \n",
       " 59     A682784    Named  2014-07-07 12:38:00         Adoption           None   \n",
       " ...        ...      ...                  ...              ...            ...   \n",
       " 26672  A693469    Named  2014-12-08 17:47:00  Return_to_owner           None   \n",
       " 26674  A653309    Named  2014-06-10 18:15:00  Return_to_owner           None   \n",
       " 26676  A689731  Unnamed  2014-10-14 08:18:00       Euthanasia       Behavior   \n",
       " 26678  A696279    Named  2015-02-02 12:41:00  Return_to_owner           None   \n",
       " 26679  A667787  Unnamed  2013-11-30 18:33:00         Transfer        Partner   \n",
       " 26680  A718146    Named  2015-12-22 15:21:00  Return_to_owner           None   \n",
       " 26681  A706601    Named  2015-07-01 16:05:00  Return_to_owner           None   \n",
       " 26684  A696282    Named  2015-02-27 12:58:00  Return_to_owner           None   \n",
       " 26686  A715419    Named  2015-12-18 19:13:00         Adoption           None   \n",
       " 26688  A670213    Named  2014-01-12 15:03:00         Transfer        Partner   \n",
       " 26689  A696169    Named  2015-02-02 18:09:00  Return_to_owner           None   \n",
       " 26690  A695801    Named  2015-02-02 14:56:00         Transfer        Partner   \n",
       " 26694  A717094    Named  2015-12-02 12:02:00       Euthanasia      Suffering   \n",
       " 26695  A689845    Named  2014-10-12 18:28:00  Return_to_owner           None   \n",
       " 26696  A670305    Named  2014-02-01 14:09:00         Adoption           None   \n",
       " 26697  A687922    Named  2014-09-12 17:56:00  Return_to_owner           None   \n",
       " 26699  A676460    Named  2014-04-21 14:01:00       Euthanasia       Behavior   \n",
       " 26700  A704999    Named  2015-06-15 19:28:00  Return_to_owner           None   \n",
       " 26701  A678842    Named  2014-06-15 17:41:00         Transfer        Partner   \n",
       " 26708  A666920    Named  2013-11-13 17:32:00         Transfer        Partner   \n",
       " 26709  A714386  Unnamed  2015-10-24 00:00:00         Adoption           None   \n",
       " 26710  A692622    Named  2014-11-24 17:21:00         Transfer        Partner   \n",
       " 26711  A666284    Named  2013-10-30 18:32:00         Transfer        Partner   \n",
       " 26712  A535277    Named  2015-04-20 16:04:00  Return_to_owner           None   \n",
       " 26715  A708833    Named  2015-08-05 17:03:00         Adoption           None   \n",
       " 26716  A697158    Named  2015-05-02 21:04:00         Adoption        Offsite   \n",
       " 26717  A519949    Named  2014-06-30 17:34:00  Return_to_owner           None   \n",
       " 26718  A701044  Unnamed  2015-04-28 14:26:00         Adoption           None   \n",
       " 26723  A716997    Named  2016-01-29 18:52:00         Adoption           None   \n",
       " 26726  A698128    Named  2015-03-09 13:33:00         Adoption           None   \n",
       " \n",
       "       AnimalType SexuponOutcome AgeuponOutcome  \\\n",
       " 0            Dog  Neutered Male         1 year   \n",
       " 2            Dog  Neutered Male        2 years   \n",
       " 4            Dog  Neutered Male        2 years   \n",
       " 5            Dog  Intact Female        1 month   \n",
       " 8            Dog  Spayed Female       5 months   \n",
       " 9            Dog  Spayed Female         1 year   \n",
       " 11           Dog  Spayed Female        2 years   \n",
       " 12           Dog  Neutered Male        4 years   \n",
       " 13           Dog  Neutered Male        2 years   \n",
       " 14           Dog  Neutered Male         1 year   \n",
       " 17           Dog  Intact Female        2 weeks   \n",
       " 19           Dog  Neutered Male         1 year   \n",
       " 20           Dog    Intact Male       2 months   \n",
       " 22           Dog  Spayed Female        2 years   \n",
       " 23           Dog  Neutered Male      10 months   \n",
       " 24           Dog  Neutered Male       2 months   \n",
       " 26           Dog  Spayed Female       6 months   \n",
       " 27           Dog  Spayed Female        5 years   \n",
       " 31           Dog    Intact Male       4 months   \n",
       " 33           Dog  Neutered Male        5 years   \n",
       " 34           Dog  Neutered Male        3 years   \n",
       " 35           Dog    Intact Male        3 years   \n",
       " 36           Dog  Neutered Male        3 years   \n",
       " 45           Dog  Neutered Male       12 years   \n",
       " 48           Dog  Spayed Female       5 months   \n",
       " 49           Dog    Intact Male        6 years   \n",
       " 53           Dog  Neutered Male        2 years   \n",
       " 57           Dog    Intact Male         1 year   \n",
       " 58           Dog  Spayed Female        4 years   \n",
       " 59           Dog  Neutered Male        2 years   \n",
       " ...          ...            ...            ...   \n",
       " 26672        Dog  Neutered Male         1 year   \n",
       " 26674        Dog  Neutered Male        2 years   \n",
       " 26676        Dog    Intact Male         1 year   \n",
       " 26678        Dog  Intact Female        5 years   \n",
       " 26679        Dog  Spayed Female       4 months   \n",
       " 26680        Dog  Neutered Male        5 years   \n",
       " 26681        Dog    Intact Male        5 years   \n",
       " 26684        Dog  Intact Female        5 years   \n",
       " 26686        Dog  Neutered Male        3 years   \n",
       " 26688        Dog  Intact Female       2 months   \n",
       " 26689        Dog  Neutered Male        5 years   \n",
       " 26690        Dog  Intact Female        2 years   \n",
       " 26694        Dog  Spayed Female        9 years   \n",
       " 26695        Dog  Spayed Female        2 years   \n",
       " 26696        Dog  Spayed Female      10 months   \n",
       " 26697        Dog  Neutered Male         1 year   \n",
       " 26699        Dog  Neutered Male        2 years   \n",
       " 26700        Dog    Intact Male      10 months   \n",
       " 26701        Dog  Intact Female      11 months   \n",
       " 26708        Dog  Neutered Male        2 years   \n",
       " 26709        Dog  Spayed Female        1 month   \n",
       " 26710        Dog  Intact Female        1 month   \n",
       " 26711        Dog  Intact Female         1 year   \n",
       " 26712        Dog  Neutered Male       12 years   \n",
       " 26715        Dog  Spayed Female       2 months   \n",
       " 26716        Dog  Neutered Male       2 months   \n",
       " 26717        Dog  Spayed Female        9 years   \n",
       " 26718        Dog  Neutered Male       2 months   \n",
       " 26723        Dog  Neutered Male        6 years   \n",
       " 26726        Dog  Neutered Male        4 years   \n",
       " \n",
       "                                        Breed                Color  AgebyDay  \n",
       " 0                      Shetland Sheepdog Mix          Brown/White         4  \n",
       " 2                               Pit Bull Mix           Blue/White         6  \n",
       " 4                Lhasa Apso/Miniature Poodle                  Tan         5  \n",
       " 5          Cairn Terrier/Chihuahua Shorthair            Black/Tan         6  \n",
       " 8              American Pit Bull Terrier Mix            Red/White         2  \n",
       " 9                              Cairn Terrier                White         2  \n",
       " 11                   Miniature Schnauzer Mix               Silver         6  \n",
       " 12                              Pit Bull Mix                Brown         1  \n",
       " 13                     Yorkshire Terrier Mix            Black/Red         4  \n",
       " 14                        Great Pyrenees Mix          White/Cream         1  \n",
       " 17                              Pit Bull Mix          Brown/White         1  \n",
       " 19                   Flat Coat Retriever Mix                Black         2  \n",
       " 20                     Queensland Heeler Mix          Black/White         5  \n",
       " 22                         Plott Hound/Boxer  Brown Brindle/White         1  \n",
       " 23                       German Shepherd Mix          Brown/White         4  \n",
       " 24                       German Shepherd Mix          Black/Brown         1  \n",
       " 26        American Staffordshire Terrier Mix      Chocolate/White         3  \n",
       " 27                   Chihuahua Shorthair Mix            White/Tan         2  \n",
       " 31                    Labrador Retriever Mix          Black/White         4  \n",
       " 33             Collie Smooth/German Shepherd          Brown/Black         1  \n",
       " 34                   Chihuahua Shorthair Mix                Brown         3  \n",
       " 35                    Labrador Retriever Mix               Yellow         2  \n",
       " 36                              Pit Bull Mix          Brown/White         3  \n",
       " 45                                    Beagle             Tricolor         0  \n",
       " 48                       German Shepherd Mix          Black/Brown         3  \n",
       " 49               Pit Bull/Labrador Retriever      Chocolate/White         4  \n",
       " 53                             Blue Lacy Mix           Gray/White         3  \n",
       " 57                   Chihuahua Shorthair Mix                  Tan         6  \n",
       " 58                       Black Mouth Cur Mix            Tan/Black         0  \n",
       " 59                          Dachshund/Beagle          Brown/White         3  \n",
       " ...                                      ...                  ...       ...  \n",
       " 26672                 Dachshund Longhair Mix            Black/Tan       365  \n",
       " 26674                    Chihuahua Shorthair            White/Tan       730  \n",
       " 26676                       Dachshund/Beagle            White/Tan      2190  \n",
       " 26678                 Chihuahua Longhair Mix          Brown/White       365  \n",
       " 26679                  Boxer/German Shepherd                Brown      1460  \n",
       " 26680                                Pug Mix                Black      1460  \n",
       " 26681     American Staffordshire Terrier Mix  Brown Brindle/White      1825  \n",
       " 26684                Chihuahua Shorthair Mix            Tan/White      1095  \n",
       " 26686                           Pit Bull Mix            Tan/White       365  \n",
       " 26688                            Pointer Mix          Black/Brown      1460  \n",
       " 26689                           Pit Bull Mix          White/Brown       730  \n",
       " 26690                 Labrador Retriever Mix          Brown/White       365  \n",
       " 26694     German Shepherd/Labrador Retriever          Black/Brown       365  \n",
       " 26695                Miniature Schnauzer Mix           Gray/White       730  \n",
       " 26696              Australian Cattle Dog Mix                  Red       365  \n",
       " 26697                   Golden Retriever Mix                Brown       730  \n",
       " 26699          American Pit Bull Terrier Mix          White/Black       365  \n",
       " 26700         Great Pyrenees/Anatol Shepherd            Tan/Cream      1825  \n",
       " 26701               Jack Russell Terrier Mix          White/Black      1825  \n",
       " 26708                Chihuahua Shorthair Mix          White/Brown      1825  \n",
       " 26709                Chihuahua Shorthair Mix           Sable/Buff       730  \n",
       " 26710  Chihuahua Shorthair/Yorkshire Terrier          Brown/Black      1460  \n",
       " 26711               Cocker Spaniel/Dachshund                 Buff      2920  \n",
       " 26712                            Rat Terrier        Chocolate/Tan      3285  \n",
       " 26715                            Pointer Mix          Black/White       730  \n",
       " 26716                       Newfoundland Mix          White/Black       730  \n",
       " 26717                        Bullmastiff Mix                Black      2190  \n",
       " 26718         Siberian Husky/German Shepherd       Black/Tricolor       365  \n",
       " 26723                      Staffordshire Mix           Blue/White      3285  \n",
       " 26726                Old English Bulldog Mix            White/Tan      2190  \n",
       " \n",
       " [15595 rows x 11 columns]]"
      ]
     },
     "execution_count": 222,
     "metadata": {},
     "output_type": "execute_result"
    }
   ],
   "source": [
    "dog"
   ]
  },
  {
   "cell_type": "code",
   "execution_count": 223,
   "metadata": {
    "scrolled": true
   },
   "outputs": [
    {
     "ename": "ValueError",
     "evalue": "cannot copy sequence with size 15595 to array axis with dimension 11",
     "output_type": "error",
     "traceback": [
      "\u001b[1;31m---------------------------------------------------------------------------\u001b[0m",
      "\u001b[1;31mValueError\u001b[0m                                Traceback (most recent call last)",
      "\u001b[1;32m<ipython-input-223-13fffcac4d90>\u001b[0m in \u001b[0;36m<module>\u001b[1;34m()\u001b[0m\n\u001b[1;32m----> 1\u001b[1;33m \u001b[0mdog\u001b[0m \u001b[1;33m=\u001b[0m \u001b[0mpd\u001b[0m\u001b[1;33m.\u001b[0m\u001b[0mDataFrame\u001b[0m\u001b[1;33m(\u001b[0m\u001b[0mnp\u001b[0m\u001b[1;33m.\u001b[0m\u001b[0marray\u001b[0m\u001b[1;33m(\u001b[0m\u001b[0mdog\u001b[0m\u001b[1;33m)\u001b[0m\u001b[1;33m.\u001b[0m\u001b[0mreshape\u001b[0m\u001b[1;33m(\u001b[0m\u001b[1;33m-\u001b[0m\u001b[1;36m1\u001b[0m\u001b[1;33m,\u001b[0m\u001b[0mlen\u001b[0m\u001b[1;33m(\u001b[0m\u001b[0mdog\u001b[0m\u001b[1;33m)\u001b[0m\u001b[1;33m)\u001b[0m\u001b[1;33m)\u001b[0m\u001b[1;33m\u001b[0m\u001b[0m\n\u001b[0m",
      "\u001b[1;31mValueError\u001b[0m: cannot copy sequence with size 15595 to array axis with dimension 11"
     ]
    }
   ],
   "source": [
    "dog = pd.DataFrame(np.array(dog).reshape(-1,len(dog)))"
   ]
  },
  {
   "cell_type": "code",
   "execution_count": null,
   "metadata": {},
   "outputs": [],
   "source": []
  }
 ],
 "metadata": {
  "kernelspec": {
   "display_name": "Python 2",
   "language": "python",
   "name": "python2"
  },
  "language_info": {
   "codemirror_mode": {
    "name": "ipython",
    "version": 2
   },
   "file_extension": ".py",
   "mimetype": "text/x-python",
   "name": "python",
   "nbconvert_exporter": "python",
   "pygments_lexer": "ipython2",
   "version": "2.7.13"
  }
 },
 "nbformat": 4,
 "nbformat_minor": 2
}
