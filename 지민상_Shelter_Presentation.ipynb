{
 "cells": [
  {
   "cell_type": "markdown",
   "metadata": {},
   "source": [
    "<br><br><br><br>\n",
    "# Shelter Animal Outcomes\n",
    "### 동물보호소의 동물들의 Outcome 예측\n",
    "<br><br><br><br><br><br><br><br><br><br><br><br><br><br><br><br>\n",
    "<div style=\"text-align:right\"><span style = \" font-size:30px\">**지민상**&nbsp; &nbsp; &nbsp; &nbsp; &nbsp; &nbsp;</span></div>\n",
    "<br>\n",
    "<div style=\"text-align:right\">이**지**홍 김**민**경 박**상**훈 &nbsp; &nbsp; &nbsp; &nbsp; &nbsp; &nbsp; &nbsp; &nbsp; &nbsp;</div>\n",
    "<br><br><br><br><br><br><br><br><br><br><br><br>"
   ]
  },
  {
   "cell_type": "code",
   "execution_count": 1,
   "metadata": {
    "collapsed": true
   },
   "outputs": [],
   "source": [
    "import pandas as pd\n",
    "import numpy as np\n",
    "import matplotlib.pyplot as plt\n",
    "import seaborn as sns\n",
    "from pandas import DataFrame, Series\n",
    "%matplotlib inline"
   ]
  },
  {
   "cell_type": "code",
   "execution_count": 2,
   "metadata": {
    "collapsed": true
   },
   "outputs": [],
   "source": [
    "df = pd.read_csv('data/train.csv')"
   ]
  },
  {
   "cell_type": "markdown",
   "metadata": {},
   "source": [
    "## train data 형태 확인"
   ]
  },
  {
   "cell_type": "code",
   "execution_count": 3,
   "metadata": {
    "scrolled": true
   },
   "outputs": [
    {
     "data": {
      "text/plain": [
       "AnimalID                        A671945\n",
       "Name                            Hambone\n",
       "DateTime            2014-02-12 18:22:00\n",
       "OutcomeType             Return_to_owner\n",
       "OutcomeSubtype                      NaN\n",
       "AnimalType                          Dog\n",
       "SexuponOutcome            Neutered Male\n",
       "AgeuponOutcome                   1 year\n",
       "Breed             Shetland Sheepdog Mix\n",
       "Color                       Brown/White\n",
       "Name: 0, dtype: object"
      ]
     },
     "execution_count": 3,
     "metadata": {},
     "output_type": "execute_result"
    }
   ],
   "source": [
    "df.loc[0]"
   ]
  },
  {
   "cell_type": "code",
   "execution_count": 4,
   "metadata": {},
   "outputs": [
    {
     "data": {
      "text/html": [
       "<div>\n",
       "<style>\n",
       "    .dataframe thead tr:only-child th {\n",
       "        text-align: right;\n",
       "    }\n",
       "\n",
       "    .dataframe thead th {\n",
       "        text-align: left;\n",
       "    }\n",
       "\n",
       "    .dataframe tbody tr th {\n",
       "        vertical-align: top;\n",
       "    }\n",
       "</style>\n",
       "<table border=\"1\" class=\"dataframe\">\n",
       "  <thead>\n",
       "    <tr style=\"text-align: right;\">\n",
       "      <th></th>\n",
       "      <th>AnimalID</th>\n",
       "      <th>Name</th>\n",
       "      <th>DateTime</th>\n",
       "      <th>OutcomeType</th>\n",
       "      <th>OutcomeSubtype</th>\n",
       "      <th>AnimalType</th>\n",
       "      <th>SexuponOutcome</th>\n",
       "      <th>AgeuponOutcome</th>\n",
       "      <th>Breed</th>\n",
       "      <th>Color</th>\n",
       "    </tr>\n",
       "  </thead>\n",
       "  <tbody>\n",
       "    <tr>\n",
       "      <th>26724</th>\n",
       "      <td>A702446</td>\n",
       "      <td>NaN</td>\n",
       "      <td>2015-05-14 11:56:00</td>\n",
       "      <td>Transfer</td>\n",
       "      <td>Partner</td>\n",
       "      <td>Cat</td>\n",
       "      <td>Intact Male</td>\n",
       "      <td>1 month</td>\n",
       "      <td>Domestic Shorthair Mix</td>\n",
       "      <td>Brown Tabby/White</td>\n",
       "    </tr>\n",
       "    <tr>\n",
       "      <th>26725</th>\n",
       "      <td>A718934</td>\n",
       "      <td>NaN</td>\n",
       "      <td>2016-01-20 18:59:00</td>\n",
       "      <td>Transfer</td>\n",
       "      <td>SCRP</td>\n",
       "      <td>Cat</td>\n",
       "      <td>Spayed Female</td>\n",
       "      <td>3 months</td>\n",
       "      <td>Domestic Shorthair Mix</td>\n",
       "      <td>Brown Tabby</td>\n",
       "    </tr>\n",
       "    <tr>\n",
       "      <th>26726</th>\n",
       "      <td>A698128</td>\n",
       "      <td>Zeus</td>\n",
       "      <td>2015-03-09 13:33:00</td>\n",
       "      <td>Adoption</td>\n",
       "      <td>NaN</td>\n",
       "      <td>Dog</td>\n",
       "      <td>Neutered Male</td>\n",
       "      <td>4 years</td>\n",
       "      <td>Old English Bulldog Mix</td>\n",
       "      <td>White/Tan</td>\n",
       "    </tr>\n",
       "    <tr>\n",
       "      <th>26727</th>\n",
       "      <td>A677478</td>\n",
       "      <td>NaN</td>\n",
       "      <td>2014-04-27 12:22:00</td>\n",
       "      <td>Transfer</td>\n",
       "      <td>Partner</td>\n",
       "      <td>Cat</td>\n",
       "      <td>Intact Male</td>\n",
       "      <td>4 weeks</td>\n",
       "      <td>Domestic Shorthair Mix</td>\n",
       "      <td>Black</td>\n",
       "    </tr>\n",
       "    <tr>\n",
       "      <th>26728</th>\n",
       "      <td>A706629</td>\n",
       "      <td>NaN</td>\n",
       "      <td>2015-07-02 09:00:00</td>\n",
       "      <td>Transfer</td>\n",
       "      <td>SCRP</td>\n",
       "      <td>Cat</td>\n",
       "      <td>Intact Male</td>\n",
       "      <td>1 year</td>\n",
       "      <td>Domestic Shorthair Mix</td>\n",
       "      <td>Brown Tabby/White</td>\n",
       "    </tr>\n",
       "  </tbody>\n",
       "</table>\n",
       "</div>"
      ],
      "text/plain": [
       "      AnimalID  Name             DateTime OutcomeType OutcomeSubtype  \\\n",
       "26724  A702446   NaN  2015-05-14 11:56:00    Transfer        Partner   \n",
       "26725  A718934   NaN  2016-01-20 18:59:00    Transfer           SCRP   \n",
       "26726  A698128  Zeus  2015-03-09 13:33:00    Adoption            NaN   \n",
       "26727  A677478   NaN  2014-04-27 12:22:00    Transfer        Partner   \n",
       "26728  A706629   NaN  2015-07-02 09:00:00    Transfer           SCRP   \n",
       "\n",
       "      AnimalType SexuponOutcome AgeuponOutcome                    Breed  \\\n",
       "26724        Cat    Intact Male        1 month   Domestic Shorthair Mix   \n",
       "26725        Cat  Spayed Female       3 months   Domestic Shorthair Mix   \n",
       "26726        Dog  Neutered Male        4 years  Old English Bulldog Mix   \n",
       "26727        Cat    Intact Male        4 weeks   Domestic Shorthair Mix   \n",
       "26728        Cat    Intact Male         1 year   Domestic Shorthair Mix   \n",
       "\n",
       "                   Color  \n",
       "26724  Brown Tabby/White  \n",
       "26725        Brown Tabby  \n",
       "26726          White/Tan  \n",
       "26727              Black  \n",
       "26728  Brown Tabby/White  "
      ]
     },
     "execution_count": 4,
     "metadata": {},
     "output_type": "execute_result"
    }
   ],
   "source": [
    "df.tail()"
   ]
  },
  {
   "cell_type": "code",
   "execution_count": 5,
   "metadata": {},
   "outputs": [
    {
     "data": {
      "text/plain": [
       "Adoption           10769\n",
       "Transfer            9422\n",
       "Return_to_owner     4786\n",
       "Euthanasia          1555\n",
       "Died                 197\n",
       "Name: OutcomeType, dtype: int64"
      ]
     },
     "execution_count": 5,
     "metadata": {},
     "output_type": "execute_result"
    }
   ],
   "source": [
    "df['OutcomeType'].value_counts()"
   ]
  },
  {
   "cell_type": "code",
   "execution_count": 6,
   "metadata": {},
   "outputs": [
    {
     "data": {
      "text/plain": [
       "Partner                7816\n",
       "Foster                 1800\n",
       "SCRP                   1599\n",
       "Suffering              1002\n",
       "Aggressive              320\n",
       "Offsite                 165\n",
       "In Kennel               114\n",
       "Behavior                 86\n",
       "Rabies Risk              74\n",
       "Medical                  66\n",
       "In Foster                52\n",
       "Enroute                   8\n",
       "Court/Investigation       6\n",
       "At Vet                    4\n",
       "In Surgery                3\n",
       "Barn                      2\n",
       "Name: OutcomeSubtype, dtype: int64"
      ]
     },
     "execution_count": 6,
     "metadata": {},
     "output_type": "execute_result"
    }
   ],
   "source": [
    "df['OutcomeSubtype'].value_counts()"
   ]
  },
  {
   "cell_type": "code",
   "execution_count": 7,
   "metadata": {},
   "outputs": [
    {
     "data": {
      "text/plain": [
       "Dog    15595\n",
       "Cat    11134\n",
       "Name: AnimalType, dtype: int64"
      ]
     },
     "execution_count": 7,
     "metadata": {},
     "output_type": "execute_result"
    }
   ],
   "source": [
    "df['AnimalType'].value_counts()"
   ]
  },
  {
   "cell_type": "code",
   "execution_count": 8,
   "metadata": {},
   "outputs": [
    {
     "data": {
      "text/plain": [
       "Neutered Male    9779\n",
       "Spayed Female    8820\n",
       "Intact Male      3525\n",
       "Intact Female    3511\n",
       "Unknown          1093\n",
       "Name: SexuponOutcome, dtype: int64"
      ]
     },
     "execution_count": 8,
     "metadata": {},
     "output_type": "execute_result"
    }
   ],
   "source": [
    "df['SexuponOutcome'].value_counts()"
   ]
  },
  {
   "cell_type": "code",
   "execution_count": 9,
   "metadata": {},
   "outputs": [
    {
     "data": {
      "text/plain": [
       "1 year       3969\n",
       "2 years      3742\n",
       "2 months     3397\n",
       "3 years      1823\n",
       "1 month      1281\n",
       "3 months     1277\n",
       "4 years      1071\n",
       "5 years       992\n",
       "4 months      888\n",
       "6 years       670\n",
       "3 weeks       659\n",
       "5 months      652\n",
       "6 months      588\n",
       "8 years       536\n",
       "7 years       531\n",
       "2 weeks       529\n",
       "10 months     457\n",
       "10 years      446\n",
       "8 months      402\n",
       "4 weeks       334\n",
       "9 years       288\n",
       "7 months      288\n",
       "12 years      234\n",
       "9 months      224\n",
       "1 weeks       171\n",
       "11 months     166\n",
       "1 week        146\n",
       "13 years      143\n",
       "11 years      126\n",
       "3 days        109\n",
       "2 days         99\n",
       "14 years       97\n",
       "15 years       85\n",
       "1 day          66\n",
       "4 days         50\n",
       "6 days         50\n",
       "16 years       36\n",
       "5 days         24\n",
       "0 years        22\n",
       "17 years       17\n",
       "5 weeks        11\n",
       "18 years       10\n",
       "19 years        3\n",
       "20 years        2\n",
       "Name: AgeuponOutcome, dtype: int64"
      ]
     },
     "execution_count": 9,
     "metadata": {},
     "output_type": "execute_result"
    }
   ],
   "source": [
    "df['AgeuponOutcome'].value_counts()"
   ]
  },
  {
   "cell_type": "code",
   "execution_count": 10,
   "metadata": {},
   "outputs": [
    {
     "data": {
      "text/plain": [
       "Domestic Shorthair Mix                                8810\n",
       "Pit Bull Mix                                          1906\n",
       "Chihuahua Shorthair Mix                               1766\n",
       "Labrador Retriever Mix                                1363\n",
       "Domestic Medium Hair Mix                               839\n",
       "German Shepherd Mix                                    575\n",
       "Domestic Longhair Mix                                  520\n",
       "Siamese Mix                                            389\n",
       "Australian Cattle Dog Mix                              367\n",
       "Dachshund Mix                                          318\n",
       "Boxer Mix                                              245\n",
       "Miniature Poodle Mix                                   233\n",
       "Border Collie Mix                                      229\n",
       "Australian Shepherd Mix                                163\n",
       "Rat Terrier Mix                                        157\n",
       "Catahoula Mix                                          157\n",
       "Jack Russell Terrier Mix                               146\n",
       "Domestic Shorthair                                     143\n",
       "Yorkshire Terrier Mix                                  143\n",
       "Chihuahua Longhair Mix                                 142\n",
       "Siberian Husky Mix                                     138\n",
       "Miniature Schnauzer Mix                                136\n",
       "Beagle Mix                                             124\n",
       "Rottweiler Mix                                         113\n",
       "American Bulldog Mix                                   109\n",
       "Cairn Terrier Mix                                      102\n",
       "Shih Tzu Mix                                           100\n",
       "Chihuahua Shorthair/Dachshund                           98\n",
       "Australian Kelpie Mix                                   95\n",
       "Staffordshire Mix                                       94\n",
       "                                                      ... \n",
       "Great Pyrenees/Standard Poodle                           1\n",
       "Alaskan Malamute/Australian Kelpie                       1\n",
       "Dachshund/Pug                                            1\n",
       "Dachshund/Chihuahua Longhair                             1\n",
       "Doberman Pinsch/Rottweiler                               1\n",
       "Dogue De Bordeaux/American Bulldog                       1\n",
       "Pointer/Rhod Ridgeback                                   1\n",
       "Boston Terrier/Beagle                                    1\n",
       "Golden Retriever/Akita                                   1\n",
       "Cardigan Welsh Corgi/Rat Terrier                         1\n",
       "Catahoula/Chow Chow                                      1\n",
       "German Shepherd/Nova Scotia Duck Tolling Retriever       1\n",
       "Beagle/Black Mouth Cur                                   1\n",
       "Jack Russell Terrier/Cavalier Span                       1\n",
       "Collie Rough/Chinese Sharpei                             1\n",
       "Cavalier Span/Jack Russell Terrier                       1\n",
       "Rottweiler/Rhod Ridgeback                                1\n",
       "Harrier/Pointer                                          1\n",
       "Miniature Schnauzer/Jack Russell Terrier                 1\n",
       "American Foxhound/Labrador Retriever                     1\n",
       "Beagle/Cocker Spaniel                                    1\n",
       "Black Mouth Cur/American Staffordshire Terrier           1\n",
       "Golden Retriever/Brittany                                1\n",
       "Yorkshire Terrier/Pomeranian                             1\n",
       "Cardigan Welsh Corgi/Cairn Terrier                       1\n",
       "Jack Russell Terrier/Basenji                             1\n",
       "Soft Coated Wheaten Terrier/Yorkshire Terrier            1\n",
       "Australian Cattle Dog/Queensland Heeler                  1\n",
       "Pug/Pekingese                                            1\n",
       "Australian Cattle Dog/Collie Rough                       1\n",
       "Name: Breed, Length: 1380, dtype: int64"
      ]
     },
     "execution_count": 10,
     "metadata": {},
     "output_type": "execute_result"
    }
   ],
   "source": [
    "df['Breed'].value_counts()"
   ]
  },
  {
   "cell_type": "code",
   "execution_count": 11,
   "metadata": {},
   "outputs": [
    {
     "data": {
      "text/plain": [
       "Black/White                  2824\n",
       "Black                        2292\n",
       "Brown Tabby                  1635\n",
       "Brown Tabby/White             940\n",
       "White                         931\n",
       "Brown/White                   884\n",
       "Orange Tabby                  841\n",
       "Tan/White                     773\n",
       "Tricolor                      752\n",
       "Blue/White                    702\n",
       "Black/Tan                     672\n",
       "White/Black                   643\n",
       "Brown                         639\n",
       "Tan                           628\n",
       "White/Brown                   569\n",
       "Tortie                        530\n",
       "Calico                        517\n",
       "Orange Tabby/White            455\n",
       "Blue                          450\n",
       "Brown Brindle/White           450\n",
       "Black/Brown                   436\n",
       "Blue Tabby                    433\n",
       "White/Tan                     389\n",
       "Red                           337\n",
       "Torbie                        335\n",
       "Brown/Black                   333\n",
       "Red/White                     331\n",
       "Blue Tabby/White              241\n",
       "Brown Brindle                 232\n",
       "Chocolate/White               224\n",
       "                             ... \n",
       "Yellow Brindle/Tan              1\n",
       "White/Brown Tiger               1\n",
       "Brown/Blue                      1\n",
       "Blue Tick/Red                   1\n",
       "Brown/Brown Merle               1\n",
       "Blue Merle/Red Merle            1\n",
       "Orange Tabby/Black              1\n",
       "Black/Silver Tabby              1\n",
       "Blue Merle/Gray                 1\n",
       "Agouti                          1\n",
       "Brown Brindle/Blue              1\n",
       "Brown Merle/Blue Merle          1\n",
       "Orange Tabby/Apricot            1\n",
       "Gold/Buff                       1\n",
       "Sable/Buff                      1\n",
       "Chocolate/Gray                  1\n",
       "Orange Tabby/Orange             1\n",
       "Calico/Orange Tabby             1\n",
       "Blue Tabby/Blue Cream           1\n",
       "Brown Brindle/Brown Merle       1\n",
       "Pink                            1\n",
       "Lynx Point/Brown Tabby          1\n",
       "Cream/Orange                    1\n",
       "Yellow/Yellow                   1\n",
       "Chocolate/Brown Brindle         1\n",
       "Yellow/Black                    1\n",
       "Orange/Tan                      1\n",
       "Brown Tabby/Brown               1\n",
       "Black Brindle/Black             1\n",
       "Tortie/Black Smoke              1\n",
       "Name: Color, Length: 366, dtype: int64"
      ]
     },
     "execution_count": 11,
     "metadata": {},
     "output_type": "execute_result"
    }
   ],
   "source": [
    "df['Color'].value_counts()"
   ]
  },
  {
   "cell_type": "markdown",
   "metadata": {},
   "source": [
    "    - 10개의 Column\n",
    "        - AnimalID, Name, DateTime, OutcomeType, OutcomeSubtype, AnimalType, SexuponOutcome, AgeuponOutcome, Breed, Color\n",
    "    1. 각 동물은 AnimalID 라는 고유의 값을 가짐\n",
    "    2. Name에 NaN 값이 존재\n",
    "    3. DateTime\n",
    "    4. OutcomeType은 5가지\n",
    "        - Adoption, Transfer, Return_to_owner, Euthanasia, Died\n",
    "    5. OutcomeSubtype은 16가지\n",
    "        - NaN 존재\n",
    "    6. AnimalType은 2가지\n",
    "        - Dog, Cat\n",
    "    7. SexuponOutcome은 4가지\n",
    "        - Neutered Male(중성화 수컷), Spayed Female(중성화 암컷), Intact Male(수컷), Intact Female(암컷)\n",
    "    8. AgeuponOutcome은 매우 다양\n",
    "    9. Breed(품종), 1380종\n",
    "    10. Color\n",
    "    \n",
    "- 전처리 필요한 변수들\n",
    "    - Name\n",
    "    - DateTime\n",
    "    - AgeuponOutcome\n",
    "        - 일수로 바꾸어 계산이 필요\n",
    "    - Breed\n",
    "        - 크기(소/중/대), 품종(순종/믹스), 장/단모 등\n",
    "    - Color"
   ]
  },
  {
   "cell_type": "markdown",
   "metadata": {},
   "source": [
    "# 전처리"
   ]
  },
  {
   "cell_type": "code",
   "execution_count": 12,
   "metadata": {},
   "outputs": [
    {
     "data": {
      "text/plain": [
       "Index(['AnimalID', 'Name', 'DateTime', 'OutcomeType', 'OutcomeSubtype',\n",
       "       'AnimalType', 'SexuponOutcome', 'AgeuponOutcome', 'Breed', 'Color'],\n",
       "      dtype='object')"
      ]
     },
     "execution_count": 12,
     "metadata": {},
     "output_type": "execute_result"
    }
   ],
   "source": [
    "df.columns"
   ]
  },
  {
   "cell_type": "markdown",
   "metadata": {},
   "source": [
    "### Name\n",
    "* 이름의 유무로 분류"
   ]
  },
  {
   "cell_type": "code",
   "execution_count": 13,
   "metadata": {
    "collapsed": true
   },
   "outputs": [],
   "source": [
    "def Naming(x):\n",
    "    if type(x) == float:\n",
    "        return 'Unnamed'\n",
    "    else:\n",
    "        return 'Named'"
   ]
  },
  {
   "cell_type": "code",
   "execution_count": 14,
   "metadata": {
    "collapsed": true
   },
   "outputs": [],
   "source": [
    "df['Name'] = df['Name'].transform(Naming)"
   ]
  },
  {
   "cell_type": "code",
   "execution_count": 15,
   "metadata": {
    "scrolled": true
   },
   "outputs": [
    {
     "data": {
      "text/plain": [
       "Named      19038\n",
       "Unnamed     7691\n",
       "Name: Name, dtype: int64"
      ]
     },
     "execution_count": 15,
     "metadata": {},
     "output_type": "execute_result"
    }
   ],
   "source": [
    "df['Name'].value_counts()"
   ]
  },
  {
   "cell_type": "markdown",
   "metadata": {},
   "source": [
    "### SexuponOutcome\n",
    "* 중성화 여부를 Neutered로 통일"
   ]
  },
  {
   "cell_type": "code",
   "execution_count": 16,
   "metadata": {
    "collapsed": true
   },
   "outputs": [],
   "source": [
    "df['SexuponOutcome'] = df['SexuponOutcome'].fillna('Unknown')"
   ]
  },
  {
   "cell_type": "code",
   "execution_count": 17,
   "metadata": {
    "collapsed": true
   },
   "outputs": [],
   "source": [
    "def intact(x):\n",
    "    if 'Neutered' in x or 'Spayed' in x:\n",
    "        return 'Neutered'\n",
    "    elif 'Male' in x:\n",
    "        return 'Male'\n",
    "    elif 'Female' in x:\n",
    "        return 'Female'\n",
    "    else:\n",
    "        return 'Unknown'"
   ]
  },
  {
   "cell_type": "code",
   "execution_count": 18,
   "metadata": {
    "collapsed": true
   },
   "outputs": [],
   "source": [
    "df['SexuponOutcome'] = df['SexuponOutcome'].apply(intact)"
   ]
  },
  {
   "cell_type": "code",
   "execution_count": 19,
   "metadata": {},
   "outputs": [
    {
     "data": {
      "text/plain": [
       "Neutered    18599\n",
       "Male         3525\n",
       "Female       3511\n",
       "Unknown      1094\n",
       "Name: SexuponOutcome, dtype: int64"
      ]
     },
     "execution_count": 19,
     "metadata": {},
     "output_type": "execute_result"
    }
   ],
   "source": [
    "df.SexuponOutcome.value_counts()"
   ]
  },
  {
   "cell_type": "markdown",
   "metadata": {},
   "source": [
    "### AgeuponOutcome\n",
    "* 일(day)로 단위를 통일"
   ]
  },
  {
   "cell_type": "code",
   "execution_count": 20,
   "metadata": {
    "collapsed": true
   },
   "outputs": [],
   "source": [
    "def Agebyday(x):\n",
    "    num, unit = x.split(' ')\n",
    "    if unit == 'year' or unit == 'years':\n",
    "        x = int(num) * 365\n",
    "    elif unit == 'month' or unit == 'months':\n",
    "        x = int(num) * 30\n",
    "    elif unit == 'week' or unit == 'weeks':\n",
    "        x = int(num) * 7\n",
    "    elif unit == 'day' or unit == 'days':\n",
    "        x = int(num)\n",
    "    return x"
   ]
  },
  {
   "cell_type": "code",
   "execution_count": 21,
   "metadata": {
    "collapsed": true
   },
   "outputs": [],
   "source": [
    "df['AgeuponOutcome'] = df['AgeuponOutcome'].fillna('0 day')"
   ]
  },
  {
   "cell_type": "code",
   "execution_count": 22,
   "metadata": {
    "collapsed": true
   },
   "outputs": [],
   "source": [
    "df['AgeuponOutcome'] = df['AgeuponOutcome'].apply(Agebyday)"
   ]
  },
  {
   "cell_type": "code",
   "execution_count": 23,
   "metadata": {},
   "outputs": [
    {
     "data": {
      "text/plain": [
       "365     3969\n",
       "730     3742\n",
       "60      3397\n",
       "1095    1823\n",
       "30      1281\n",
       "90      1277\n",
       "1460    1071\n",
       "1825     992\n",
       "120      888\n",
       "2190     670\n",
       "21       659\n",
       "150      652\n",
       "180      588\n",
       "2920     536\n",
       "2555     531\n",
       "14       529\n",
       "300      457\n",
       "3650     446\n",
       "240      402\n",
       "28       334\n",
       "7        317\n",
       "210      288\n",
       "3285     288\n",
       "4380     234\n",
       "270      224\n",
       "330      166\n",
       "4745     143\n",
       "4015     126\n",
       "3        109\n",
       "2         99\n",
       "5110      97\n",
       "5475      85\n",
       "1         66\n",
       "6         50\n",
       "4         50\n",
       "0         40\n",
       "5840      36\n",
       "5         24\n",
       "6205      17\n",
       "35        11\n",
       "6570      10\n",
       "6935       3\n",
       "7300       2\n",
       "Name: AgeuponOutcome, dtype: int64"
      ]
     },
     "execution_count": 23,
     "metadata": {},
     "output_type": "execute_result"
    }
   ],
   "source": [
    "# 변경 여부를 확인하고, 0이 40건임을 확인\n",
    "df['AgeuponOutcome'].value_counts()"
   ]
  },
  {
   "cell_type": "markdown",
   "metadata": {},
   "source": [
    "### Breed\n",
    "* 순종여부 분류 "
   ]
  },
  {
   "cell_type": "code",
   "execution_count": 24,
   "metadata": {
    "collapsed": true
   },
   "outputs": [],
   "source": [
    "def Breed2(x):\n",
    "    if '/' in x or 'Mix' in x:\n",
    "        return 'Mix'\n",
    "    else:\n",
    "        return 'Pure'"
   ]
  },
  {
   "cell_type": "code",
   "execution_count": 25,
   "metadata": {
    "collapsed": true
   },
   "outputs": [],
   "source": [
    "df['Breed2'] = df['Breed'].apply(Breed2)"
   ]
  },
  {
   "cell_type": "code",
   "execution_count": 26,
   "metadata": {},
   "outputs": [
    {
     "data": {
      "text/plain": [
       "Mix     25338\n",
       "Pure     1391\n",
       "Name: Breed2, dtype: int64"
      ]
     },
     "execution_count": 26,
     "metadata": {},
     "output_type": "execute_result"
    }
   ],
   "source": [
    "df['Breed2'].value_counts()"
   ]
  },
  {
   "cell_type": "markdown",
   "metadata": {
    "collapsed": true
   },
   "source": [
    "\n",
    "* American Kernel Club의 기준에 따른 품종군 분류 (Working, Toy, Terrier, Herding, Sporting, Non-sporting) \n",
    "* Pure, Mix 여부는 먼저 파악하였으므로, 이번엔 Breed를 파악\n",
    "* Breed는 AKC 분류를 기준으로 분류한다,\n",
    "* /로 표시된 경우, 앞의 Breed를 기준으로 한다.\n",
    "* AKC에 없는 경우, 고양이로 분류하도록 함."
   ]
  },
  {
   "cell_type": "code",
   "execution_count": 27,
   "metadata": {},
   "outputs": [
    {
     "data": {
      "text/plain": [
       "0          Shetland Sheepdog Mix\n",
       "1         Domestic Shorthair Mix\n",
       "2                   Pit Bull Mix\n",
       "3         Domestic Shorthair Mix\n",
       "4    Lhasa Apso/Miniature Poodle\n",
       "Name: Breed, dtype: object"
      ]
     },
     "execution_count": 27,
     "metadata": {},
     "output_type": "execute_result"
    }
   ],
   "source": [
    "df['Breed'].head()"
   ]
  },
  {
   "cell_type": "code",
   "execution_count": 28,
   "metadata": {
    "collapsed": true
   },
   "outputs": [],
   "source": [
    "Breed = pd.read_csv('data/breed.csv')"
   ]
  },
  {
   "cell_type": "code",
   "execution_count": 29,
   "metadata": {},
   "outputs": [
    {
     "data": {
      "text/html": [
       "<div>\n",
       "<style>\n",
       "    .dataframe thead tr:only-child th {\n",
       "        text-align: right;\n",
       "    }\n",
       "\n",
       "    .dataframe thead th {\n",
       "        text-align: left;\n",
       "    }\n",
       "\n",
       "    .dataframe tbody tr th {\n",
       "        vertical-align: top;\n",
       "    }\n",
       "</style>\n",
       "<table border=\"1\" class=\"dataframe\">\n",
       "  <thead>\n",
       "    <tr style=\"text-align: right;\">\n",
       "      <th></th>\n",
       "      <th>Breed</th>\n",
       "      <th>Type</th>\n",
       "    </tr>\n",
       "  </thead>\n",
       "  <tbody>\n",
       "    <tr>\n",
       "      <th>0</th>\n",
       "      <td>Affenpinscher</td>\n",
       "      <td>Toy</td>\n",
       "    </tr>\n",
       "    <tr>\n",
       "      <th>1</th>\n",
       "      <td>Afghan Hound</td>\n",
       "      <td>Hound</td>\n",
       "    </tr>\n",
       "    <tr>\n",
       "      <th>2</th>\n",
       "      <td>Airedale Terrier</td>\n",
       "      <td>Terrier</td>\n",
       "    </tr>\n",
       "    <tr>\n",
       "      <th>3</th>\n",
       "      <td>Akita</td>\n",
       "      <td>Working</td>\n",
       "    </tr>\n",
       "    <tr>\n",
       "      <th>4</th>\n",
       "      <td>Alaskan Malamute</td>\n",
       "      <td>Working</td>\n",
       "    </tr>\n",
       "  </tbody>\n",
       "</table>\n",
       "</div>"
      ],
      "text/plain": [
       "              Breed     Type\n",
       "0     Affenpinscher      Toy\n",
       "1      Afghan Hound    Hound\n",
       "2  Airedale Terrier  Terrier\n",
       "3             Akita  Working\n",
       "4  Alaskan Malamute  Working"
      ]
     },
     "execution_count": 29,
     "metadata": {},
     "output_type": "execute_result"
    }
   ],
   "source": [
    "Breed.head()"
   ]
  },
  {
   "cell_type": "code",
   "execution_count": 30,
   "metadata": {
    "collapsed": true
   },
   "outputs": [],
   "source": [
    "def breed_optimal(x):\n",
    "    if '/' in x:\n",
    "        x = x[0:x.index('/')]\n",
    "        return x\n",
    "    elif ' Mix' in x:\n",
    "        x = x[0:-4]\n",
    "        return x\n",
    "    else:\n",
    "        return x"
   ]
  },
  {
   "cell_type": "code",
   "execution_count": 31,
   "metadata": {
    "collapsed": true
   },
   "outputs": [],
   "source": [
    "df['Breed'] = df['Breed'].apply(breed_optimal)"
   ]
  },
  {
   "cell_type": "code",
   "execution_count": 32,
   "metadata": {
    "collapsed": true
   },
   "outputs": [],
   "source": [
    "df['Breed'] = df['Breed'].replace('Pit Bull', 'Bull Terrier')\n",
    "df['Breed'] = df['Breed'].replace('German Shepherd', 'German Shepherd Dog')\n",
    "df['Breed'] = df['Breed'].replace('Anatol Shepherd', 'Anatolian Shepherd Dog')\n",
    "df['Breed'] = df['Breed'].replace('Catahoula', 'Catahoula Cur')\n",
    "df['Breed'] = df['Breed'].replace('Staffordshire', 'American Staffordshire Terrier')\n",
    "df['Breed'] = df['Breed'].replace('Doberman Pinsch', 'Doberman Pinscher')\n",
    "df['Breed'] = df['Breed'].replace('Queensland Heeler', 'Australian Cattle Dog')\n",
    "df['Breed'] = df['Breed'].replace('Flat Coat Retriever', 'Flat-Coated Retriever')\n",
    "df['Breed'] = df['Breed'].replace('Chinese Sharpei', 'Chinese Shar Pei')\n",
    "df['Breed'] = df['Breed'].replace('Rhod Ridgeback', 'Rhodesian Ridgeback')\n",
    "df['Breed'] = df['Breed'].replace('Soft Coated Wheaten Terrier', 'Soft-Coated Wheaten Terrier')\n",
    "df['Breed'] = df['Breed'].replace('Bruss Griffon', 'Brussels Griffon')\n",
    "df['Breed'] = df['Breed'].replace('Redbone Hound', 'Redbone Coonhound')\n",
    "df['Breed'] = df['Breed'].replace('West Highland', 'West Highland White Terrier')\n",
    "df['Breed'] = df['Breed'].replace('Wire Hair Fox Terrier', 'Wire Fox Terrier')\n",
    "df['Breed'] = df['Breed'].replace('Dogo Argentino', 'Mastiff')\n",
    "df['Breed'] = df['Breed'].replace('Alaskan Husky', 'Alaskan Malamute')\n",
    "df['Breed'] = df['Breed'].replace('Pbgv', 'Petit Basset Griffon Vendeen')\n",
    "df['Breed'] = df['Breed'].replace('Chesa Bay Retr', 'Chesapeake Bay Retriever')\n",
    "df['Breed'] = df['Breed'].replace('Cavalier Span', 'Cavalier King Charles Spaniel')\n",
    "df['Breed'] = df['Breed'].replace('Dutch Shepherd', 'Dutch Shepherd Dog')\n",
    "df['Breed'] = df['Breed'].replace('English Coonhound', 'American English Coonhound')\n",
    "df['Breed'] = df['Breed'].replace('American Eskimo', 'American Eskimo Dog')\n",
    "df['Breed'] = df['Breed'].replace('Bluetick Hound', 'Bluetick Coonhound')\n",
    "df['Breed'] = df['Breed'].replace('Patterdale Terr', 'Patterdale Terrier')\n",
    "df['Breed'] = df['Breed'].replace('Chinese Crested', 'Chinese Crested Dog')\n",
    "df['Breed'] = df['Breed'].replace('Podengo Pequeno', 'Portuguese Podengo Pequeno')\n",
    "df['Breed'] = df['Breed'].replace('Dogue De Bordeaux', 'Dogue de Bordeaux')\n",
    "df['Breed'] = df['Breed'].replace('Boykin Span', 'Boykin Spaniel')\n",
    "df['Breed'] = df['Breed'].replace('Landseer', 'Newfoundland')\n",
    "df['Breed'] = df['Breed'].replace('Schnauzer Giant', 'Giant Schnauzer')\n",
    "df['Breed'] = df['Breed'].replace('Glen Of Imaal', 'Glen of Imaal Terrier')\n",
    "df['Breed'] = df['Breed'].replace('Treeing Cur', 'Treeing Walker Coonhound')\n",
    "df['Breed'] = df['Breed'].replace('Bedlington Terr', 'Bedlington Terrier')\n",
    "df['Breed'] = df['Breed'].replace('Picardy Sheepdog', 'Berger Picard')\n",
    "df['Breed'] = df['Breed'].replace('Presa Canario', 'Mastiff')\n",
    "df['Breed'] = df['Breed'].replace('Nova Scotia Duck Tolling Retriever', 'Nova Scotia Duck-Tolling Retriever')\n",
    "df['Breed'] = df['Breed'].replace('Port Water Dog', 'Portuguese Water Dog')\n",
    "df['Breed'] = df['Breed'].replace('Mexican Hairless', 'American Hairless Terrier')\n",
    "df['Breed'] = df['Breed'].replace('Treeing Tennesse Brindle', 'Treeing Walker Coonhound')\n",
    "df['Breed'] = df['Breed'].replace('Entlebucher', 'Entlebucher Mountain Dog')\n",
    "df['Breed'] = df['Breed'].replace('Sealyham Terr', 'Sealyham Terrier')\n",
    "df['Breed'] = df['Breed'].replace('Black', 'Black and Tan Coonhound')\n",
    "df['Breed'] = df['Breed'].replace('Unknown', 'Chihuahua Shorthair')"
   ]
  },
  {
   "cell_type": "code",
   "execution_count": 33,
   "metadata": {
    "collapsed": true,
    "scrolled": true
   },
   "outputs": [],
   "source": [
    "df = df.join(Breed.set_index('Breed'), on='Breed')"
   ]
  },
  {
   "cell_type": "code",
   "execution_count": 34,
   "metadata": {
    "collapsed": true
   },
   "outputs": [],
   "source": [
    "df['Type'] = df['Type'].fillna('Cat')"
   ]
  },
  {
   "cell_type": "code",
   "execution_count": 35,
   "metadata": {
    "scrolled": false
   },
   "outputs": [
    {
     "data": {
      "text/html": [
       "<div>\n",
       "<style>\n",
       "    .dataframe thead tr:only-child th {\n",
       "        text-align: right;\n",
       "    }\n",
       "\n",
       "    .dataframe thead th {\n",
       "        text-align: left;\n",
       "    }\n",
       "\n",
       "    .dataframe tbody tr th {\n",
       "        vertical-align: top;\n",
       "    }\n",
       "</style>\n",
       "<table border=\"1\" class=\"dataframe\">\n",
       "  <thead>\n",
       "    <tr style=\"text-align: right;\">\n",
       "      <th></th>\n",
       "      <th>AnimalID</th>\n",
       "      <th>Name</th>\n",
       "      <th>DateTime</th>\n",
       "      <th>OutcomeType</th>\n",
       "      <th>OutcomeSubtype</th>\n",
       "      <th>AnimalType</th>\n",
       "      <th>SexuponOutcome</th>\n",
       "      <th>AgeuponOutcome</th>\n",
       "      <th>Breed</th>\n",
       "      <th>Color</th>\n",
       "      <th>Breed2</th>\n",
       "      <th>Type</th>\n",
       "    </tr>\n",
       "  </thead>\n",
       "  <tbody>\n",
       "    <tr>\n",
       "      <th>0</th>\n",
       "      <td>A671945</td>\n",
       "      <td>Named</td>\n",
       "      <td>2014-02-12 18:22:00</td>\n",
       "      <td>Return_to_owner</td>\n",
       "      <td>NaN</td>\n",
       "      <td>Dog</td>\n",
       "      <td>Neutered</td>\n",
       "      <td>365</td>\n",
       "      <td>Shetland Sheepdog</td>\n",
       "      <td>Brown/White</td>\n",
       "      <td>Mix</td>\n",
       "      <td>Herding</td>\n",
       "    </tr>\n",
       "    <tr>\n",
       "      <th>1</th>\n",
       "      <td>A656520</td>\n",
       "      <td>Named</td>\n",
       "      <td>2013-10-13 12:44:00</td>\n",
       "      <td>Euthanasia</td>\n",
       "      <td>Suffering</td>\n",
       "      <td>Cat</td>\n",
       "      <td>Neutered</td>\n",
       "      <td>365</td>\n",
       "      <td>Domestic Shorthair</td>\n",
       "      <td>Cream Tabby</td>\n",
       "      <td>Mix</td>\n",
       "      <td>Cat</td>\n",
       "    </tr>\n",
       "    <tr>\n",
       "      <th>2</th>\n",
       "      <td>A686464</td>\n",
       "      <td>Named</td>\n",
       "      <td>2015-01-31 12:28:00</td>\n",
       "      <td>Adoption</td>\n",
       "      <td>Foster</td>\n",
       "      <td>Dog</td>\n",
       "      <td>Neutered</td>\n",
       "      <td>730</td>\n",
       "      <td>Bull Terrier</td>\n",
       "      <td>Blue/White</td>\n",
       "      <td>Mix</td>\n",
       "      <td>Terrier</td>\n",
       "    </tr>\n",
       "    <tr>\n",
       "      <th>3</th>\n",
       "      <td>A683430</td>\n",
       "      <td>Unnamed</td>\n",
       "      <td>2014-07-11 19:09:00</td>\n",
       "      <td>Transfer</td>\n",
       "      <td>Partner</td>\n",
       "      <td>Cat</td>\n",
       "      <td>Male</td>\n",
       "      <td>21</td>\n",
       "      <td>Domestic Shorthair</td>\n",
       "      <td>Blue Cream</td>\n",
       "      <td>Mix</td>\n",
       "      <td>Cat</td>\n",
       "    </tr>\n",
       "    <tr>\n",
       "      <th>4</th>\n",
       "      <td>A667013</td>\n",
       "      <td>Unnamed</td>\n",
       "      <td>2013-11-15 12:52:00</td>\n",
       "      <td>Transfer</td>\n",
       "      <td>Partner</td>\n",
       "      <td>Dog</td>\n",
       "      <td>Neutered</td>\n",
       "      <td>730</td>\n",
       "      <td>Lhasa Apso</td>\n",
       "      <td>Tan</td>\n",
       "      <td>Mix</td>\n",
       "      <td>Non-Sporting</td>\n",
       "    </tr>\n",
       "  </tbody>\n",
       "</table>\n",
       "</div>"
      ],
      "text/plain": [
       "  AnimalID     Name             DateTime      OutcomeType OutcomeSubtype  \\\n",
       "0  A671945    Named  2014-02-12 18:22:00  Return_to_owner            NaN   \n",
       "1  A656520    Named  2013-10-13 12:44:00       Euthanasia      Suffering   \n",
       "2  A686464    Named  2015-01-31 12:28:00         Adoption         Foster   \n",
       "3  A683430  Unnamed  2014-07-11 19:09:00         Transfer        Partner   \n",
       "4  A667013  Unnamed  2013-11-15 12:52:00         Transfer        Partner   \n",
       "\n",
       "  AnimalType SexuponOutcome  AgeuponOutcome               Breed        Color  \\\n",
       "0        Dog       Neutered             365   Shetland Sheepdog  Brown/White   \n",
       "1        Cat       Neutered             365  Domestic Shorthair  Cream Tabby   \n",
       "2        Dog       Neutered             730        Bull Terrier   Blue/White   \n",
       "3        Cat           Male              21  Domestic Shorthair   Blue Cream   \n",
       "4        Dog       Neutered             730          Lhasa Apso          Tan   \n",
       "\n",
       "  Breed2          Type  \n",
       "0    Mix       Herding  \n",
       "1    Mix           Cat  \n",
       "2    Mix       Terrier  \n",
       "3    Mix           Cat  \n",
       "4    Mix  Non-Sporting  "
      ]
     },
     "execution_count": 35,
     "metadata": {},
     "output_type": "execute_result"
    }
   ],
   "source": [
    "df.head()"
   ]
  },
  {
   "cell_type": "markdown",
   "metadata": {},
   "source": [
    "<br><br><br><br>"
   ]
  },
  {
   "cell_type": "markdown",
   "metadata": {},
   "source": [
    "### Color\n",
    "* 해당 개체의 주된 색상과 혼합여부"
   ]
  },
  {
   "cell_type": "code",
   "execution_count": 36,
   "metadata": {
    "collapsed": true
   },
   "outputs": [],
   "source": [
    "# number of color 색상의 갯수, 0은 한색, 1은 두색이상\n",
    "def get_num(x):\n",
    "    x = str(x)\n",
    "    if x.find('/') >= 0: return 1\n",
    "    else: return 0\n",
    "\n",
    "df['numCol'] = df.Color.apply(get_num)"
   ]
  },
  {
   "cell_type": "code",
   "execution_count": 37,
   "metadata": {
    "collapsed": true
   },
   "outputs": [],
   "source": [
    "# Color 단순화 1단계 '/' 풀기\n",
    "from pandas import Series\n",
    "\n",
    "bymain = []\n",
    "\n",
    "for i in df['Color']:\n",
    "    i = str(i)\n",
    "    if i.find('/') >= 0:\n",
    "        f, s = i.split('/')\n",
    "        bymain.append(f)\n",
    "    else:\n",
    "        bymain.append(i)\n",
    "\n",
    "df['Color'] = Series(bymain)"
   ]
  },
  {
   "cell_type": "code",
   "execution_count": 38,
   "metadata": {
    "collapsed": true
   },
   "outputs": [],
   "source": [
    "def get_mainC(x):\n",
    "    x = str(x)\n",
    "    if x.find('Black') >= 0: return 'dark'\n",
    "    if x.find('White') >= 0: return 'light'\n",
    "    if x.find('Brown') >= 0: return 'dark'\n",
    "    if x.find('Orange') >= 0: return 'light'\n",
    "    if x.find('Blue') >= 0: return 'medium'\n",
    "    if x.find('Red') >= 0: return 'medium'\n",
    "    \n",
    "    if x.find('Tan') >= 0: return 'medium'\n",
    "    if x.find('Tortie') >= 0: return 'dark'\n",
    "    if x.find('Calico') >= 0: return 'medium'\n",
    "    if x.find('Torbie') >= 0: return 'medium'\n",
    "    if x.find('Buff') >= 0: return 'light'\n",
    "    if x.find('Sable') >= 0: return 'dark'\n",
    "    if x.find('Cream') >= 0: return 'light'\n",
    "    if x.find('Yellow') >= 0: return 'light'\n",
    "    if x.find('Lynx') >= 0: return 'light'\n",
    "    if x.find('Chocolate') >= 0: return 'dark'\n",
    "    if x.find('Gray') >= 0: return 'dark'\n",
    "    if x.find('Liver') >= 0: return 'dark'\n",
    "    if x.find('Flame') >= 0: return 'light'\n",
    "    if x.find('Agouti') >= 0: return 'dark'\n",
    "    if x.find('Pink') >= 0: return 'light'\n",
    "    if x.find('Ruddy') >= 0: return 'medium'\n",
    "    if x.find('Gold') >= 0: return 'light'\n",
    "    if x.find('Silver') >= 0: return 'light'\n",
    "    if x.find('Lilac') >= 0: return 'light'\n",
    "    if x.find('Seal') >= 0: return 'medium'\n",
    "    if x.find('Fawn') >= 0: return 'light'\n",
    "    if x.find('Apricot') >= 0: return 'light'\n",
    "    else: return x\n",
    "\n",
    "df['Color'] = df.Color.apply(get_mainC)"
   ]
  },
  {
   "cell_type": "code",
   "execution_count": 39,
   "metadata": {
    "scrolled": true
   },
   "outputs": [
    {
     "data": {
      "text/html": [
       "<div>\n",
       "<style>\n",
       "    .dataframe thead tr:only-child th {\n",
       "        text-align: right;\n",
       "    }\n",
       "\n",
       "    .dataframe thead th {\n",
       "        text-align: left;\n",
       "    }\n",
       "\n",
       "    .dataframe tbody tr th {\n",
       "        vertical-align: top;\n",
       "    }\n",
       "</style>\n",
       "<table border=\"1\" class=\"dataframe\">\n",
       "  <thead>\n",
       "    <tr style=\"text-align: right;\">\n",
       "      <th></th>\n",
       "      <th>AnimalID</th>\n",
       "      <th>Name</th>\n",
       "      <th>DateTime</th>\n",
       "      <th>OutcomeType</th>\n",
       "      <th>OutcomeSubtype</th>\n",
       "      <th>AnimalType</th>\n",
       "      <th>SexuponOutcome</th>\n",
       "      <th>AgeuponOutcome</th>\n",
       "      <th>Breed</th>\n",
       "      <th>Color</th>\n",
       "      <th>Breed2</th>\n",
       "      <th>Type</th>\n",
       "      <th>numCol</th>\n",
       "    </tr>\n",
       "  </thead>\n",
       "  <tbody>\n",
       "    <tr>\n",
       "      <th>26724</th>\n",
       "      <td>A702446</td>\n",
       "      <td>Unnamed</td>\n",
       "      <td>2015-05-14 11:56:00</td>\n",
       "      <td>Transfer</td>\n",
       "      <td>Partner</td>\n",
       "      <td>Cat</td>\n",
       "      <td>Male</td>\n",
       "      <td>30</td>\n",
       "      <td>Domestic Shorthair</td>\n",
       "      <td>dark</td>\n",
       "      <td>Mix</td>\n",
       "      <td>Cat</td>\n",
       "      <td>1</td>\n",
       "    </tr>\n",
       "    <tr>\n",
       "      <th>26725</th>\n",
       "      <td>A718934</td>\n",
       "      <td>Unnamed</td>\n",
       "      <td>2016-01-20 18:59:00</td>\n",
       "      <td>Transfer</td>\n",
       "      <td>SCRP</td>\n",
       "      <td>Cat</td>\n",
       "      <td>Neutered</td>\n",
       "      <td>90</td>\n",
       "      <td>Domestic Shorthair</td>\n",
       "      <td>dark</td>\n",
       "      <td>Mix</td>\n",
       "      <td>Cat</td>\n",
       "      <td>0</td>\n",
       "    </tr>\n",
       "    <tr>\n",
       "      <th>26726</th>\n",
       "      <td>A698128</td>\n",
       "      <td>Named</td>\n",
       "      <td>2015-03-09 13:33:00</td>\n",
       "      <td>Adoption</td>\n",
       "      <td>NaN</td>\n",
       "      <td>Dog</td>\n",
       "      <td>Neutered</td>\n",
       "      <td>1460</td>\n",
       "      <td>Old English Bulldog</td>\n",
       "      <td>light</td>\n",
       "      <td>Mix</td>\n",
       "      <td>Cat</td>\n",
       "      <td>1</td>\n",
       "    </tr>\n",
       "    <tr>\n",
       "      <th>26727</th>\n",
       "      <td>A677478</td>\n",
       "      <td>Unnamed</td>\n",
       "      <td>2014-04-27 12:22:00</td>\n",
       "      <td>Transfer</td>\n",
       "      <td>Partner</td>\n",
       "      <td>Cat</td>\n",
       "      <td>Male</td>\n",
       "      <td>28</td>\n",
       "      <td>Domestic Shorthair</td>\n",
       "      <td>dark</td>\n",
       "      <td>Mix</td>\n",
       "      <td>Cat</td>\n",
       "      <td>0</td>\n",
       "    </tr>\n",
       "    <tr>\n",
       "      <th>26728</th>\n",
       "      <td>A706629</td>\n",
       "      <td>Unnamed</td>\n",
       "      <td>2015-07-02 09:00:00</td>\n",
       "      <td>Transfer</td>\n",
       "      <td>SCRP</td>\n",
       "      <td>Cat</td>\n",
       "      <td>Male</td>\n",
       "      <td>365</td>\n",
       "      <td>Domestic Shorthair</td>\n",
       "      <td>dark</td>\n",
       "      <td>Mix</td>\n",
       "      <td>Cat</td>\n",
       "      <td>1</td>\n",
       "    </tr>\n",
       "  </tbody>\n",
       "</table>\n",
       "</div>"
      ],
      "text/plain": [
       "      AnimalID     Name             DateTime OutcomeType OutcomeSubtype  \\\n",
       "26724  A702446  Unnamed  2015-05-14 11:56:00    Transfer        Partner   \n",
       "26725  A718934  Unnamed  2016-01-20 18:59:00    Transfer           SCRP   \n",
       "26726  A698128    Named  2015-03-09 13:33:00    Adoption            NaN   \n",
       "26727  A677478  Unnamed  2014-04-27 12:22:00    Transfer        Partner   \n",
       "26728  A706629  Unnamed  2015-07-02 09:00:00    Transfer           SCRP   \n",
       "\n",
       "      AnimalType SexuponOutcome  AgeuponOutcome                Breed  Color  \\\n",
       "26724        Cat           Male              30   Domestic Shorthair   dark   \n",
       "26725        Cat       Neutered              90   Domestic Shorthair   dark   \n",
       "26726        Dog       Neutered            1460  Old English Bulldog  light   \n",
       "26727        Cat           Male              28   Domestic Shorthair   dark   \n",
       "26728        Cat           Male             365   Domestic Shorthair   dark   \n",
       "\n",
       "      Breed2 Type  numCol  \n",
       "26724    Mix  Cat       1  \n",
       "26725    Mix  Cat       0  \n",
       "26726    Mix  Cat       1  \n",
       "26727    Mix  Cat       0  \n",
       "26728    Mix  Cat       1  "
      ]
     },
     "execution_count": 39,
     "metadata": {},
     "output_type": "execute_result"
    }
   ],
   "source": [
    "df.tail()"
   ]
  },
  {
   "cell_type": "markdown",
   "metadata": {},
   "source": [
    "## Data 시각화"
   ]
  },
  {
   "cell_type": "code",
   "execution_count": 40,
   "metadata": {},
   "outputs": [
    {
     "data": {
      "text/plain": [
       "<matplotlib.axes._subplots.AxesSubplot at 0x10ce92048>"
      ]
     },
     "execution_count": 40,
     "metadata": {},
     "output_type": "execute_result"
    },
    {
     "data": {
      "image/png": "[encoded data removed]",
      "text/plain": [
       "<matplotlib.figure.Figure at 0x10dc4e358>"
      ]
     },
     "metadata": {},
     "output_type": "display_data"
    }
   ],
   "source": [
    "f, (ax1, ax2) = plt.subplots(1, 2, figsize=(16,4))\n",
    "df['AnimalType'].value_counts().plot(kind = 'bar', ax=ax1)\n",
    "sns.countplot(data=df, x='AnimalType', hue='Name', ax=ax2)"
   ]
  },
  {
   "cell_type": "code",
   "execution_count": 41,
   "metadata": {},
   "outputs": [
    {
     "data": {
      "text/plain": [
       "<matplotlib.axes._subplots.AxesSubplot at 0x10d2bf630>"
      ]
     },
     "execution_count": 41,
     "metadata": {},
     "output_type": "execute_result"
    },
    {
     "data": {
      "image/png": "[encoded data removed]",
      "text/plain": [
       "<matplotlib.figure.Figure at 0x10dc4eef0>"
      ]
     },
     "metadata": {},
     "output_type": "display_data"
    }
   ],
   "source": [
    "f, (ax1, ax2) = plt.subplots(1, 2, figsize=(16,4))\n",
    "sns.countplot(data=df, x='AnimalType', hue='Breed2', ax=ax1)\n",
    "sns.countplot(data=df, x='OutcomeType', hue='Breed2', ax = ax2)"
   ]
  },
  {
   "cell_type": "code",
   "execution_count": 42,
   "metadata": {},
   "outputs": [
    {
     "data": {
      "text/plain": [
       "<matplotlib.axes._subplots.AxesSubplot at 0x10d525400>"
      ]
     },
     "execution_count": 42,
     "metadata": {},
     "output_type": "execute_result"
    },
    {
     "data": {
      "image/png": "[encoded data removed]",
      "text/plain": [
       "<matplotlib.figure.Figure at 0x10dc4e9b0>"
      ]
     },
     "metadata": {},
     "output_type": "display_data"
    }
   ],
   "source": [
    "f, (ax1, ax2) = plt.subplots(1, 2, figsize=(16,4))\n",
    "sns.countplot(data=df, x='OutcomeType', hue='AnimalType', ax = ax1)\n",
    "sns.countplot(data=df, x='SexuponOutcome', hue='AnimalType', ax=ax2)"
   ]
  },
  {
   "cell_type": "markdown",
   "metadata": {},
   "source": [
    "* OutcomeType에서 AniamlType별 차이가 크게 발생한다\n",
    "    * 개는 주인이 되찾아간 비율이 고양이에 비해 확연히 큼\n",
    "    * 고양이는 입양되거나 다른 시설로 보내진 경우가 많다\n",
    "    * 보호기간 동안 죽거나 안락사 된 비율은 고양이와 개, 모두 낮다\n",
    "* SexuponOutcome에서 AnimalType별 차이가 발생한다\n",
    "    * 개는 성별에 관계없이 중성화된 비율이 높게 나타난다\n",
    "    * 고양이도 중성화된 비율이 높으나, 크게 차이가 발생하지 않는다\n",
    "    * 고양이의 경우 성별이 누락된 경우가 있다 (Unknown)"
   ]
  },
  {
   "cell_type": "code",
   "execution_count": 43,
   "metadata": {
    "scrolled": true
   },
   "outputs": [
    {
     "data": {
      "image/png": "[encoded data removed]",
      "text/plain": [
       "<matplotlib.figure.Figure at 0x10cba1828>"
      ]
     },
     "metadata": {},
     "output_type": "display_data"
    }
   ],
   "source": [
    "from statsmodels.graphics.mosaicplot import mosaic\n",
    "plt.rcParams['font.size'] = 7\n",
    "mosaic = mosaic(df, ['AnimalType', 'OutcomeType', 'SexuponOutcome'])"
   ]
  },
  {
   "cell_type": "markdown",
   "metadata": {},
   "source": [
    "* AnimalType에 관계없이, 중성화 된 개체가 Adoption에서 높은 비율을 차지함\n",
    "* Adoption과 개체의 성별은 상관도가 낮은 것으로 판단됨\n",
    "* 전반적으로 성별 자체의 영향은 낮은것으로 보이며, Adoption과 Return to owner에만 중성화에 따른 비율이 다르다"
   ]
  },
  {
   "cell_type": "code",
   "execution_count": 44,
   "metadata": {},
   "outputs": [
    {
     "data": {
      "text/plain": [
       "<matplotlib.axes._subplots.AxesSubplot at 0x10d7e3c18>"
      ]
     },
     "execution_count": 44,
     "metadata": {},
     "output_type": "execute_result"
    },
    {
     "data": {
      "image/png": "[encoded data removed]",
      "text/plain": [
       "<matplotlib.figure.Figure at 0x10e538828>"
      ]
     },
     "metadata": {},
     "output_type": "display_data"
    }
   ],
   "source": [
    "sns.boxplot(x='AgeuponOutcome', y='AnimalType', data = df)"
   ]
  },
  {
   "cell_type": "code",
   "execution_count": 45,
   "metadata": {},
   "outputs": [
    {
     "data": {
      "text/plain": [
       "<matplotlib.axes._subplots.AxesSubplot at 0x10d607f28>"
      ]
     },
     "execution_count": 45,
     "metadata": {},
     "output_type": "execute_result"
    },
    {
     "data": {
      "image/png": "[encoded data removed]",
      "text/plain": [
       "<matplotlib.figure.Figure at 0x10dc7a978>"
      ]
     },
     "metadata": {},
     "output_type": "display_data"
    }
   ],
   "source": [
    "sns.boxplot(x=df['OutcomeType'], y=df['AgeuponOutcome'], hue=df['AnimalType'], palette=\"Set3\")"
   ]
  },
  {
   "cell_type": "code",
   "execution_count": 46,
   "metadata": {},
   "outputs": [
    {
     "data": {
      "image/png": "[encoded data removed]",
      "text/plain": [
       "<matplotlib.figure.Figure at 0x10e8ab1d0>"
      ]
     },
     "metadata": {},
     "output_type": "display_data"
    }
   ],
   "source": [
    "f, (ax1, ax2) = plt.subplots(1, 2, figsize=(16,4))\n",
    "sns.violinplot(x=\"OutcomeType\", y=\"AgeuponOutcome\", hue=\"AnimalType\", data=df, split=True,\n",
    "               inner=\"quart\", palette={\"Dog\": \"b\", \"Cat\": \"y\"}, ax=ax1)\n",
    "sns.violinplot(x=\"SexuponOutcome\", y=\"AgeuponOutcome\", hue=\"AnimalType\", data=df, split=True,\n",
    "               inner=\"quart\", palette={\"Dog\": \"b\", \"Cat\": \"y\"}, ax=ax2)\n",
    "sns.despine(left=True)"
   ]
  },
  {
   "cell_type": "markdown",
   "metadata": {},
   "source": [
    "* 보호소에 어린 고양이가 많이 들어옴\n",
    "* 따라서 고양이의 OutcomeType은 모두 어린 쪽에 집중되어있다\n",
    "    * 고양이의 나이는 크게 영향이 없을 것으로 예상됨\n",
    "    * 단, 나이가 많은 고양이의 경우, 안락사 되는 경우가 있다\n",
    "    * 고양이는 다쳐서 보호소에 들어오는 경우가 많지 않을까 예상\n",
    "* 다양한 연령대의 개들이 보호소에 들어옴\n",
    "    * 입양되는 비율은 어린 개에 집중되어 있으며, 나이가 많을 수록 안락사의 비율이 높았다\n",
    "    * 개는 고양이에 비해 죽거나 안락사 되는 비율이 적은 것으로 보인다"
   ]
  },
  {
   "cell_type": "code",
   "execution_count": 47,
   "metadata": {
    "collapsed": true
   },
   "outputs": [],
   "source": [
    "subset = df[['OutcomeSubtype', 'OutcomeType']]\n",
    "tuples = [tuple(x) for x in subset.values]"
   ]
  },
  {
   "cell_type": "code",
   "execution_count": 48,
   "metadata": {
    "collapsed": true
   },
   "outputs": [],
   "source": [
    "from collections import Counter\n",
    "\n",
    "val_3=Counter(tuples)"
   ]
  },
  {
   "cell_type": "code",
   "execution_count": 40,
   "metadata": {
    "collapsed": true
   },
   "outputs": [],
   "source": [
    "sub_df1 = pd.DataFrame(val_3.values(), columns=['count'], index=pd.MultiIndex.from_tuples(val_3.keys()))\n",
    "sub_df2 = sub_df1.unstack()\n",
    "sub_df2.columns = sub_df2.columns.droplevel()  # Drop `count` label.\n",
    "sub_df2 = sub_df2.div(sub_df2.sum())"
   ]
  },
  {
   "cell_type": "code",
   "execution_count": 41,
   "metadata": {},
   "outputs": [
    {
     "data": {
      "text/plain": [
       "<matplotlib.axes._subplots.AxesSubplot at 0x8e5c570>"
      ]
     },
     "execution_count": 41,
     "metadata": {},
     "output_type": "execute_result"
    },
    {
     "data": {
      "image/png": "[encoded data removed]",
      "text/plain": [
       "<matplotlib.figure.Figure at 0xa517cb0>"
      ]
     },
     "metadata": {},
     "output_type": "display_data"
    }
   ],
   "source": [
    "sub_df2.T.plot(kind='bar', stacked=True, rot=1, figsize=(8, 8))"
   ]
  },
  {
   "cell_type": "code",
   "execution_count": 42,
   "metadata": {
    "scrolled": false
   },
   "outputs": [
    {
     "data": {
      "text/plain": [
       "<matplotlib.axes._subplots.AxesSubplot at 0xa524d30>"
      ]
     },
     "execution_count": 42,
     "metadata": {},
     "output_type": "execute_result"
    },
    {
     "data": {
      "image/png": "[encoded data removed]",
      "text/plain": [
       "<matplotlib.figure.Figure at 0xaae2130>"
      ]
     },
     "metadata": {},
     "output_type": "display_data"
    }
   ],
   "source": [
    "subset = df[['AnimalType', 'OutcomeType']]\n",
    "tuples = [tuple(x) for x in subset.values]\n",
    "val_3=Counter(tuples)\n",
    "sub_df1 = pd.DataFrame(val_3.values(), columns=['count'], index=pd.MultiIndex.from_tuples(val_3.keys()))\n",
    "sub_df2 = sub_df1.unstack()\n",
    "sub_df2.columns = sub_df2.columns.droplevel()\n",
    "sub_df2 = sub_df2.div(sub_df2.sum())\n",
    "\n",
    "sub_df2.T.plot(kind='bar', stacked=True, rot=1, figsize=(8, 8))"
   ]
  },
  {
   "cell_type": "markdown",
   "metadata": {},
   "source": [
    "* AnimalType 별 차이가 큼을 확인할 수 있었음\n",
    "* Name, AgeuponOutcome, SexuponOutcome, OutcomeType 등에서 큰 차이가 있음"
   ]
  },
  {
   "cell_type": "markdown",
   "metadata": {},
   "source": [
    "<br><br><br><br>"
   ]
  },
  {
   "cell_type": "markdown",
   "metadata": {},
   "source": [
    "## 더미화"
   ]
  },
  {
   "cell_type": "code",
   "execution_count": 49,
   "metadata": {
    "collapsed": true
   },
   "outputs": [],
   "source": [
    "from sklearn.preprocessing import LabelEncoder\n",
    "encoder = LabelEncoder()\n",
    "#df['OutcomeType'] = encoder.fit_transform(df['OutcomeType'])\n",
    "df['Name'] = encoder.fit_transform(df['Name'])\n",
    "df['SexuponOutcome'] = encoder.fit_transform(df['SexuponOutcome'])\n",
    "df['Type'] = encoder.fit_transform(df['Type'])\n",
    "df['Breed2'] = encoder.fit_transform(df['Breed2'])\n",
    "df['Color'] = encoder.fit_transform(df['Color'])\n",
    "df['Breed'] = encoder.fit_transform(df['Breed'])"
   ]
  },
  {
   "cell_type": "code",
   "execution_count": 50,
   "metadata": {
    "scrolled": false
   },
   "outputs": [
    {
     "data": {
      "text/html": [
       "<div>\n",
       "<style>\n",
       "    .dataframe thead tr:only-child th {\n",
       "        text-align: right;\n",
       "    }\n",
       "\n",
       "    .dataframe thead th {\n",
       "        text-align: left;\n",
       "    }\n",
       "\n",
       "    .dataframe tbody tr th {\n",
       "        vertical-align: top;\n",
       "    }\n",
       "</style>\n",
       "<table border=\"1\" class=\"dataframe\">\n",
       "  <thead>\n",
       "    <tr style=\"text-align: right;\">\n",
       "      <th></th>\n",
       "      <th>AnimalID</th>\n",
       "      <th>Name</th>\n",
       "      <th>DateTime</th>\n",
       "      <th>OutcomeType</th>\n",
       "      <th>OutcomeSubtype</th>\n",
       "      <th>AnimalType</th>\n",
       "      <th>SexuponOutcome</th>\n",
       "      <th>AgeuponOutcome</th>\n",
       "      <th>Breed</th>\n",
       "      <th>Color</th>\n",
       "      <th>Breed2</th>\n",
       "      <th>Type</th>\n",
       "      <th>numCol</th>\n",
       "    </tr>\n",
       "  </thead>\n",
       "  <tbody>\n",
       "    <tr>\n",
       "      <th>26724</th>\n",
       "      <td>A702446</td>\n",
       "      <td>1</td>\n",
       "      <td>2015-05-14 11:56:00</td>\n",
       "      <td>Transfer</td>\n",
       "      <td>Partner</td>\n",
       "      <td>Cat</td>\n",
       "      <td>1</td>\n",
       "      <td>30</td>\n",
       "      <td>81</td>\n",
       "      <td>1</td>\n",
       "      <td>0</td>\n",
       "      <td>0</td>\n",
       "      <td>1</td>\n",
       "    </tr>\n",
       "    <tr>\n",
       "      <th>26725</th>\n",
       "      <td>A718934</td>\n",
       "      <td>1</td>\n",
       "      <td>2016-01-20 18:59:00</td>\n",
       "      <td>Transfer</td>\n",
       "      <td>SCRP</td>\n",
       "      <td>Cat</td>\n",
       "      <td>2</td>\n",
       "      <td>90</td>\n",
       "      <td>81</td>\n",
       "      <td>1</td>\n",
       "      <td>0</td>\n",
       "      <td>0</td>\n",
       "      <td>0</td>\n",
       "    </tr>\n",
       "    <tr>\n",
       "      <th>26726</th>\n",
       "      <td>A698128</td>\n",
       "      <td>0</td>\n",
       "      <td>2015-03-09 13:33:00</td>\n",
       "      <td>Adoption</td>\n",
       "      <td>NaN</td>\n",
       "      <td>Dog</td>\n",
       "      <td>2</td>\n",
       "      <td>1460</td>\n",
       "      <td>146</td>\n",
       "      <td>2</td>\n",
       "      <td>0</td>\n",
       "      <td>0</td>\n",
       "      <td>1</td>\n",
       "    </tr>\n",
       "    <tr>\n",
       "      <th>26727</th>\n",
       "      <td>A677478</td>\n",
       "      <td>1</td>\n",
       "      <td>2014-04-27 12:22:00</td>\n",
       "      <td>Transfer</td>\n",
       "      <td>Partner</td>\n",
       "      <td>Cat</td>\n",
       "      <td>1</td>\n",
       "      <td>28</td>\n",
       "      <td>81</td>\n",
       "      <td>1</td>\n",
       "      <td>0</td>\n",
       "      <td>0</td>\n",
       "      <td>0</td>\n",
       "    </tr>\n",
       "    <tr>\n",
       "      <th>26728</th>\n",
       "      <td>A706629</td>\n",
       "      <td>1</td>\n",
       "      <td>2015-07-02 09:00:00</td>\n",
       "      <td>Transfer</td>\n",
       "      <td>SCRP</td>\n",
       "      <td>Cat</td>\n",
       "      <td>1</td>\n",
       "      <td>365</td>\n",
       "      <td>81</td>\n",
       "      <td>1</td>\n",
       "      <td>0</td>\n",
       "      <td>0</td>\n",
       "      <td>1</td>\n",
       "    </tr>\n",
       "  </tbody>\n",
       "</table>\n",
       "</div>"
      ],
      "text/plain": [
       "      AnimalID  Name             DateTime OutcomeType OutcomeSubtype  \\\n",
       "26724  A702446     1  2015-05-14 11:56:00    Transfer        Partner   \n",
       "26725  A718934     1  2016-01-20 18:59:00    Transfer           SCRP   \n",
       "26726  A698128     0  2015-03-09 13:33:00    Adoption            NaN   \n",
       "26727  A677478     1  2014-04-27 12:22:00    Transfer        Partner   \n",
       "26728  A706629     1  2015-07-02 09:00:00    Transfer           SCRP   \n",
       "\n",
       "      AnimalType  SexuponOutcome  AgeuponOutcome  Breed  Color  Breed2  Type  \\\n",
       "26724        Cat               1              30     81      1       0     0   \n",
       "26725        Cat               2              90     81      1       0     0   \n",
       "26726        Dog               2            1460    146      2       0     0   \n",
       "26727        Cat               1              28     81      1       0     0   \n",
       "26728        Cat               1             365     81      1       0     0   \n",
       "\n",
       "       numCol  \n",
       "26724       1  \n",
       "26725       0  \n",
       "26726       1  \n",
       "26727       0  \n",
       "26728       1  "
      ]
     },
     "execution_count": 50,
     "metadata": {},
     "output_type": "execute_result"
    }
   ],
   "source": [
    "df.tail()"
   ]
  },
  {
   "cell_type": "markdown",
   "metadata": {},
   "source": [
    "<br><br><br><br><br><br><br><br><br><br><br><br><br><br><br><br>"
   ]
  },
  {
   "cell_type": "markdown",
   "metadata": {},
   "source": [
    "# 변수선택\n",
    "* Name, SexuponOutcome, AgeuponOutcome, Breed, Breed2(순종여부), Type(AKC 분류), Color, numCol(색의 혼합도)\n",
    "* 8개의 변수"
   ]
  },
  {
   "cell_type": "code",
   "execution_count": 51,
   "metadata": {
    "collapsed": true
   },
   "outputs": [],
   "source": [
    "X = df[['Name', 'SexuponOutcome', 'AgeuponOutcome', 'Breed', 'Type', 'Breed2', 'Color', 'numCol']]\n",
    "y = df['OutcomeType']"
   ]
  },
  {
   "cell_type": "code",
   "execution_count": 52,
   "metadata": {
    "collapsed": true
   },
   "outputs": [],
   "source": [
    "from sklearn.model_selection import train_test_split\n",
    "X_train, X_test, y_train, y_test = train_test_split(X, y, stratify=y, random_state=2)"
   ]
  },
  {
   "cell_type": "markdown",
   "metadata": {},
   "source": [
    "# Validation"
   ]
  },
  {
   "cell_type": "markdown",
   "metadata": {},
   "source": [
    "## Random forest\n",
    "* 우선 Random Forest 를 통하여 Overfitting을 예방하고\n",
    "* feature importance 기능을 통해 최종변수를 선택하고자 함"
   ]
  },
  {
   "cell_type": "code",
   "execution_count": 53,
   "metadata": {
    "collapsed": true
   },
   "outputs": [],
   "source": [
    "from sklearn.ensemble import RandomForestClassifier"
   ]
  },
  {
   "cell_type": "code",
   "execution_count": 54,
   "metadata": {},
   "outputs": [
    {
     "data": {
      "text/plain": [
       "RandomForestClassifier(bootstrap=True, class_weight=None, criterion='gini',\n",
       "            max_depth=None, max_features='auto', max_leaf_nodes=None,\n",
       "            min_impurity_split=1e-07, min_samples_leaf=1,\n",
       "            min_samples_split=2, min_weight_fraction_leaf=0.0,\n",
       "            n_estimators=300, n_jobs=-1, oob_score=False, random_state=2,\n",
       "            verbose=0, warm_start=False)"
      ]
     },
     "execution_count": 54,
     "metadata": {},
     "output_type": "execute_result"
    }
   ],
   "source": [
    "forest = RandomForestClassifier(n_estimators=300, random_state=2, n_jobs=-1)\n",
    "forest.fit(X_train, y_train)"
   ]
  },
  {
   "cell_type": "code",
   "execution_count": 55,
   "metadata": {},
   "outputs": [
    {
     "name": "stdout",
     "output_type": "stream",
     "text": [
      "Train Score: 0.7903821211214207\n",
      "Test Score : 0.6151428998952566\n"
     ]
    }
   ],
   "source": [
    "print(\"Train Score: {}\".format(forest.score(X_train, y_train)))\n",
    "print(\"Test Score : {}\".format(forest.score(X_test, y_test)))"
   ]
  },
  {
   "cell_type": "code",
   "execution_count": 56,
   "metadata": {},
   "outputs": [
    {
     "data": {
      "text/plain": [
       "Index(['Name', 'SexuponOutcome', 'AgeuponOutcome', 'Breed', 'Type', 'Breed2',\n",
       "       'Color', 'numCol'],\n",
       "      dtype='object')"
      ]
     },
     "execution_count": 56,
     "metadata": {},
     "output_type": "execute_result"
    }
   ],
   "source": [
    "X.columns"
   ]
  },
  {
   "cell_type": "code",
   "execution_count": 57,
   "metadata": {},
   "outputs": [
    {
     "data": {
      "text/plain": [
       "array([ 0.07328213,  0.2012572 ,  0.37570976,  0.18795057,  0.06817374,\n",
       "        0.01240117,  0.06071388,  0.02051154])"
      ]
     },
     "execution_count": 57,
     "metadata": {},
     "output_type": "execute_result"
    }
   ],
   "source": [
    "forest.feature_importances_"
   ]
  },
  {
   "cell_type": "markdown",
   "metadata": {},
   "source": [
    "* Breed2와 numCol은 importance가 낮아서 제외하고 다시 시도"
   ]
  },
  {
   "cell_type": "code",
   "execution_count": 58,
   "metadata": {
    "collapsed": true
   },
   "outputs": [],
   "source": [
    "X = df[['Name', 'SexuponOutcome', 'AgeuponOutcome', 'Breed', 'Type', 'Color']]\n",
    "X_train, X_test, y_train, y_test = train_test_split(X, y, stratify=y, random_state=1)"
   ]
  },
  {
   "cell_type": "code",
   "execution_count": 59,
   "metadata": {},
   "outputs": [
    {
     "data": {
      "text/plain": [
       "RandomForestClassifier(bootstrap=True, class_weight=None, criterion='gini',\n",
       "            max_depth=None, max_features='auto', max_leaf_nodes=None,\n",
       "            min_impurity_split=1e-07, min_samples_leaf=1,\n",
       "            min_samples_split=2, min_weight_fraction_leaf=0.0,\n",
       "            n_estimators=300, n_jobs=-1, oob_score=False, random_state=2,\n",
       "            verbose=0, warm_start=False)"
      ]
     },
     "execution_count": 59,
     "metadata": {},
     "output_type": "execute_result"
    }
   ],
   "source": [
    "forest = RandomForestClassifier(n_estimators=300, random_state=2, n_jobs=-1)\n",
    "forest.fit(X_train, y_train)"
   ]
  },
  {
   "cell_type": "code",
   "execution_count": 60,
   "metadata": {},
   "outputs": [
    {
     "name": "stdout",
     "output_type": "stream",
     "text": [
      "Train Score: 0.7541155342711763\n",
      "Test Score : 0.6256172377674697\n"
     ]
    }
   ],
   "source": [
    "print(\"Train Score: {}\".format(forest.score(X_train, y_train)))\n",
    "print(\"Test Score : {}\".format(forest.score(X_test, y_test)))"
   ]
  },
  {
   "cell_type": "markdown",
   "metadata": {},
   "source": [
    "* Breed2(순종여부)와 numCol(혼합색)을 제거한 뒤 기존 결과인,<br>\n",
    "    Train Score: 0.790<br>\n",
    "    Test Score : 0.615<br>\n",
    "  보다 더 정확한 결과를 도출하였음."
   ]
  },
  {
   "cell_type": "code",
   "execution_count": 61,
   "metadata": {},
   "outputs": [
    {
     "data": {
      "text/plain": [
       "Index(['Name', 'SexuponOutcome', 'AgeuponOutcome', 'Breed', 'Type', 'Color'], dtype='object')"
      ]
     },
     "execution_count": 61,
     "metadata": {},
     "output_type": "execute_result"
    }
   ],
   "source": [
    "X.columns"
   ]
  },
  {
   "cell_type": "code",
   "execution_count": 62,
   "metadata": {},
   "outputs": [
    {
     "data": {
      "text/plain": [
       "array([ 0.0814858 ,  0.22578012,  0.36808311,  0.1969575 ,  0.06690345,\n",
       "        0.06079002])"
      ]
     },
     "execution_count": 62,
     "metadata": {},
     "output_type": "execute_result"
    }
   ],
   "source": [
    "forest.feature_importances_"
   ]
  },
  {
   "cell_type": "code",
   "execution_count": 63,
   "metadata": {
    "collapsed": true
   },
   "outputs": [],
   "source": [
    "X = df[['Name' ,'SexuponOutcome', 'AgeuponOutcome', 'Breed']]\n",
    "X_train, X_test, y_train, y_test = train_test_split(X, y, stratify=y, random_state=1)"
   ]
  },
  {
   "cell_type": "code",
   "execution_count": 64,
   "metadata": {},
   "outputs": [
    {
     "data": {
      "text/plain": [
       "RandomForestClassifier(bootstrap=True, class_weight=None, criterion='gini',\n",
       "            max_depth=None, max_features='auto', max_leaf_nodes=None,\n",
       "            min_impurity_split=1e-07, min_samples_leaf=1,\n",
       "            min_samples_split=2, min_weight_fraction_leaf=0.0,\n",
       "            n_estimators=300, n_jobs=-1, oob_score=False, random_state=2,\n",
       "            verbose=0, warm_start=False)"
      ]
     },
     "execution_count": 64,
     "metadata": {},
     "output_type": "execute_result"
    }
   ],
   "source": [
    "forest = RandomForestClassifier(n_estimators=300, random_state=2, n_jobs=-1)\n",
    "forest.fit(X_train, y_train)"
   ]
  },
  {
   "cell_type": "code",
   "execution_count": 65,
   "metadata": {},
   "outputs": [
    {
     "name": "stdout",
     "output_type": "stream",
     "text": [
      "Train Score: 0.7181482590042901\n",
      "Test Score : 0.6311536734999252\n"
     ]
    }
   ],
   "source": [
    "print(\"Train Score: {}\".format(forest.score(X_train, y_train)))\n",
    "print(\"Test Score : {}\".format(forest.score(X_test, y_test)))"
   ]
  },
  {
   "cell_type": "markdown",
   "metadata": {},
   "source": [
    "* 뒤이어 Type(AKC분류)과 Color를 제거하였을 때도 Overfitting의 줄면서 Test Score가 높아짐\n",
    "* Name까지 빼보았으나, 이 경우 정확도가 낮아져 이하 4개의 변수를 최종변수로 선정<br>\n",
    "** Name, SexuponOutcome, AgeuponOutcome, Breed **"
   ]
  },
  {
   "cell_type": "markdown",
   "metadata": {},
   "source": [
    "## Classification Tree"
   ]
  },
  {
   "cell_type": "code",
   "execution_count": 66,
   "metadata": {
    "collapsed": true
   },
   "outputs": [],
   "source": [
    "from sklearn.tree import DecisionTreeClassifier\n",
    "clf = DecisionTreeClassifier(max_depth=5)"
   ]
  },
  {
   "cell_type": "code",
   "execution_count": 67,
   "metadata": {
    "collapsed": true
   },
   "outputs": [],
   "source": [
    "clf = clf.fit(X_train, y_train)"
   ]
  },
  {
   "cell_type": "code",
   "execution_count": 68,
   "metadata": {},
   "outputs": [
    {
     "name": "stdout",
     "output_type": "stream",
     "text": [
      "Train Score: 0.6292527187468822\n",
      "Test Score : 0.6335478078707167\n"
     ]
    }
   ],
   "source": [
    "print(\"Train Score: {}\".format(clf.score(X_train, y_train)))\n",
    "print(\"Test Score : {}\".format(clf.score(X_test, y_test)))"
   ]
  },
  {
   "cell_type": "markdown",
   "metadata": {},
   "source": [
    "## Bagging"
   ]
  },
  {
   "cell_type": "code",
   "execution_count": 69,
   "metadata": {
    "collapsed": true
   },
   "outputs": [],
   "source": [
    "from sklearn.ensemble import BaggingClassifier\n",
    "bagging = BaggingClassifier(DecisionTreeClassifier())"
   ]
  },
  {
   "cell_type": "code",
   "execution_count": 70,
   "metadata": {
    "scrolled": true
   },
   "outputs": [
    {
     "data": {
      "text/plain": [
       "BaggingClassifier(base_estimator=DecisionTreeClassifier(class_weight=None, criterion='gini', max_depth=None,\n",
       "            max_features=None, max_leaf_nodes=None,\n",
       "            min_impurity_split=1e-07, min_samples_leaf=1,\n",
       "            min_samples_split=2, min_weight_fraction_leaf=0.0,\n",
       "            presort=False, random_state=None, splitter='best'),\n",
       "         bootstrap=True, bootstrap_features=False, max_features=1.0,\n",
       "         max_samples=1.0, n_estimators=10, n_jobs=1, oob_score=False,\n",
       "         random_state=None, verbose=0, warm_start=False)"
      ]
     },
     "execution_count": 70,
     "metadata": {},
     "output_type": "execute_result"
    }
   ],
   "source": [
    "bagging.fit(X_train, y_train)"
   ]
  },
  {
   "cell_type": "code",
   "execution_count": 71,
   "metadata": {},
   "outputs": [
    {
     "name": "stdout",
     "output_type": "stream",
     "text": [
      "Train Score: 0.7138581263094882\n",
      "Test Score : 0.6286099057309591\n"
     ]
    }
   ],
   "source": [
    "print(\"Train Score: {}\".format(bagging.score(X_train, y_train)))\n",
    "print(\"Test Score : {}\".format(bagging.score(X_test, y_test)))"
   ]
  },
  {
   "cell_type": "markdown",
   "metadata": {},
   "source": [
    "<br><br>"
   ]
  },
  {
   "cell_type": "markdown",
   "metadata": {},
   "source": [
    "## Gradient Boosting"
   ]
  },
  {
   "cell_type": "code",
   "execution_count": 72,
   "metadata": {
    "collapsed": true
   },
   "outputs": [],
   "source": [
    "from sklearn.ensemble import GradientBoostingClassifier\n",
    "gbrt = GradientBoostingClassifier(random_state=0, learning_rate=0.05, n_estimators=300)"
   ]
  },
  {
   "cell_type": "code",
   "execution_count": 73,
   "metadata": {},
   "outputs": [
    {
     "data": {
      "text/plain": [
       "GradientBoostingClassifier(criterion='friedman_mse', init=None,\n",
       "              learning_rate=0.05, loss='deviance', max_depth=3,\n",
       "              max_features=None, max_leaf_nodes=None,\n",
       "              min_impurity_split=1e-07, min_samples_leaf=1,\n",
       "              min_samples_split=2, min_weight_fraction_leaf=0.0,\n",
       "              n_estimators=300, presort='auto', random_state=0,\n",
       "              subsample=1.0, verbose=0, warm_start=False)"
      ]
     },
     "execution_count": 73,
     "metadata": {},
     "output_type": "execute_result"
    }
   ],
   "source": [
    "gbrt.fit(X_train, y_train)"
   ]
  },
  {
   "cell_type": "code",
   "execution_count": 74,
   "metadata": {},
   "outputs": [
    {
     "name": "stdout",
     "output_type": "stream",
     "text": [
      "Train Score: 0.6599820413049985\n",
      "Test Score : 0.6522519826425258\n"
     ]
    }
   ],
   "source": [
    "print(\"Train Score: {}\".format(gbrt.score(X_train, y_train)))\n",
    "print(\"Test Score : {}\".format(gbrt.score(X_test, y_test)))"
   ]
  },
  {
   "cell_type": "code",
   "execution_count": 75,
   "metadata": {},
   "outputs": [
    {
     "data": {
      "text/plain": [
       "GradientBoostingClassifier(criterion='friedman_mse', init=None,\n",
       "              learning_rate=0.01, loss='deviance', max_depth=3,\n",
       "              max_features=None, max_leaf_nodes=None,\n",
       "              min_impurity_split=1e-07, min_samples_leaf=1,\n",
       "              min_samples_split=2, min_weight_fraction_leaf=0.0,\n",
       "              n_estimators=1000, presort='auto', random_state=0,\n",
       "              subsample=1.0, verbose=0, warm_start=False)"
      ]
     },
     "execution_count": 75,
     "metadata": {},
     "output_type": "execute_result"
    }
   ],
   "source": [
    "gbrt2 = GradientBoostingClassifier(random_state=0, learning_rate=0.01, n_estimators=1000)\n",
    "gbrt2.fit(X_train, y_train)"
   ]
  },
  {
   "cell_type": "code",
   "execution_count": 76,
   "metadata": {},
   "outputs": [
    {
     "name": "stdout",
     "output_type": "stream",
     "text": [
      "Train Score: 0.6546942033323356\n",
      "Test Score : 0.6512045488553045\n"
     ]
    }
   ],
   "source": [
    "print(\"Train Score: {}\".format(gbrt2.score(X_train, y_train)))\n",
    "print(\"Test Score : {}\".format(gbrt2.score(X_test, y_test)))"
   ]
  },
  {
   "cell_type": "markdown",
   "metadata": {},
   "source": [
    "<br><br>"
   ]
  },
  {
   "cell_type": "markdown",
   "metadata": {},
   "source": [
    "## XGBoost"
   ]
  },
  {
   "cell_type": "code",
   "execution_count": 77,
   "metadata": {},
   "outputs": [
    {
     "name": "stderr",
     "output_type": "stream",
     "text": [
      "/Library/Frameworks/Python.framework/Versions/3.6/lib/python3.6/site-packages/sklearn/cross_validation.py:44: DeprecationWarning: This module was deprecated in version 0.18 in favor of the model_selection module into which all the refactored classes and functions are moved. Also note that the interface of the new CV iterators are different from that of this module. This module will be removed in 0.20.\n",
      "  \"This module will be removed in 0.20.\", DeprecationWarning)\n"
     ]
    }
   ],
   "source": [
    "import xgboost as xgb\n",
    "xgbr = xgb.XGBClassifier(n_estimators=400)"
   ]
  },
  {
   "cell_type": "code",
   "execution_count": 78,
   "metadata": {
    "scrolled": false
   },
   "outputs": [
    {
     "data": {
      "text/plain": [
       "XGBClassifier(base_score=0.5, colsample_bylevel=1, colsample_bytree=1,\n",
       "       gamma=0, learning_rate=0.1, max_delta_step=0, max_depth=3,\n",
       "       min_child_weight=1, missing=None, n_estimators=400, nthread=-1,\n",
       "       objective='multi:softprob', reg_alpha=0, reg_lambda=1,\n",
       "       scale_pos_weight=1, seed=0, silent=True, subsample=1)"
      ]
     },
     "execution_count": 78,
     "metadata": {},
     "output_type": "execute_result"
    }
   ],
   "source": [
    "xgbr.fit(X_train, y_train)"
   ]
  },
  {
   "cell_type": "code",
   "execution_count": 79,
   "metadata": {},
   "outputs": [
    {
     "name": "stdout",
     "output_type": "stream",
     "text": [
      "Train Score: 0.660580664471715\n",
      "Test Score : 0.6555439174023642\n"
     ]
    }
   ],
   "source": [
    "print(\"Train Score: {}\".format(xgbr.score(X_train, y_train)))\n",
    "print(\"Test Score : {}\".format(xgbr.score(X_test, y_test)))"
   ]
  },
  {
   "cell_type": "code",
   "execution_count": 80,
   "metadata": {
    "scrolled": true
   },
   "outputs": [
    {
     "data": {
      "text/plain": [
       "<matplotlib.axes._subplots.AxesSubplot at 0x13aed69e8>"
      ]
     },
     "execution_count": 80,
     "metadata": {},
     "output_type": "execute_result"
    },
    {
     "data": {
      "image/png": "[encoded data removed]",
      "text/plain": [
       "<matplotlib.figure.Figure at 0x13b5c2e48>"
      ]
     },
     "metadata": {},
     "output_type": "display_data"
    }
   ],
   "source": [
    "xgb.plot_importance(xgbr)"
   ]
  },
  {
   "cell_type": "markdown",
   "metadata": {},
   "source": [
    "<br><br>"
   ]
  },
  {
   "cell_type": "markdown",
   "metadata": {},
   "source": [
    "### Gradient Boosting과 XGBoost를 최종 모델로 선정"
   ]
  },
  {
   "cell_type": "markdown",
   "metadata": {},
   "source": [
    "<br><br>"
   ]
  },
  {
   "cell_type": "markdown",
   "metadata": {},
   "source": [
    "## Cross validation\n",
    "* 두 모델 중 어떤 모델이 더 적합한 모델인가 확인이 필요\n",
    "* Shelter data는 예측해야 할 Outcome의 편차가 존재한다.\n",
    "* Cross validation과 함께 Kfold도 수행하여 편차의 발생을 확인한다."
   ]
  },
  {
   "cell_type": "code",
   "execution_count": 81,
   "metadata": {
    "collapsed": true
   },
   "outputs": [],
   "source": [
    "from sklearn.model_selection import cross_val_score"
   ]
  },
  {
   "cell_type": "code",
   "execution_count": 82,
   "metadata": {
    "collapsed": true
   },
   "outputs": [],
   "source": [
    "from sklearn.model_selection import KFold\n",
    "kfold = KFold(n_splits=5, shuffle=True, random_state=0)"
   ]
  },
  {
   "cell_type": "markdown",
   "metadata": {},
   "source": [
    "#### Gradient Boosting CV"
   ]
  },
  {
   "cell_type": "code",
   "execution_count": 83,
   "metadata": {},
   "outputs": [
    {
     "name": "stdout",
     "output_type": "stream",
     "text": [
      "[ 0.64796109  0.63786008  0.66068088  0.65787505  0.63723106]\n"
     ]
    }
   ],
   "source": [
    "scores = cross_val_score(gbrt, X, y, cv = kfold)\n",
    "print(scores)"
   ]
  },
  {
   "cell_type": "code",
   "execution_count": 84,
   "metadata": {},
   "outputs": [
    {
     "name": "stdout",
     "output_type": "stream",
     "text": [
      "[ 0.64977562  0.64204227  0.64228251  0.64359214  0.65774701]\n"
     ]
    }
   ],
   "source": [
    "scores = cross_val_score(gbrt, X, y, cv = 5)\n",
    "print(scores)"
   ]
  },
  {
   "cell_type": "markdown",
   "metadata": {},
   "source": [
    "#### XGBoost CV"
   ]
  },
  {
   "cell_type": "code",
   "execution_count": 85,
   "metadata": {},
   "outputs": [
    {
     "name": "stdout",
     "output_type": "stream",
     "text": [
      "[ 0.65151515  0.64178825  0.66068088  0.66068088  0.63854069]\n"
     ]
    }
   ],
   "source": [
    "scores = cross_val_score(xgbr, X, y, cv = kfold)\n",
    "print(scores)"
   ]
  },
  {
   "cell_type": "code",
   "execution_count": 86,
   "metadata": {},
   "outputs": [
    {
     "name": "stdout",
     "output_type": "stream",
     "text": [
      "[ 0.65351533  0.64185525  0.64434051  0.64976614  0.65681138]\n"
     ]
    }
   ],
   "source": [
    "scores = cross_val_score(xgbr, X, y, cv = 5)\n",
    "print(scores)"
   ]
  },
  {
   "cell_type": "markdown",
   "metadata": {},
   "source": [
    "<br><br><br><br><br>"
   ]
  },
  {
   "cell_type": "markdown",
   "metadata": {},
   "source": [
    "## 한 번만 더..."
   ]
  },
  {
   "cell_type": "code",
   "execution_count": 81,
   "metadata": {
    "collapsed": true
   },
   "outputs": [],
   "source": [
    "X2 = df[['Name', 'SexuponOutcome', 'AgeuponOutcome', 'Breed', 'Type']]"
   ]
  },
  {
   "cell_type": "code",
   "execution_count": 114,
   "metadata": {},
   "outputs": [
    {
     "name": "stdout",
     "output_type": "stream",
     "text": [
      "[ 0.64945754  0.63879536  0.65899738  0.65862327  0.63910196]\n"
     ]
    }
   ],
   "source": [
    "scores = cross_val_score(gbrt, X2, y, cv = kfold)\n",
    "print(scores)"
   ]
  },
  {
   "cell_type": "code",
   "execution_count": 115,
   "metadata": {
    "scrolled": false
   },
   "outputs": [
    {
     "name": "stdout",
     "output_type": "stream",
     "text": [
      "[ 0.65076693  0.64272353  0.65955855  0.66199027  0.63891487]\n"
     ]
    }
   ],
   "source": [
    "scores = cross_val_score(xgbr, X2, y, cv = kfold)\n",
    "print(scores)"
   ]
  },
  {
   "cell_type": "markdown",
   "metadata": {},
   "source": [
    "<br>\n",
    "# Test set 적용"
   ]
  },
  {
   "cell_type": "code",
   "execution_count": 50,
   "metadata": {
    "collapsed": true
   },
   "outputs": [],
   "source": [
    "test = pd.read_csv('data/test.csv')"
   ]
  },
  {
   "cell_type": "code",
   "execution_count": 51,
   "metadata": {},
   "outputs": [
    {
     "data": {
      "text/html": [
       "<div>\n",
       "<style>\n",
       "    .dataframe thead tr:only-child th {\n",
       "        text-align: right;\n",
       "    }\n",
       "\n",
       "    .dataframe thead th {\n",
       "        text-align: left;\n",
       "    }\n",
       "\n",
       "    .dataframe tbody tr th {\n",
       "        vertical-align: top;\n",
       "    }\n",
       "</style>\n",
       "<table border=\"1\" class=\"dataframe\">\n",
       "  <thead>\n",
       "    <tr style=\"text-align: right;\">\n",
       "      <th></th>\n",
       "      <th>ID</th>\n",
       "      <th>Name</th>\n",
       "      <th>DateTime</th>\n",
       "      <th>AnimalType</th>\n",
       "      <th>SexuponOutcome</th>\n",
       "      <th>AgeuponOutcome</th>\n",
       "      <th>Breed</th>\n",
       "      <th>Color</th>\n",
       "    </tr>\n",
       "  </thead>\n",
       "  <tbody>\n",
       "    <tr>\n",
       "      <th>0</th>\n",
       "      <td>1</td>\n",
       "      <td>Summer</td>\n",
       "      <td>2015-10-12 12:15:00</td>\n",
       "      <td>Dog</td>\n",
       "      <td>Intact Female</td>\n",
       "      <td>10 months</td>\n",
       "      <td>Labrador Retriever Mix</td>\n",
       "      <td>Red/White</td>\n",
       "    </tr>\n",
       "    <tr>\n",
       "      <th>1</th>\n",
       "      <td>2</td>\n",
       "      <td>Cheyenne</td>\n",
       "      <td>2014-07-26 17:59:00</td>\n",
       "      <td>Dog</td>\n",
       "      <td>Spayed Female</td>\n",
       "      <td>2 years</td>\n",
       "      <td>German Shepherd/Siberian Husky</td>\n",
       "      <td>Black/Tan</td>\n",
       "    </tr>\n",
       "    <tr>\n",
       "      <th>2</th>\n",
       "      <td>3</td>\n",
       "      <td>Gus</td>\n",
       "      <td>2016-01-13 12:20:00</td>\n",
       "      <td>Cat</td>\n",
       "      <td>Neutered Male</td>\n",
       "      <td>1 year</td>\n",
       "      <td>Domestic Shorthair Mix</td>\n",
       "      <td>Brown Tabby</td>\n",
       "    </tr>\n",
       "    <tr>\n",
       "      <th>3</th>\n",
       "      <td>4</td>\n",
       "      <td>Pongo</td>\n",
       "      <td>2013-12-28 18:12:00</td>\n",
       "      <td>Dog</td>\n",
       "      <td>Intact Male</td>\n",
       "      <td>4 months</td>\n",
       "      <td>Collie Smooth Mix</td>\n",
       "      <td>Tricolor</td>\n",
       "    </tr>\n",
       "    <tr>\n",
       "      <th>4</th>\n",
       "      <td>5</td>\n",
       "      <td>Skooter</td>\n",
       "      <td>2015-09-24 17:59:00</td>\n",
       "      <td>Dog</td>\n",
       "      <td>Neutered Male</td>\n",
       "      <td>2 years</td>\n",
       "      <td>Miniature Poodle Mix</td>\n",
       "      <td>White</td>\n",
       "    </tr>\n",
       "  </tbody>\n",
       "</table>\n",
       "</div>"
      ],
      "text/plain": [
       "   ID      Name             DateTime AnimalType SexuponOutcome AgeuponOutcome  \\\n",
       "0   1    Summer  2015-10-12 12:15:00        Dog  Intact Female      10 months   \n",
       "1   2  Cheyenne  2014-07-26 17:59:00        Dog  Spayed Female        2 years   \n",
       "2   3       Gus  2016-01-13 12:20:00        Cat  Neutered Male         1 year   \n",
       "3   4     Pongo  2013-12-28 18:12:00        Dog    Intact Male       4 months   \n",
       "4   5   Skooter  2015-09-24 17:59:00        Dog  Neutered Male        2 years   \n",
       "\n",
       "                            Breed        Color  \n",
       "0          Labrador Retriever Mix    Red/White  \n",
       "1  German Shepherd/Siberian Husky    Black/Tan  \n",
       "2          Domestic Shorthair Mix  Brown Tabby  \n",
       "3               Collie Smooth Mix     Tricolor  \n",
       "4            Miniature Poodle Mix        White  "
      ]
     },
     "execution_count": 51,
     "metadata": {},
     "output_type": "execute_result"
    }
   ],
   "source": [
    "test.head()"
   ]
  },
  {
   "cell_type": "code",
   "execution_count": 52,
   "metadata": {
    "collapsed": true
   },
   "outputs": [],
   "source": [
    "test['Name'] = test['Name'].transform(Naming)"
   ]
  },
  {
   "cell_type": "code",
   "execution_count": 53,
   "metadata": {
    "collapsed": true
   },
   "outputs": [],
   "source": [
    "test['SexuponOutcome'] = test['SexuponOutcome'].fillna('Unknown')\n",
    "test['SexuponOutcome'] = test['SexuponOutcome'].apply(intact)"
   ]
  },
  {
   "cell_type": "code",
   "execution_count": 54,
   "metadata": {
    "collapsed": true
   },
   "outputs": [],
   "source": [
    "test['AgeuponOutcome'] = test['AgeuponOutcome'].fillna('0 day')\n",
    "test['AgeuponOutcome'] = test['AgeuponOutcome'].apply(Agebyday)"
   ]
  },
  {
   "cell_type": "code",
   "execution_count": 55,
   "metadata": {
    "collapsed": true
   },
   "outputs": [],
   "source": [
    "test['Breed'] = test['Breed'].apply(breed_optimal)"
   ]
  },
  {
   "cell_type": "code",
   "execution_count": 56,
   "metadata": {
    "collapsed": true
   },
   "outputs": [],
   "source": [
    "test['Breed'] = test['Breed'].replace('Pit Bull', 'Bull Terrier')\n",
    "test['Breed'] = test['Breed'].replace('German Shepherd', 'German Shepherd Dog')\n",
    "test['Breed'] = test['Breed'].replace('Anatol Shepherd', 'Anatolian Shepherd Dog')\n",
    "test['Breed'] = test['Breed'].replace('Catahoula', 'Catahoula Cur')\n",
    "test['Breed'] = test['Breed'].replace('Staffordshire', 'American Staffordshire Terrier')\n",
    "test['Breed'] = test['Breed'].replace('Doberman Pinsch', 'Doberman Pinscher')\n",
    "test['Breed'] = test['Breed'].replace('Queensland Heeler', 'Australian Cattle Dog')\n",
    "test['Breed'] = test['Breed'].replace('Flat Coat Retriever', 'Flat-Coated Retriever')\n",
    "test['Breed'] = test['Breed'].replace('Chinese Sharpei', 'Chinese Shar Pei')\n",
    "test['Breed'] = test['Breed'].replace('Rhod Ridgeback', 'Rhodesian Ridgeback')\n",
    "test['Breed'] = test['Breed'].replace('Soft Coated Wheaten Terrier', 'Soft-Coated Wheaten Terrier')\n",
    "test['Breed'] = test['Breed'].replace('Bruss Griffon', 'Brussels Griffon')\n",
    "test['Breed'] = test['Breed'].replace('Redbone Hound', 'Redbone Coonhound')\n",
    "test['Breed'] = test['Breed'].replace('West Highland', 'West Highland White Terrier')\n",
    "test['Breed'] = test['Breed'].replace('Wire Hair Fox Terrier', 'Wire Fox Terrier')\n",
    "test['Breed'] = test['Breed'].replace('Dogo Argentino', 'Mastiff')\n",
    "test['Breed'] = test['Breed'].replace('Alaskan Husky', 'Alaskan Malamute')\n",
    "test['Breed'] = test['Breed'].replace('Pbgv', 'Petit Basset Griffon Vendeen')\n",
    "test['Breed'] = test['Breed'].replace('Chesa Bay Retr', 'Chesapeake Bay Retriever')\n",
    "test['Breed'] = test['Breed'].replace('Cavalier Span', 'Cavalier King Charles Spaniel')\n",
    "test['Breed'] = test['Breed'].replace('Dutch Shepherd', 'Dutch Shepherd Dog')\n",
    "test['Breed'] = test['Breed'].replace('English Coonhound', 'American English Coonhound')\n",
    "test['Breed'] = test['Breed'].replace('American Eskimo', 'American Eskimo Dog')\n",
    "test['Breed'] = test['Breed'].replace('Bluetick Hound', 'Bluetick Coonhound')\n",
    "test['Breed'] = test['Breed'].replace('Patterdale Terr', 'Patterdale Terrier')\n",
    "test['Breed'] = test['Breed'].replace('Chinese Crested', 'Chinese Crested Dog')\n",
    "test['Breed'] = test['Breed'].replace('Podengo Pequeno', 'Portuguese Podengo Pequeno')\n",
    "test['Breed'] = test['Breed'].replace('Dogue De Bordeaux', 'Dogue de Bordeaux')\n",
    "test['Breed'] = test['Breed'].replace('Boykin Span', 'Boykin Spaniel')\n",
    "test['Breed'] = test['Breed'].replace('Landseer', 'Newfoundland')\n",
    "test['Breed'] = test['Breed'].replace('Schnauzer Giant', 'Giant Schnauzer')\n",
    "test['Breed'] = test['Breed'].replace('Glen Of Imaal', 'Glen of Imaal Terrier')\n",
    "test['Breed'] = test['Breed'].replace('Treeing Cur', 'Treeing Walker Coonhound')\n",
    "test['Breed'] = test['Breed'].replace('Bedlington Terr', 'Bedlington Terrier')\n",
    "test['Breed'] = test['Breed'].replace('Picardy Sheepdog', 'Berger Picard')\n",
    "test['Breed'] = test['Breed'].replace('Presa Canario', 'Mastiff')\n",
    "test['Breed'] = test['Breed'].replace('Nova Scotia Duck Tolling Retriever', 'Nova Scotia Duck-Tolling Retriever')\n",
    "test['Breed'] = test['Breed'].replace('Port Water Dog', 'Portuguese Water Dog')\n",
    "test['Breed'] = test['Breed'].replace('Mexican Hairless', 'American Hairless Terrier')\n",
    "test['Breed'] = test['Breed'].replace('Treeing Tennesse Brindle', 'Treeing Walker Coonhound')\n",
    "test['Breed'] = test['Breed'].replace('Entlebucher', 'Entlebucher Mountain Dog')\n",
    "test['Breed'] = test['Breed'].replace('Sealyham Terr', 'Sealyham Terrier')\n",
    "test['Breed'] = test['Breed'].replace('Black', 'Black and Tan Coonhound')\n",
    "test['Breed'] = test['Breed'].replace('Unknown', 'Chihuahua Shorthair')"
   ]
  },
  {
   "cell_type": "code",
   "execution_count": 57,
   "metadata": {
    "collapsed": true
   },
   "outputs": [],
   "source": [
    "test = test.join(Breed.set_index('Breed'), on='Breed')"
   ]
  },
  {
   "cell_type": "code",
   "execution_count": 58,
   "metadata": {
    "collapsed": true
   },
   "outputs": [],
   "source": [
    "test['Type'] = test['Type'].fillna('Cat')"
   ]
  },
  {
   "cell_type": "code",
   "execution_count": 59,
   "metadata": {
    "scrolled": true
   },
   "outputs": [
    {
     "data": {
      "text/html": [
       "<div>\n",
       "<style>\n",
       "    .dataframe thead tr:only-child th {\n",
       "        text-align: right;\n",
       "    }\n",
       "\n",
       "    .dataframe thead th {\n",
       "        text-align: left;\n",
       "    }\n",
       "\n",
       "    .dataframe tbody tr th {\n",
       "        vertical-align: top;\n",
       "    }\n",
       "</style>\n",
       "<table border=\"1\" class=\"dataframe\">\n",
       "  <thead>\n",
       "    <tr style=\"text-align: right;\">\n",
       "      <th></th>\n",
       "      <th>ID</th>\n",
       "      <th>Name</th>\n",
       "      <th>DateTime</th>\n",
       "      <th>AnimalType</th>\n",
       "      <th>SexuponOutcome</th>\n",
       "      <th>AgeuponOutcome</th>\n",
       "      <th>Breed</th>\n",
       "      <th>Color</th>\n",
       "      <th>Type</th>\n",
       "    </tr>\n",
       "  </thead>\n",
       "  <tbody>\n",
       "    <tr>\n",
       "      <th>0</th>\n",
       "      <td>1</td>\n",
       "      <td>Named</td>\n",
       "      <td>2015-10-12 12:15:00</td>\n",
       "      <td>Dog</td>\n",
       "      <td>Female</td>\n",
       "      <td>300</td>\n",
       "      <td>Labrador Retriever</td>\n",
       "      <td>Red/White</td>\n",
       "      <td>Sporting</td>\n",
       "    </tr>\n",
       "    <tr>\n",
       "      <th>1</th>\n",
       "      <td>2</td>\n",
       "      <td>Named</td>\n",
       "      <td>2014-07-26 17:59:00</td>\n",
       "      <td>Dog</td>\n",
       "      <td>Neutered</td>\n",
       "      <td>730</td>\n",
       "      <td>German Shepherd Dog</td>\n",
       "      <td>Black/Tan</td>\n",
       "      <td>Herding</td>\n",
       "    </tr>\n",
       "    <tr>\n",
       "      <th>2</th>\n",
       "      <td>3</td>\n",
       "      <td>Named</td>\n",
       "      <td>2016-01-13 12:20:00</td>\n",
       "      <td>Cat</td>\n",
       "      <td>Neutered</td>\n",
       "      <td>365</td>\n",
       "      <td>Domestic Shorthair</td>\n",
       "      <td>Brown Tabby</td>\n",
       "      <td>Cat</td>\n",
       "    </tr>\n",
       "    <tr>\n",
       "      <th>3</th>\n",
       "      <td>4</td>\n",
       "      <td>Named</td>\n",
       "      <td>2013-12-28 18:12:00</td>\n",
       "      <td>Dog</td>\n",
       "      <td>Male</td>\n",
       "      <td>120</td>\n",
       "      <td>Collie Smooth</td>\n",
       "      <td>Tricolor</td>\n",
       "      <td>Cat</td>\n",
       "    </tr>\n",
       "    <tr>\n",
       "      <th>4</th>\n",
       "      <td>5</td>\n",
       "      <td>Named</td>\n",
       "      <td>2015-09-24 17:59:00</td>\n",
       "      <td>Dog</td>\n",
       "      <td>Neutered</td>\n",
       "      <td>730</td>\n",
       "      <td>Miniature Poodle</td>\n",
       "      <td>White</td>\n",
       "      <td>Cat</td>\n",
       "    </tr>\n",
       "  </tbody>\n",
       "</table>\n",
       "</div>"
      ],
      "text/plain": [
       "   ID   Name             DateTime AnimalType SexuponOutcome  AgeuponOutcome  \\\n",
       "0   1  Named  2015-10-12 12:15:00        Dog         Female             300   \n",
       "1   2  Named  2014-07-26 17:59:00        Dog       Neutered             730   \n",
       "2   3  Named  2016-01-13 12:20:00        Cat       Neutered             365   \n",
       "3   4  Named  2013-12-28 18:12:00        Dog           Male             120   \n",
       "4   5  Named  2015-09-24 17:59:00        Dog       Neutered             730   \n",
       "\n",
       "                 Breed        Color      Type  \n",
       "0   Labrador Retriever    Red/White  Sporting  \n",
       "1  German Shepherd Dog    Black/Tan   Herding  \n",
       "2   Domestic Shorthair  Brown Tabby       Cat  \n",
       "3        Collie Smooth     Tricolor       Cat  \n",
       "4     Miniature Poodle        White       Cat  "
      ]
     },
     "execution_count": 59,
     "metadata": {},
     "output_type": "execute_result"
    }
   ],
   "source": [
    "test.head()"
   ]
  },
  {
   "cell_type": "code",
   "execution_count": 75,
   "metadata": {
    "collapsed": true
   },
   "outputs": [],
   "source": [
    "test['Name'] = encoder.fit_transform(test['Name'])\n",
    "test['SexuponOutcome'] = encoder.fit_transform(test['SexuponOutcome'])\n",
    "test['Breed'] = encoder.fit_transform(test['Breed'])\n",
    "test['Type'] = encoder.fit_transform(test['Type'])"
   ]
  },
  {
   "cell_type": "code",
   "execution_count": 84,
   "metadata": {
    "collapsed": true
   },
   "outputs": [],
   "source": [
    "test_X = test[['Name' ,'SexuponOutcome', 'AgeuponOutcome', 'Breed']]\n",
    "test_X2 = test[['Name' ,'SexuponOutcome', 'AgeuponOutcome', 'Breed', 'Type']]"
   ]
  },
  {
   "cell_type": "code",
   "execution_count": 85,
   "metadata": {
    "collapsed": true
   },
   "outputs": [],
   "source": [
    "predict_gbrt = gbrt.predict_proba(test_X)\n",
    "predict_xgbr = xgbr.predict_proba(test_X)"
   ]
  },
  {
   "cell_type": "code",
   "execution_count": 90,
   "metadata": {
    "collapsed": true
   },
   "outputs": [],
   "source": [
    "submit_gbrt = pd.DataFrame(predict_gbrt, columns=gbrt.classes_)\n",
    "submit_xgbr = pd.DataFrame(predict_xgbr, columns=xgbr.classes_)"
   ]
  },
  {
   "cell_type": "code",
   "execution_count": 91,
   "metadata": {
    "collapsed": true
   },
   "outputs": [],
   "source": [
    "submit_gbrt.index += 1\n",
    "submit_xgbr.index += 1"
   ]
  },
  {
   "cell_type": "code",
   "execution_count": 92,
   "metadata": {},
   "outputs": [
    {
     "data": {
      "text/html": [
       "<div>\n",
       "<style>\n",
       "    .dataframe thead tr:only-child th {\n",
       "        text-align: right;\n",
       "    }\n",
       "\n",
       "    .dataframe thead th {\n",
       "        text-align: left;\n",
       "    }\n",
       "\n",
       "    .dataframe tbody tr th {\n",
       "        vertical-align: top;\n",
       "    }\n",
       "</style>\n",
       "<table border=\"1\" class=\"dataframe\">\n",
       "  <thead>\n",
       "    <tr style=\"text-align: right;\">\n",
       "      <th></th>\n",
       "      <th>Adoption</th>\n",
       "      <th>Died</th>\n",
       "      <th>Euthanasia</th>\n",
       "      <th>Return_to_owner</th>\n",
       "      <th>Transfer</th>\n",
       "    </tr>\n",
       "  </thead>\n",
       "  <tbody>\n",
       "    <tr>\n",
       "      <th>1</th>\n",
       "      <td>0.069331</td>\n",
       "      <td>0.004810</td>\n",
       "      <td>0.034315</td>\n",
       "      <td>0.172593</td>\n",
       "      <td>0.718951</td>\n",
       "    </tr>\n",
       "    <tr>\n",
       "      <th>2</th>\n",
       "      <td>0.511561</td>\n",
       "      <td>0.003153</td>\n",
       "      <td>0.024715</td>\n",
       "      <td>0.261201</td>\n",
       "      <td>0.199371</td>\n",
       "    </tr>\n",
       "    <tr>\n",
       "      <th>3</th>\n",
       "      <td>0.493624</td>\n",
       "      <td>0.002232</td>\n",
       "      <td>0.011921</td>\n",
       "      <td>0.118260</td>\n",
       "      <td>0.373962</td>\n",
       "    </tr>\n",
       "    <tr>\n",
       "      <th>4</th>\n",
       "      <td>0.084527</td>\n",
       "      <td>0.013613</td>\n",
       "      <td>0.042113</td>\n",
       "      <td>0.101671</td>\n",
       "      <td>0.758076</td>\n",
       "    </tr>\n",
       "    <tr>\n",
       "      <th>5</th>\n",
       "      <td>0.461537</td>\n",
       "      <td>0.001646</td>\n",
       "      <td>0.015391</td>\n",
       "      <td>0.349697</td>\n",
       "      <td>0.171729</td>\n",
       "    </tr>\n",
       "  </tbody>\n",
       "</table>\n",
       "</div>"
      ],
      "text/plain": [
       "   Adoption      Died  Euthanasia  Return_to_owner  Transfer\n",
       "1  0.069331  0.004810    0.034315         0.172593  0.718951\n",
       "2  0.511561  0.003153    0.024715         0.261201  0.199371\n",
       "3  0.493624  0.002232    0.011921         0.118260  0.373962\n",
       "4  0.084527  0.013613    0.042113         0.101671  0.758076\n",
       "5  0.461537  0.001646    0.015391         0.349697  0.171729"
      ]
     },
     "execution_count": 92,
     "metadata": {},
     "output_type": "execute_result"
    }
   ],
   "source": [
    "submit_gbrt.head()"
   ]
  },
  {
   "cell_type": "code",
   "execution_count": 93,
   "metadata": {},
   "outputs": [
    {
     "data": {
      "text/html": [
       "<div>\n",
       "<style>\n",
       "    .dataframe thead tr:only-child th {\n",
       "        text-align: right;\n",
       "    }\n",
       "\n",
       "    .dataframe thead th {\n",
       "        text-align: left;\n",
       "    }\n",
       "\n",
       "    .dataframe tbody tr th {\n",
       "        vertical-align: top;\n",
       "    }\n",
       "</style>\n",
       "<table border=\"1\" class=\"dataframe\">\n",
       "  <thead>\n",
       "    <tr style=\"text-align: right;\">\n",
       "      <th></th>\n",
       "      <th>Adoption</th>\n",
       "      <th>Died</th>\n",
       "      <th>Euthanasia</th>\n",
       "      <th>Return_to_owner</th>\n",
       "      <th>Transfer</th>\n",
       "    </tr>\n",
       "  </thead>\n",
       "  <tbody>\n",
       "    <tr>\n",
       "      <th>1</th>\n",
       "      <td>0.082620</td>\n",
       "      <td>0.002761</td>\n",
       "      <td>0.027416</td>\n",
       "      <td>0.169311</td>\n",
       "      <td>0.717892</td>\n",
       "    </tr>\n",
       "    <tr>\n",
       "      <th>2</th>\n",
       "      <td>0.494280</td>\n",
       "      <td>0.003576</td>\n",
       "      <td>0.025928</td>\n",
       "      <td>0.303377</td>\n",
       "      <td>0.172839</td>\n",
       "    </tr>\n",
       "    <tr>\n",
       "      <th>3</th>\n",
       "      <td>0.497590</td>\n",
       "      <td>0.001891</td>\n",
       "      <td>0.013017</td>\n",
       "      <td>0.102482</td>\n",
       "      <td>0.385020</td>\n",
       "    </tr>\n",
       "    <tr>\n",
       "      <th>4</th>\n",
       "      <td>0.129255</td>\n",
       "      <td>0.012733</td>\n",
       "      <td>0.046797</td>\n",
       "      <td>0.064167</td>\n",
       "      <td>0.747048</td>\n",
       "    </tr>\n",
       "    <tr>\n",
       "      <th>5</th>\n",
       "      <td>0.426743</td>\n",
       "      <td>0.001063</td>\n",
       "      <td>0.007294</td>\n",
       "      <td>0.399544</td>\n",
       "      <td>0.165356</td>\n",
       "    </tr>\n",
       "  </tbody>\n",
       "</table>\n",
       "</div>"
      ],
      "text/plain": [
       "   Adoption      Died  Euthanasia  Return_to_owner  Transfer\n",
       "1  0.082620  0.002761    0.027416         0.169311  0.717892\n",
       "2  0.494280  0.003576    0.025928         0.303377  0.172839\n",
       "3  0.497590  0.001891    0.013017         0.102482  0.385020\n",
       "4  0.129255  0.012733    0.046797         0.064167  0.747048\n",
       "5  0.426743  0.001063    0.007294         0.399544  0.165356"
      ]
     },
     "execution_count": 93,
     "metadata": {},
     "output_type": "execute_result"
    }
   ],
   "source": [
    "submit_xgbr.head()"
   ]
  },
  {
   "cell_type": "code",
   "execution_count": 94,
   "metadata": {
    "collapsed": true
   },
   "outputs": [],
   "source": [
    "submit_gbrt.to_csv('data/submit_gbrt.csv')\n",
    "submit_xgbr.to_csv('data/submit_xgbr.csv')"
   ]
  },
  {
   "cell_type": "markdown",
   "metadata": {},
   "source": [
    "<br><br><br><br><br><br><br><br><br><br><div style=\"text-align:center\"><span style = \" font-size:30px\">Gradient Boost : 0.86735<br><br>XGBoost : 0.86583<br><br>**850/1600**</span></div>"
   ]
  },
  {
   "cell_type": "markdown",
   "metadata": {},
   "source": [
    "<br><br><br><br><br><br><br><br><br><br><br><br><br><br><br><br><br><br><br><br><br><br>"
   ]
  },
  {
   "cell_type": "markdown",
   "metadata": {},
   "source": [
    "# 번외"
   ]
  },
  {
   "cell_type": "code",
   "execution_count": 313,
   "metadata": {
    "collapsed": true
   },
   "outputs": [],
   "source": [
    "df2 = pd.read_csv('data/train.csv')"
   ]
  },
  {
   "cell_type": "code",
   "execution_count": 317,
   "metadata": {
    "collapsed": true
   },
   "outputs": [],
   "source": [
    "def Samoyed(x):\n",
    "    if 'Samoyed' in x:\n",
    "        return 'Samoyed'"
   ]
  },
  {
   "cell_type": "code",
   "execution_count": 318,
   "metadata": {
    "collapsed": true
   },
   "outputs": [],
   "source": [
    "df2['Breed'] = df2['Breed'].apply(Samoyed)"
   ]
  },
  {
   "cell_type": "code",
   "execution_count": 326,
   "metadata": {
    "collapsed": true
   },
   "outputs": [],
   "source": [
    "Samoyed = df2[df2['Breed'] == 'Samoyed']"
   ]
  },
  {
   "cell_type": "code",
   "execution_count": 327,
   "metadata": {},
   "outputs": [
    {
     "data": {
      "text/html": [
       "<div>\n",
       "<style>\n",
       "    .dataframe thead tr:only-child th {\n",
       "        text-align: right;\n",
       "    }\n",
       "\n",
       "    .dataframe thead th {\n",
       "        text-align: left;\n",
       "    }\n",
       "\n",
       "    .dataframe tbody tr th {\n",
       "        vertical-align: top;\n",
       "    }\n",
       "</style>\n",
       "<table border=\"1\" class=\"dataframe\">\n",
       "  <thead>\n",
       "    <tr style=\"text-align: right;\">\n",
       "      <th></th>\n",
       "      <th>AnimalID</th>\n",
       "      <th>Name</th>\n",
       "      <th>DateTime</th>\n",
       "      <th>OutcomeType</th>\n",
       "      <th>OutcomeSubtype</th>\n",
       "      <th>AnimalType</th>\n",
       "      <th>SexuponOutcome</th>\n",
       "      <th>AgeuponOutcome</th>\n",
       "      <th>Breed</th>\n",
       "      <th>Color</th>\n",
       "    </tr>\n",
       "  </thead>\n",
       "  <tbody>\n",
       "    <tr>\n",
       "      <th>7652</th>\n",
       "      <td>A681923</td>\n",
       "      <td>Harley</td>\n",
       "      <td>2014-06-23 11:42:00</td>\n",
       "      <td>Return_to_owner</td>\n",
       "      <td>NaN</td>\n",
       "      <td>Dog</td>\n",
       "      <td>Neutered Male</td>\n",
       "      <td>14 years</td>\n",
       "      <td>Samoyed</td>\n",
       "      <td>White</td>\n",
       "    </tr>\n",
       "    <tr>\n",
       "      <th>17259</th>\n",
       "      <td>A696454</td>\n",
       "      <td>Polar</td>\n",
       "      <td>2015-02-19 15:55:00</td>\n",
       "      <td>Euthanasia</td>\n",
       "      <td>Suffering</td>\n",
       "      <td>Dog</td>\n",
       "      <td>Neutered Male</td>\n",
       "      <td>11 years</td>\n",
       "      <td>Samoyed</td>\n",
       "      <td>White</td>\n",
       "    </tr>\n",
       "    <tr>\n",
       "      <th>23624</th>\n",
       "      <td>A685849</td>\n",
       "      <td>NaN</td>\n",
       "      <td>2014-08-23 16:29:00</td>\n",
       "      <td>Adoption</td>\n",
       "      <td>NaN</td>\n",
       "      <td>Dog</td>\n",
       "      <td>Spayed Female</td>\n",
       "      <td>1 year</td>\n",
       "      <td>Samoyed</td>\n",
       "      <td>White</td>\n",
       "    </tr>\n",
       "  </tbody>\n",
       "</table>\n",
       "</div>"
      ],
      "text/plain": [
       "      AnimalID    Name             DateTime      OutcomeType OutcomeSubtype  \\\n",
       "7652   A681923  Harley  2014-06-23 11:42:00  Return_to_owner            NaN   \n",
       "17259  A696454   Polar  2015-02-19 15:55:00       Euthanasia      Suffering   \n",
       "23624  A685849     NaN  2014-08-23 16:29:00         Adoption            NaN   \n",
       "\n",
       "      AnimalType SexuponOutcome AgeuponOutcome    Breed  Color  \n",
       "7652         Dog  Neutered Male       14 years  Samoyed  White  \n",
       "17259        Dog  Neutered Male       11 years  Samoyed  White  \n",
       "23624        Dog  Spayed Female         1 year  Samoyed  White  "
      ]
     },
     "execution_count": 327,
     "metadata": {},
     "output_type": "execute_result"
    }
   ],
   "source": [
    "Samoyed"
   ]
  }
 ],
 "metadata": {
  "kernelspec": {
   "display_name": "Python 3",
   "language": "python",
   "name": "python3"
  },
  "language_info": {
   "codemirror_mode": {
    "name": "ipython",
    "version": 3
   },
   "file_extension": ".py",
   "mimetype": "text/x-python",
   "name": "python",
   "nbconvert_exporter": "python",
   "pygments_lexer": "ipython3",
   "version": "3.6.2"
  }
 },
 "nbformat": 4,
 "nbformat_minor": 2
}
