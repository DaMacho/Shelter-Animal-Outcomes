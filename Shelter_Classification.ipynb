{
 "cells": [
  {
   "cell_type": "code",
   "execution_count": 25,
   "metadata": {},
   "outputs": [],
   "source": [
    "import pickle\n",
    "import pandas as pd\n",
    "import numpy as np\n",
    "import matplotlib.pyplot as plt\n",
    "from sklearn.preprocessing import LabelEncoder\n",
    "from sklearn.model_selection import GridSearchCV\n",
    "from lightgbm import LGBMClassifier\n",
    "from xgboost import XGBClassifier\n",
    "from sklearn.ensemble import RandomForestClassifier, GradientBoostingClassifier\n",
    "from sklearn.model_selection import train_test_split\n",
    "from sklearn.metrics import log_loss\n",
    "%matplotlib inline"
   ]
  },
  {
   "cell_type": "markdown",
   "metadata": {},
   "source": [
    "* pkl 불러오기"
   ]
  },
  {
   "cell_type": "code",
   "execution_count": 26,
   "metadata": {
    "collapsed": true
   },
   "outputs": [],
   "source": [
    "df = pd.read_pickle('data/main.pkl')"
   ]
  },
  {
   "cell_type": "code",
   "execution_count": 27,
   "metadata": {},
   "outputs": [
    {
     "data": {
      "text/html": [
       "<div>\n",
       "<style>\n",
       "    .dataframe thead tr:only-child th {\n",
       "        text-align: right;\n",
       "    }\n",
       "\n",
       "    .dataframe thead th {\n",
       "        text-align: left;\n",
       "    }\n",
       "\n",
       "    .dataframe tbody tr th {\n",
       "        vertical-align: top;\n",
       "    }\n",
       "</style>\n",
       "<table border=\"1\" class=\"dataframe\">\n",
       "  <thead>\n",
       "    <tr style=\"text-align: right;\">\n",
       "      <th></th>\n",
       "      <th>AnimalID</th>\n",
       "      <th>Name</th>\n",
       "      <th>DateTime</th>\n",
       "      <th>OutcomeType</th>\n",
       "      <th>OutcomeSubtype</th>\n",
       "      <th>AnimalType</th>\n",
       "      <th>SexuponOutcome</th>\n",
       "      <th>AgeuponOutcome</th>\n",
       "      <th>Breed</th>\n",
       "      <th>Color</th>\n",
       "      <th>Breed2</th>\n",
       "      <th>Type</th>\n",
       "      <th>numCol</th>\n",
       "    </tr>\n",
       "  </thead>\n",
       "  <tbody>\n",
       "    <tr>\n",
       "      <th>26724</th>\n",
       "      <td>A702446</td>\n",
       "      <td>Unnamed</td>\n",
       "      <td>2015-05-14 11:56:00</td>\n",
       "      <td>Transfer</td>\n",
       "      <td>Partner</td>\n",
       "      <td>Cat</td>\n",
       "      <td>Male</td>\n",
       "      <td>30</td>\n",
       "      <td>Domestic Shorthair</td>\n",
       "      <td>dark</td>\n",
       "      <td>Mix</td>\n",
       "      <td>Cat</td>\n",
       "      <td>1</td>\n",
       "    </tr>\n",
       "    <tr>\n",
       "      <th>26725</th>\n",
       "      <td>A718934</td>\n",
       "      <td>Unnamed</td>\n",
       "      <td>2016-01-20 18:59:00</td>\n",
       "      <td>Transfer</td>\n",
       "      <td>SCRP</td>\n",
       "      <td>Cat</td>\n",
       "      <td>Neutered</td>\n",
       "      <td>90</td>\n",
       "      <td>Domestic Shorthair</td>\n",
       "      <td>dark</td>\n",
       "      <td>Mix</td>\n",
       "      <td>Cat</td>\n",
       "      <td>0</td>\n",
       "    </tr>\n",
       "    <tr>\n",
       "      <th>26726</th>\n",
       "      <td>A698128</td>\n",
       "      <td>Named</td>\n",
       "      <td>2015-03-09 13:33:00</td>\n",
       "      <td>Adoption</td>\n",
       "      <td>NaN</td>\n",
       "      <td>Dog</td>\n",
       "      <td>Neutered</td>\n",
       "      <td>1460</td>\n",
       "      <td>Old English Bulldog</td>\n",
       "      <td>light</td>\n",
       "      <td>Mix</td>\n",
       "      <td>Cat</td>\n",
       "      <td>1</td>\n",
       "    </tr>\n",
       "    <tr>\n",
       "      <th>26727</th>\n",
       "      <td>A677478</td>\n",
       "      <td>Unnamed</td>\n",
       "      <td>2014-04-27 12:22:00</td>\n",
       "      <td>Transfer</td>\n",
       "      <td>Partner</td>\n",
       "      <td>Cat</td>\n",
       "      <td>Male</td>\n",
       "      <td>28</td>\n",
       "      <td>Domestic Shorthair</td>\n",
       "      <td>dark</td>\n",
       "      <td>Mix</td>\n",
       "      <td>Cat</td>\n",
       "      <td>0</td>\n",
       "    </tr>\n",
       "    <tr>\n",
       "      <th>26728</th>\n",
       "      <td>A706629</td>\n",
       "      <td>Unnamed</td>\n",
       "      <td>2015-07-02 09:00:00</td>\n",
       "      <td>Transfer</td>\n",
       "      <td>SCRP</td>\n",
       "      <td>Cat</td>\n",
       "      <td>Male</td>\n",
       "      <td>365</td>\n",
       "      <td>Domestic Shorthair</td>\n",
       "      <td>dark</td>\n",
       "      <td>Mix</td>\n",
       "      <td>Cat</td>\n",
       "      <td>1</td>\n",
       "    </tr>\n",
       "  </tbody>\n",
       "</table>\n",
       "</div>"
      ],
      "text/plain": [
       "      AnimalID     Name             DateTime OutcomeType OutcomeSubtype  \\\n",
       "26724  A702446  Unnamed  2015-05-14 11:56:00    Transfer        Partner   \n",
       "26725  A718934  Unnamed  2016-01-20 18:59:00    Transfer           SCRP   \n",
       "26726  A698128    Named  2015-03-09 13:33:00    Adoption            NaN   \n",
       "26727  A677478  Unnamed  2014-04-27 12:22:00    Transfer        Partner   \n",
       "26728  A706629  Unnamed  2015-07-02 09:00:00    Transfer           SCRP   \n",
       "\n",
       "      AnimalType SexuponOutcome  AgeuponOutcome                Breed  Color  \\\n",
       "26724        Cat           Male              30   Domestic Shorthair   dark   \n",
       "26725        Cat       Neutered              90   Domestic Shorthair   dark   \n",
       "26726        Dog       Neutered            1460  Old English Bulldog  light   \n",
       "26727        Cat           Male              28   Domestic Shorthair   dark   \n",
       "26728        Cat           Male             365   Domestic Shorthair   dark   \n",
       "\n",
       "      Breed2 Type  numCol  \n",
       "26724    Mix  Cat       1  \n",
       "26725    Mix  Cat       0  \n",
       "26726    Mix  Cat       1  \n",
       "26727    Mix  Cat       0  \n",
       "26728    Mix  Cat       1  "
      ]
     },
     "execution_count": 27,
     "metadata": {},
     "output_type": "execute_result"
    }
   ],
   "source": [
    "df.tail()"
   ]
  },
  {
   "cell_type": "markdown",
   "metadata": {},
   "source": [
    "## 더미화"
   ]
  },
  {
   "cell_type": "code",
   "execution_count": 28,
   "metadata": {
    "collapsed": true
   },
   "outputs": [],
   "source": [
    "encoder = LabelEncoder()\n",
    "df['Name'] = encoder.fit_transform(df['Name'])\n",
    "df['SexuponOutcome'] = encoder.fit_transform(df['SexuponOutcome'])\n",
    "df['Type'] = encoder.fit_transform(df['Type'])\n",
    "df['Breed2'] = encoder.fit_transform(df['Breed2'])\n",
    "df['Color'] = encoder.fit_transform(df['Color'])\n",
    "df['Breed'] = encoder.fit_transform(df['Breed'])"
   ]
  },
  {
   "cell_type": "code",
   "execution_count": 29,
   "metadata": {
    "scrolled": true
   },
   "outputs": [
    {
     "data": {
      "text/html": [
       "<div>\n",
       "<style>\n",
       "    .dataframe thead tr:only-child th {\n",
       "        text-align: right;\n",
       "    }\n",
       "\n",
       "    .dataframe thead th {\n",
       "        text-align: left;\n",
       "    }\n",
       "\n",
       "    .dataframe tbody tr th {\n",
       "        vertical-align: top;\n",
       "    }\n",
       "</style>\n",
       "<table border=\"1\" class=\"dataframe\">\n",
       "  <thead>\n",
       "    <tr style=\"text-align: right;\">\n",
       "      <th></th>\n",
       "      <th>AnimalID</th>\n",
       "      <th>Name</th>\n",
       "      <th>DateTime</th>\n",
       "      <th>OutcomeType</th>\n",
       "      <th>OutcomeSubtype</th>\n",
       "      <th>AnimalType</th>\n",
       "      <th>SexuponOutcome</th>\n",
       "      <th>AgeuponOutcome</th>\n",
       "      <th>Breed</th>\n",
       "      <th>Color</th>\n",
       "      <th>Breed2</th>\n",
       "      <th>Type</th>\n",
       "      <th>numCol</th>\n",
       "    </tr>\n",
       "  </thead>\n",
       "  <tbody>\n",
       "    <tr>\n",
       "      <th>26724</th>\n",
       "      <td>A702446</td>\n",
       "      <td>1</td>\n",
       "      <td>2015-05-14 11:56:00</td>\n",
       "      <td>Transfer</td>\n",
       "      <td>Partner</td>\n",
       "      <td>Cat</td>\n",
       "      <td>1</td>\n",
       "      <td>30</td>\n",
       "      <td>81</td>\n",
       "      <td>1</td>\n",
       "      <td>0</td>\n",
       "      <td>0</td>\n",
       "      <td>1</td>\n",
       "    </tr>\n",
       "    <tr>\n",
       "      <th>26725</th>\n",
       "      <td>A718934</td>\n",
       "      <td>1</td>\n",
       "      <td>2016-01-20 18:59:00</td>\n",
       "      <td>Transfer</td>\n",
       "      <td>SCRP</td>\n",
       "      <td>Cat</td>\n",
       "      <td>2</td>\n",
       "      <td>90</td>\n",
       "      <td>81</td>\n",
       "      <td>1</td>\n",
       "      <td>0</td>\n",
       "      <td>0</td>\n",
       "      <td>0</td>\n",
       "    </tr>\n",
       "    <tr>\n",
       "      <th>26726</th>\n",
       "      <td>A698128</td>\n",
       "      <td>0</td>\n",
       "      <td>2015-03-09 13:33:00</td>\n",
       "      <td>Adoption</td>\n",
       "      <td>NaN</td>\n",
       "      <td>Dog</td>\n",
       "      <td>2</td>\n",
       "      <td>1460</td>\n",
       "      <td>146</td>\n",
       "      <td>2</td>\n",
       "      <td>0</td>\n",
       "      <td>0</td>\n",
       "      <td>1</td>\n",
       "    </tr>\n",
       "    <tr>\n",
       "      <th>26727</th>\n",
       "      <td>A677478</td>\n",
       "      <td>1</td>\n",
       "      <td>2014-04-27 12:22:00</td>\n",
       "      <td>Transfer</td>\n",
       "      <td>Partner</td>\n",
       "      <td>Cat</td>\n",
       "      <td>1</td>\n",
       "      <td>28</td>\n",
       "      <td>81</td>\n",
       "      <td>1</td>\n",
       "      <td>0</td>\n",
       "      <td>0</td>\n",
       "      <td>0</td>\n",
       "    </tr>\n",
       "    <tr>\n",
       "      <th>26728</th>\n",
       "      <td>A706629</td>\n",
       "      <td>1</td>\n",
       "      <td>2015-07-02 09:00:00</td>\n",
       "      <td>Transfer</td>\n",
       "      <td>SCRP</td>\n",
       "      <td>Cat</td>\n",
       "      <td>1</td>\n",
       "      <td>365</td>\n",
       "      <td>81</td>\n",
       "      <td>1</td>\n",
       "      <td>0</td>\n",
       "      <td>0</td>\n",
       "      <td>1</td>\n",
       "    </tr>\n",
       "  </tbody>\n",
       "</table>\n",
       "</div>"
      ],
      "text/plain": [
       "      AnimalID  Name             DateTime OutcomeType OutcomeSubtype  \\\n",
       "26724  A702446     1  2015-05-14 11:56:00    Transfer        Partner   \n",
       "26725  A718934     1  2016-01-20 18:59:00    Transfer           SCRP   \n",
       "26726  A698128     0  2015-03-09 13:33:00    Adoption            NaN   \n",
       "26727  A677478     1  2014-04-27 12:22:00    Transfer        Partner   \n",
       "26728  A706629     1  2015-07-02 09:00:00    Transfer           SCRP   \n",
       "\n",
       "      AnimalType  SexuponOutcome  AgeuponOutcome  Breed  Color  Breed2  Type  \\\n",
       "26724        Cat               1              30     81      1       0     0   \n",
       "26725        Cat               2              90     81      1       0     0   \n",
       "26726        Dog               2            1460    146      2       0     0   \n",
       "26727        Cat               1              28     81      1       0     0   \n",
       "26728        Cat               1             365     81      1       0     0   \n",
       "\n",
       "       numCol  \n",
       "26724       1  \n",
       "26725       0  \n",
       "26726       1  \n",
       "26727       0  \n",
       "26728       1  "
      ]
     },
     "execution_count": 29,
     "metadata": {},
     "output_type": "execute_result"
    }
   ],
   "source": [
    "df.tail()"
   ]
  },
  {
   "cell_type": "markdown",
   "metadata": {},
   "source": [
    "# 변수선택\n",
    "* Name, SexuponOutcome, AgeuponOutcome, Breed, Breed2(순종여부), Type(AKC 분류), Color, numCol(색의 혼합도)\n",
    "* 8개의 변수"
   ]
  },
  {
   "cell_type": "code",
   "execution_count": 30,
   "metadata": {
    "collapsed": true
   },
   "outputs": [],
   "source": [
    "X = df[['Name', 'SexuponOutcome', 'AgeuponOutcome', 'Breed', 'Type', 'Breed2', 'Color', 'numCol']]\n",
    "y = df['OutcomeType']"
   ]
  },
  {
   "cell_type": "code",
   "execution_count": 31,
   "metadata": {
    "collapsed": true
   },
   "outputs": [],
   "source": [
    "X_train, X_test, y_train, y_test = train_test_split(X, y, stratify=y, random_state=2)"
   ]
  },
  {
   "cell_type": "markdown",
   "metadata": {},
   "source": [
    "# Validation"
   ]
  },
  {
   "cell_type": "code",
   "execution_count": 32,
   "metadata": {
    "collapsed": true
   },
   "outputs": [],
   "source": [
    "# Cross Validation\n",
    "def model_cv(train, test, train_y, test_y, model, name):\n",
    "    model.fit(train, train_y)\n",
    "    print(name,': ',model.best_params_)\n",
    "    pred_y = model.predict_proba(test)\n",
    "    print('train score: {}'.format(model.score(train, train_y)))\n",
    "    print('test score: {}'.format(model.score(test, test_y)))\n",
    "    print('log loss: {}'.format(log_loss(test_y, pred_y)))\n",
    "    print()"
   ]
  },
  {
   "cell_type": "markdown",
   "metadata": {},
   "source": [
    "\n",
    "## Random forest\n",
    "* 우선 Random Forest 를 통하여 Overfitting을 예방하고\n",
    "* feature importance 기능을 통해 최종변수를 선택하고자 함"
   ]
  },
  {
   "cell_type": "code",
   "execution_count": 33,
   "metadata": {
    "collapsed": true
   },
   "outputs": [],
   "source": [
    "def forest(train, test, train_y, test_y):\n",
    "    param = [{'n_estimators':[100, 300, 500, 1000],\n",
    "             'criterion': ['gini', 'entropy']\n",
    "         }]\n",
    "    model = GridSearchCV(RandomForestClassifier(n_jobs=-1), param, cv=3)\n",
    "    name = 'Random forest'\n",
    "    return model_cv(train, test, train_y, test_y, model, name)"
   ]
  },
  {
   "cell_type": "code",
   "execution_count": 34,
   "metadata": {},
   "outputs": [
    {
     "name": "stdout",
     "output_type": "stream",
     "text": [
      "Random forest :  {'criterion': 'gini', 'n_estimators': 500}\n",
      "train score: 0.7903821211214207\n",
      "test score: 0.6152925332934311\n",
      "log loss: 1.5985524433051486\n",
      "\n"
     ]
    }
   ],
   "source": [
    "forest(X_train, X_test, y_train, y_test)"
   ]
  },
  {
   "cell_type": "code",
   "execution_count": 35,
   "metadata": {},
   "outputs": [
    {
     "data": {
      "text/plain": [
       "RandomForestClassifier(bootstrap=True, class_weight=None, criterion='gini',\n",
       "            max_depth=None, max_features='auto', max_leaf_nodes=None,\n",
       "            min_impurity_split=1e-07, min_samples_leaf=1,\n",
       "            min_samples_split=2, min_weight_fraction_leaf=0.0,\n",
       "            n_estimators=500, n_jobs=1, oob_score=False, random_state=0,\n",
       "            verbose=0, warm_start=False)"
      ]
     },
     "execution_count": 35,
     "metadata": {},
     "output_type": "execute_result"
    }
   ],
   "source": [
    "rf = RandomForestClassifier(n_estimators=500, random_state=0)\n",
    "rf.fit(X_train, y_train)"
   ]
  },
  {
   "cell_type": "code",
   "execution_count": 36,
   "metadata": {
    "collapsed": true
   },
   "outputs": [],
   "source": [
    "importances = rf.feature_importances_\n",
    "std = np.std([tree.feature_importances_ for tree in rf.estimators_],\n",
    "            axis=0)\n",
    "indices = np.argsort(importances)[::-1]"
   ]
  },
  {
   "cell_type": "code",
   "execution_count": 37,
   "metadata": {},
   "outputs": [
    {
     "name": "stdout",
     "output_type": "stream",
     "text": [
      "Feature ranking\n",
      "1. feature 2 (0.37494486027182794)\n",
      "2. feature 1 (0.2037480308847665)\n",
      "3. feature 3 (0.18708724538496851)\n",
      "4. feature 0 (0.072838594567809)\n",
      "5. feature 4 (0.06910777960545113)\n",
      "6. feature 6 (0.060693674196647444)\n",
      "7. feature 7 (0.019422903228117745)\n",
      "8. feature 5 (0.01215691186041181)\n"
     ]
    }
   ],
   "source": [
    "print (\"Feature ranking\")\n",
    "\n",
    "for f in range(X_train.shape[1]):\n",
    "    print('{}. feature {} ({})'.format(f+1, indices[f], importances[indices[f]]))"
   ]
  },
  {
   "cell_type": "code",
   "execution_count": 38,
   "metadata": {},
   "outputs": [
    {
     "data": {
      "image/png": "[encoded data removed]",
      "text/plain": [
       "<matplotlib.figure.Figure at 0x1274d6160>"
      ]
     },
     "metadata": {},
     "output_type": "display_data"
    }
   ],
   "source": [
    "plt.figure()\n",
    "plt.title('Feature importances')\n",
    "plt.bar(range(X_train.shape[1]), importances[indices],\n",
    "       color='r', yerr=std[indices], align='center')\n",
    "plt.xticks(range(X_train.shape[1]), indices)\n",
    "plt.xlim([-1, X_train.shape[1]])\n",
    "plt.show()"
   ]
  },
  {
   "cell_type": "code",
   "execution_count": 39,
   "metadata": {},
   "outputs": [
    {
     "data": {
      "text/plain": [
       "Index(['Name', 'SexuponOutcome', 'AgeuponOutcome', 'Breed', 'Type', 'Breed2',\n",
       "       'Color', 'numCol'],\n",
       "      dtype='object')"
      ]
     },
     "execution_count": 39,
     "metadata": {},
     "output_type": "execute_result"
    }
   ],
   "source": [
    "X_train.columns"
   ]
  },
  {
   "cell_type": "markdown",
   "metadata": {},
   "source": [
    "* Breed2와 numCol은 importance가 낮아서 제외하고 다시 시도"
   ]
  },
  {
   "cell_type": "code",
   "execution_count": 40,
   "metadata": {
    "collapsed": true
   },
   "outputs": [],
   "source": [
    "def grbc(train, test, train_y, test_y):\n",
    "    param = [{'n_estimators': [100, 300, 500],\n",
    "         'learning_rate': [0.1, 0.05, 0.01]}]\n",
    "    name = 'Gradient boosting'\n",
    "    model = GridSearchCV(GradientBoostingClassifier(), param, cv=3)\n",
    "    return model_cv(train, test, train_y, test_y, model, name)\n",
    "    \n",
    "def xgbc(train, test, train_y, test_y):\n",
    "    param = [{'n_estimators': [100, 500, 1000],\n",
    "         'learning_rate': [0.1, 0.05, 0.01],}]\n",
    "    model = GridSearchCV(XGBClassifier(), param, cv=3)\n",
    "    name = 'XGBoost'\n",
    "    return model_cv(train, test, train_y, test_y, model, name)\n",
    "\n",
    "def lgbm(train, test, train_y, test_y):\n",
    "    param = [{'n_estimators': [100, 500, 1000],\n",
    "         'learning_rate': [0.1, 0.05, 0.01]}]\n",
    "    model = GridSearchCV(LGBMClassifier(), param, cv=3)\n",
    "    name = 'LightGBM'\n",
    "    return model_cv(train, test, train_y, test_y, model, name)"
   ]
  },
  {
   "cell_type": "code",
   "execution_count": 42,
   "metadata": {
    "collapsed": true
   },
   "outputs": [],
   "source": [
    "X = df[['Name', 'SexuponOutcome', 'AgeuponOutcome', 'Breed', 'Type', 'Color']]\n",
    "X_train, X_test, y_train, y_test = train_test_split(X, y, stratify=y, random_state=1)"
   ]
  },
  {
   "cell_type": "code",
   "execution_count": 43,
   "metadata": {},
   "outputs": [
    {
     "name": "stdout",
     "output_type": "stream",
     "text": [
      "Random forest :  {'criterion': 'gini', 'n_estimators': 500}\n",
      "train score: 0.7541155342711763\n",
      "test score: 0.6283106389346103\n",
      "log loss: 1.6045357783864755\n",
      "\n",
      "LightGBM :  {'learning_rate': 0.01, 'n_estimators': 1000}\n",
      "train score: 0.672353586750474\n",
      "test score: 0.6588358521622026\n",
      "log loss: 0.8346080254590055\n",
      "\n",
      "XGBoost :  {'learning_rate': 0.1, 'n_estimators': 500}\n",
      "train score: 0.6656190761249127\n",
      "test score: 0.6527008828370492\n",
      "log loss: 0.835456480838252\n",
      "\n",
      "Gradient boosting :  {'learning_rate': 0.05, 'n_estimators': 300}\n",
      "train score: 0.6607303202633942\n",
      "test score: 0.6509052820589556\n",
      "log loss: 0.8354956467453897\n",
      "\n"
     ]
    }
   ],
   "source": [
    "forest(X_train, X_test, y_train, y_test)\n",
    "lgbm(X_train, X_test, y_train, y_test)\n",
    "xgbc(X_train, X_test, y_train, y_test)\n",
    "grbc(X_train, X_test, y_train, y_test)"
   ]
  },
  {
   "cell_type": "code",
   "execution_count": 46,
   "metadata": {
    "collapsed": true
   },
   "outputs": [],
   "source": [
    "X = df[['Name', 'SexuponOutcome', 'AgeuponOutcome', 'Breed']]\n",
    "X_train, X_test, y_train, y_test = train_test_split(X, y, stratify=y, random_state=1)"
   ]
  },
  {
   "cell_type": "code",
   "execution_count": 47,
   "metadata": {},
   "outputs": [
    {
     "name": "stdout",
     "output_type": "stream",
     "text": [
      "Random forest :  {'criterion': 'gini', 'n_estimators': 500}\n",
      "train score: 0.7181482590042901\n",
      "test score: 0.6302558731108784\n",
      "log loss: 1.6238915073271998\n",
      "\n",
      "LightGBM :  {'learning_rate': 0.01, 'n_estimators': 500}\n",
      "train score: 0.6588845654993515\n",
      "test score: 0.6540475834206195\n",
      "log loss: 0.8453237635854528\n",
      "\n",
      "XGBoost :  {'learning_rate': 0.1, 'n_estimators': 500}\n",
      "train score: 0.6645714855831587\n",
      "test score: 0.6549453838096663\n",
      "log loss: 0.8353536021444887\n",
      "\n",
      "Gradient boosting :  {'learning_rate': 0.05, 'n_estimators': 500}\n",
      "train score: 0.6657188466526988\n",
      "test score: 0.6537483166242706\n",
      "log loss: 0.8386787975551311\n",
      "\n"
     ]
    }
   ],
   "source": [
    "forest(X_train, X_test, y_train, y_test)\n",
    "lgbm(X_train, X_test, y_train, y_test)\n",
    "xgbc(X_train, X_test, y_train, y_test)\n",
    "grbc(X_train, X_test, y_train, y_test)"
   ]
  },
  {
   "cell_type": "code",
   "execution_count": 48,
   "metadata": {
    "collapsed": true
   },
   "outputs": [],
   "source": [
    "lgbm = LGBMClassifier(learning_rate=0.01, n_estimators=1000)\n",
    "xgbc = XGBClassifier(learning_rate=0.1, n_estimators=500)"
   ]
  },
  {
   "cell_type": "code",
   "execution_count": 49,
   "metadata": {},
   "outputs": [
    {
     "data": {
      "text/plain": [
       "XGBClassifier(base_score=0.5, colsample_bylevel=1, colsample_bytree=1,\n",
       "       gamma=0, learning_rate=0.1, max_delta_step=0, max_depth=3,\n",
       "       min_child_weight=1, missing=None, n_estimators=500, nthread=-1,\n",
       "       objective='multi:softprob', reg_alpha=0, reg_lambda=1,\n",
       "       scale_pos_weight=1, seed=0, silent=True, subsample=1)"
      ]
     },
     "execution_count": 49,
     "metadata": {},
     "output_type": "execute_result"
    }
   ],
   "source": [
    "lgbm.fit(X_train, y_train)\n",
    "xgbc.fit(X_train, y_train)"
   ]
  },
  {
   "cell_type": "markdown",
   "metadata": {},
   "source": [
    "# Submit"
   ]
  },
  {
   "cell_type": "code",
   "execution_count": 72,
   "metadata": {
    "collapsed": true
   },
   "outputs": [],
   "source": [
    "test = pd.read_csv('data/test.csv')"
   ]
  },
  {
   "cell_type": "code",
   "execution_count": 73,
   "metadata": {
    "collapsed": true
   },
   "outputs": [],
   "source": [
    "def Naming(x):\n",
    "    if type(x) == float:\n",
    "        return 'Unnamed'\n",
    "    else:\n",
    "        return 'Named'\n",
    "test['Name'] = test['Name'].transform(Naming)"
   ]
  },
  {
   "cell_type": "code",
   "execution_count": 74,
   "metadata": {
    "collapsed": true
   },
   "outputs": [],
   "source": [
    "def intact(x):\n",
    "    if 'Neutered' in x or 'Spayed' in x:\n",
    "        return 'Neutered'\n",
    "    elif 'Male' in x:\n",
    "        return 'Male'\n",
    "    elif 'Female' in x:\n",
    "        return 'Female'\n",
    "    else:\n",
    "        return 'Unknown'\n",
    "test['SexuponOutcome'] = test['SexuponOutcome'].fillna('Unknown')\n",
    "test['SexuponOutcome'] = test['SexuponOutcome'].apply(intact)"
   ]
  },
  {
   "cell_type": "code",
   "execution_count": 75,
   "metadata": {
    "collapsed": true
   },
   "outputs": [],
   "source": [
    "def Agebyday(x):\n",
    "    num, unit = x.split(' ')\n",
    "    if unit == 'year' or unit == 'years':\n",
    "        x = int(num) * 365\n",
    "    elif unit == 'month' or unit == 'months':\n",
    "        x = int(num) * 30\n",
    "    elif unit == 'week' or unit == 'weeks':\n",
    "        x = int(num) * 7\n",
    "    elif unit == 'day' or unit == 'days':\n",
    "        x = int(num)\n",
    "    return x\n",
    "test['AgeuponOutcome'] = test['AgeuponOutcome'].fillna('0 day')\n",
    "test['AgeuponOutcome'] = test['AgeuponOutcome'].apply(Agebyday)"
   ]
  },
  {
   "cell_type": "code",
   "execution_count": 76,
   "metadata": {
    "collapsed": true
   },
   "outputs": [],
   "source": [
    "def breed_optimal(x):\n",
    "    if '/' in x:\n",
    "        x = x[0:x.index('/')]\n",
    "        return x\n",
    "    elif ' Mix' in x:\n",
    "        x = x[0:-4]\n",
    "        return x\n",
    "    else:\n",
    "        return x\n",
    "test['Breed'] = test['Breed'].apply(breed_optimal)"
   ]
  },
  {
   "cell_type": "code",
   "execution_count": 77,
   "metadata": {
    "collapsed": true
   },
   "outputs": [],
   "source": [
    "test['Breed'] = test['Breed'].replace('Pit Bull', 'Bull Terrier')\n",
    "test['Breed'] = test['Breed'].replace('German Shepherd', 'German Shepherd Dog')\n",
    "test['Breed'] = test['Breed'].replace('Anatol Shepherd', 'Anatolian Shepherd Dog')\n",
    "test['Breed'] = test['Breed'].replace('Catahoula', 'Catahoula Cur')\n",
    "test['Breed'] = test['Breed'].replace('Staffordshire', 'American Staffordshire Terrier')\n",
    "test['Breed'] = test['Breed'].replace('Doberman Pinsch', 'Doberman Pinscher')\n",
    "test['Breed'] = test['Breed'].replace('Queensland Heeler', 'Australian Cattle Dog')\n",
    "test['Breed'] = test['Breed'].replace('Flat Coat Retriever', 'Flat-Coated Retriever')\n",
    "test['Breed'] = test['Breed'].replace('Chinese Sharpei', 'Chinese Shar Pei')\n",
    "test['Breed'] = test['Breed'].replace('Rhod Ridgeback', 'Rhodesian Ridgeback')\n",
    "test['Breed'] = test['Breed'].replace('Soft Coated Wheaten Terrier', 'Soft-Coated Wheaten Terrier')\n",
    "test['Breed'] = test['Breed'].replace('Bruss Griffon', 'Brussels Griffon')\n",
    "test['Breed'] = test['Breed'].replace('Redbone Hound', 'Redbone Coonhound')\n",
    "test['Breed'] = test['Breed'].replace('West Highland', 'West Highland White Terrier')\n",
    "test['Breed'] = test['Breed'].replace('Wire Hair Fox Terrier', 'Wire Fox Terrier')\n",
    "test['Breed'] = test['Breed'].replace('Dogo Argentino', 'Mastiff')\n",
    "test['Breed'] = test['Breed'].replace('Alaskan Husky', 'Alaskan Malamute')\n",
    "test['Breed'] = test['Breed'].replace('Pbgv', 'Petit Basset Griffon Vendeen')\n",
    "test['Breed'] = test['Breed'].replace('Chesa Bay Retr', 'Chesapeake Bay Retriever')\n",
    "test['Breed'] = test['Breed'].replace('Cavalier Span', 'Cavalier King Charles Spaniel')\n",
    "test['Breed'] = test['Breed'].replace('Dutch Shepherd', 'Dutch Shepherd Dog')\n",
    "test['Breed'] = test['Breed'].replace('English Coonhound', 'American English Coonhound')\n",
    "test['Breed'] = test['Breed'].replace('American Eskimo', 'American Eskimo Dog')\n",
    "test['Breed'] = test['Breed'].replace('Bluetick Hound', 'Bluetick Coonhound')\n",
    "test['Breed'] = test['Breed'].replace('Patterdale Terr', 'Patterdale Terrier')\n",
    "test['Breed'] = test['Breed'].replace('Chinese Crested', 'Chinese Crested Dog')\n",
    "test['Breed'] = test['Breed'].replace('Podengo Pequeno', 'Portuguese Podengo Pequeno')\n",
    "test['Breed'] = test['Breed'].replace('Dogue De Bordeaux', 'Dogue de Bordeaux')\n",
    "test['Breed'] = test['Breed'].replace('Boykin Span', 'Boykin Spaniel')\n",
    "test['Breed'] = test['Breed'].replace('Landseer', 'Newfoundland')\n",
    "test['Breed'] = test['Breed'].replace('Schnauzer Giant', 'Giant Schnauzer')\n",
    "test['Breed'] = test['Breed'].replace('Glen Of Imaal', 'Glen of Imaal Terrier')\n",
    "test['Breed'] = test['Breed'].replace('Treeing Cur', 'Treeing Walker Coonhound')\n",
    "test['Breed'] = test['Breed'].replace('Bedlington Terr', 'Bedlington Terrier')\n",
    "test['Breed'] = test['Breed'].replace('Picardy Sheepdog', 'Berger Picard')\n",
    "test['Breed'] = test['Breed'].replace('Presa Canario', 'Mastiff')\n",
    "test['Breed'] = test['Breed'].replace('Nova Scotia Duck Tolling Retriever', 'Nova Scotia Duck-Tolling Retriever')\n",
    "test['Breed'] = test['Breed'].replace('Port Water Dog', 'Portuguese Water Dog')\n",
    "test['Breed'] = test['Breed'].replace('Mexican Hairless', 'American Hairless Terrier')\n",
    "test['Breed'] = test['Breed'].replace('Treeing Tennesse Brindle', 'Treeing Walker Coonhound')\n",
    "test['Breed'] = test['Breed'].replace('Entlebucher', 'Entlebucher Mountain Dog')\n",
    "test['Breed'] = test['Breed'].replace('Sealyham Terr', 'Sealyham Terrier')\n",
    "test['Breed'] = test['Breed'].replace('Black', 'Black and Tan Coonhound')\n",
    "test['Breed'] = test['Breed'].replace('Unknown', 'Chihuahua Shorthair')"
   ]
  },
  {
   "cell_type": "code",
   "execution_count": 78,
   "metadata": {
    "collapsed": true
   },
   "outputs": [],
   "source": [
    "Breed = pd.read_csv('data/breed.csv')\n",
    "test = test.join(Breed.set_index('Breed'), on='Breed')\n",
    "test['Type'] = test['Type'].fillna('Cat')"
   ]
  },
  {
   "cell_type": "code",
   "execution_count": 79,
   "metadata": {
    "collapsed": true
   },
   "outputs": [],
   "source": [
    "test['Name'] = encoder.fit_transform(test['Name'])\n",
    "test['SexuponOutcome'] = encoder.fit_transform(test['SexuponOutcome'])\n",
    "test['Breed'] = encoder.fit_transform(test['Breed'])\n",
    "test['Type'] = encoder.fit_transform(test['Type'])"
   ]
  },
  {
   "cell_type": "code",
   "execution_count": 80,
   "metadata": {
    "collapsed": true
   },
   "outputs": [],
   "source": [
    "test_X = test[['Name' ,'SexuponOutcome', 'AgeuponOutcome', 'Breed']]"
   ]
  },
  {
   "cell_type": "code",
   "execution_count": 81,
   "metadata": {},
   "outputs": [],
   "source": [
    "pred_lgbm = lgbm.predict_proba(test_X)\n",
    "pred_xgbc = xgbc.predict_proba(test_X)\n",
    "submit_lgbm = pd.DataFrame(pred_lgbm, columns=lgbm.classes_)\n",
    "submit_xgbc = pd.DataFrame(pred_xgbc, columns=xgbc.classes_)\n",
    "id_index =  pd.DataFrame([{\"ID\": (i+1)} for i, _ in enumerate(pred_lgbm)])"
   ]
  },
  {
   "cell_type": "code",
   "execution_count": 82,
   "metadata": {},
   "outputs": [],
   "source": [
    "submit_lgbm = pd.concat([id_index, submit_lgbm], axis=1)\n",
    "submit_xgbc = pd.concat([id_index, submit_xgbc], axis=1)"
   ]
  },
  {
   "cell_type": "code",
   "execution_count": 83,
   "metadata": {},
   "outputs": [],
   "source": [
    "submit_lgbm.to_csv('data/submit_lgbm.csv', index=False)\n",
    "submit_xgbc.to_csv('data/submit_xgbc.csv', index=False)"
   ]
  },
  {
   "cell_type": "markdown",
   "metadata": {},
   "source": [
    "# Result\n",
    "* LightGBM 제출 결과, log loss 0.86108으로 838등에 해당하는 점수를 얻었음."
   ]
  }
 ],
 "metadata": {
  "kernelspec": {
   "display_name": "Python 3",
   "language": "python",
   "name": "python3"
  },
  "language_info": {
   "codemirror_mode": {
    "name": "ipython",
    "version": 3
   },
   "file_extension": ".py",
   "mimetype": "text/x-python",
   "name": "python",
   "nbconvert_exporter": "python",
   "pygments_lexer": "ipython3",
   "version": "3.6.2"
  }
 },
 "nbformat": 4,
 "nbformat_minor": 2
}
